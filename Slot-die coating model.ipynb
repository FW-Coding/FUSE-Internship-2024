{
 "cells": [
  {
   "cell_type": "code",
   "execution_count": null,
   "metadata": {},
   "outputs": [],
   "source": [
    "import pybamm\n",
    "import numpy as np\n",
    "import matplotlib.pyplot as plt\n"
   ]
  },
  {
   "cell_type": "code",
   "execution_count": null,
   "metadata": {},
   "outputs": [],
   "source": [
    "model = pybamm.BaseModel(\"height model\")\n",
    "\n",
    "# define parameters\n",
    "w = pybamm.Parameter(\"Coating width [m]\")\n",
    "\n",
    "# define variable\n",
    "h = pybamm.Variable(\"Coating thickness [m]\")\n",
    "u_w = pybamm.Variable(\"Web speed [ms-1]\")\n",
    "v = pybamm.Variable(\"Volume flow [m3s-1]\")\n",
    "\n",
    "# governing equations\n",
    "h = v / w / u_w \n"
   ]
  }
 ],
 "metadata": {
  "language_info": {
   "name": "python"
  },
  "orig_nbformat": 4
 },
 "nbformat": 4,
 "nbformat_minor": 2
}
