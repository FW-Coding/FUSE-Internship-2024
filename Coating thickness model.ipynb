{
 "cells": [
  {
   "cell_type": "code",
   "execution_count": 8,
   "metadata": {},
   "outputs": [],
   "source": [
    "import pybamm\n",
    "import numpy as np\n",
    "import matplotlib.pyplot as plt\n",
    "import string"
   ]
  },
  {
   "cell_type": "code",
   "execution_count": 17,
   "metadata": {},
   "outputs": [
    {
     "data": {
      "application/vnd.jupyter.widget-view+json": {
       "model_id": "1e9bfcc315584e988bbe27c92692dadc",
       "version_major": 2,
       "version_minor": 0
      },
      "text/plain": [
       "interactive(children=(FloatSlider(value=0.0, description='t', max=1.0, step=0.01), Output()), _dom_classes=('w…"
      ]
     },
     "metadata": {},
     "output_type": "display_data"
    },
    {
     "data": {
      "text/plain": [
       "<pybamm.plotting.quick_plot.QuickPlot at 0x15f13e580>"
      ]
     },
     "execution_count": 17,
     "metadata": {},
     "output_type": "execute_result"
    }
   ],
   "source": [
    "model = pybamm.BaseModel(\"height model\")\n",
    "\n",
    "# define parameters\n",
    "w = pybamm.Parameter(\"Coating width [m]\")\n",
    "u_w = pybamm.Parameter(\"Web speed [ms-1]\")\n",
    "v = pybamm.Parameter(\"Volume flow [m3s-1]\")\n",
    "P= pybamm.Parameter(\"Pressure [Pa]\")\n",
    "\n",
    "# define variable\n",
    "u = pybamm.Variable(\"Velocity  [ms-1]\", domain = \"coating\")\n",
    "\n",
    "\n",
    "# governing equations\n",
    "model.variables[\"Coating thickness [m]\"] = v / w / u_w\n",
    "model.variables[\"Velocity  [ms-1]\"] = u\n",
    "model.algebraic[u] = pybamm.div(pybamm.grad(u))-P\n",
    "\n",
    "model.boundary_conditions = {u: {\"left\": (1, \"Dirichlet\"), \"right\": (0, \"Dirichlet\")}}\n",
    "\n",
    "# define geometry\n",
    "r = pybamm.SpatialVariable(\n",
    "    \"r\", domain=[\"coating\"], coord_sys=\"cartesian\"\n",
    ")\n",
    "\n",
    "geometry = {\"coating\": {r: {\"min\": pybamm.Scalar(0), \"max\": pybamm.Scalar(1)}}}\n",
    "\n",
    "# mesh and discretise\n",
    "submesh_types = {\"coating\": pybamm.Uniform1DSubMesh}\n",
    "var_pts = {r: 20}\n",
    "\n",
    "\n",
    "spatial_methods = {\"coating\": pybamm.FiniteVolume()}\n",
    "\n",
    "#Add parameters\n",
    "param = pybamm.ParameterValues(\n",
    "    {\n",
    "        \"Coating width [m]\": 1,\n",
    "        \"Web speed [ms-1]\": \"[input]\",\n",
    "        \"Volume flow [m3s-1]\": 1,\n",
    "        \"Pressure [Pa]\": 1,\n",
    "    }\n",
    ")\n",
    "values = [0.5,1,1.5,2,2.5,3,3.5,4,4.5,5]\n",
    "thickness = []\n",
    "\n",
    "\n",
    "# initial conditions\n",
    "model.initial_conditions = {u: pybamm.Scalar(1)}\n",
    "\n",
    "\n",
    "sim = pybamm.Simulation(model, parameter_values=param, geometry=geometry, submesh_types=submesh_types, spatial_methods=spatial_methods, var_pts=var_pts)\n",
    "sol = sim.solve([0, 1], inputs={\"Web speed [ms-1]\":1})\n",
    "\n",
    "sim.plot([\"Velocity  [ms-1]\"])"
   ]
  },
  {
   "cell_type": "code",
   "execution_count": 1,
   "metadata": {},
   "outputs": [],
   "source": [
    "model = pybamm.BaseModel(\"height model\")\n",
    "\n",
    "# define parameters\n",
    "w = pybamm.Parameter(\"Coating width [m]\")\n",
    "u_w = pybamm.Parameter(\"Web speed [ms-1]\")\n",
    "v = pybamm.Parameter(\"Volume flow [m3s-1]\")\n",
    "P= pybamm.Parameter(\"Pressure [Pa]\")\n",
    "\n",
    "# define variable\n",
    "u = pybamm.Variable(\"Velocity  [ms-1]\", domain = \"coating\")\n",
    "\n",
    "\n",
    "# governing equations\n",
    "model.variables[\"Coating thickness [m]\"] = v / w / u_w\n",
    "model.variables[\"Velocity  [ms-1]\"] = u\n",
    "model.algebraic[u] = pybamm.div(pybamm.grad(u))-P\n",
    "\n",
    "model.boundary_conditions = {u: {\"left\": (1, \"Dirichlet\"), \"right\": (0, \"Dirichlet\")}}\n",
    "\n",
    "# define geometry\n",
    "r = pybamm.SpatialVariable(\n",
    "    \"r\", domain=[\"coating\"], coord_sys=\"cartesian\"\n",
    ")\n",
    "\n",
    "geometry = {\"coating\": {r: {\"min\": pybamm.Scalar(0), \"max\": pybamm.Scalar(1)}}}\n",
    "\n",
    "# mesh and discretise\n",
    "submesh_types = {\"coating\": pybamm.Uniform1DSubMesh}\n",
    "var_pts = {r: 20}\n",
    "\n",
    "\n",
    "spatial_methods = {\"coating\": pybamm.FiniteVolume()}\n",
    "\n",
    "#Add parameters\n",
    "param = pybamm.ParameterValues(\n",
    "    {\n",
    "        \"Coating width [m]\": 1,\n",
    "        \"Web speed [ms-1]\": 1,\n",
    "        \"Volume flow [m3s-1]\": 1,\n",
    "        \"Pressure [Pa]\": 1,\n",
    "    }\n",
    ")\n",
    "values = [0.5,1,1.5,2,2.5,3,3.5,4,4.5,5]\n",
    "thickness = []\n",
    "\n",
    "\n",
    "# initial conditions\n",
    "model.initial_conditions = {u: pybamm.Scalar(1)}\n",
    "\n",
    "values = np.linspace(0, 20, 100)\n",
    "shear_stress = []\n",
    "m_values = [0,0.1,0.5,1,5,10,20,100]\n",
    "\n",
    "\n",
    "#Plots the solution to the model over a range of shear strain values for the given m value\n",
    "for i in values:\n",
    "    sim = pybamm.Simulation(model, parameter_values=param, geometry=geometry, submesh_types=submesh_types, spatial_methods=spatial_methods, var_pts=var_pts)\n",
    "    sol = sim.solve([0, 1], inputs={\"Velocity  [ms-1]\":i})\n",
    "    shear_stress.append(sol[\"Velocity  [ms-1]\"].entries[0])\n",
    "\n",
    "plt.plot(values, shear_stress)\n",
    "shear_stress = []\n",
    "\n",
    "#Figure labels\n",
    "plt.legend()\n",
    "plt.xlabel(r\"$\\dot\\gamma$ [1/s]\")\n",
    "plt.ylabel(r\"$\\tau$ [Pa]\")\n",
    "\n",
    "#Figure caption\n",
    "#txt=\"Figure 1: Shear stress versus shear rate for a simple shear for one-dimensional analogue of an ideal Casson fluid and modified Casson-Papanastasiou fluid\"\n",
    "#plt.figtext(0.5, -0.15, txt, wrap=True, horizontalalignment='center', fontsize=12)\n",
    "\n",
    "sim.plot([\"Velocity  [ms-1]\"])"
   ]
  }
 ],
 "metadata": {
  "kernelspec": {
   "display_name": "Python 3",
   "language": "python",
   "name": "python3"
  },
  "language_info": {
   "codemirror_mode": {
    "name": "ipython",
    "version": 3
   },
   "file_extension": ".py",
   "mimetype": "text/x-python",
   "name": "python",
   "nbconvert_exporter": "python",
   "pygments_lexer": "ipython3",
   "version": "3.9.6"
  },
  "orig_nbformat": 4
 },
 "nbformat": 4,
 "nbformat_minor": 2
}
