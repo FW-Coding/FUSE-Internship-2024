{
 "cells": [
  {
   "attachments": {},
   "cell_type": "markdown",
   "metadata": {},
   "source": [
    "# Lesson 1: Running Pybamm"
   ]
  },
  {
   "attachments": {},
   "cell_type": "markdown",
   "metadata": {},
   "source": [
    "## First steps with PyBaMM"
   ]
  },
  {
   "cell_type": "code",
   "execution_count": 1,
   "metadata": {},
   "outputs": [],
   "source": [
    "import pybamm"
   ]
  },
  {
   "cell_type": "code",
   "execution_count": 3,
   "metadata": {},
   "outputs": [
    {
     "data": {
      "application/vnd.jupyter.widget-view+json": {
       "model_id": "5bf4ee1700144918bb1a00c6a21b000d",
       "version_major": 2,
       "version_minor": 0
      },
      "text/plain": [
       "interactive(children=(FloatSlider(value=0.0, description='t', max=1.0, step=0.01), Output()), _dom_classes=('w…"
      ]
     },
     "metadata": {},
     "output_type": "display_data"
    },
    {
     "data": {
      "text/plain": [
       "<pybamm.plotting.quick_plot.QuickPlot at 0x166c82d90>"
      ]
     },
     "execution_count": 3,
     "metadata": {},
     "output_type": "execute_result"
    }
   ],
   "source": [
    "model = pybamm.lithium_ion.DFN()\n",
    "simulation = pybamm.Simulation(model)\n",
    "sim = simulation.solve([0, 3600])\n",
    "sim.plot()"
   ]
  },
  {
   "attachments": {},
   "cell_type": "markdown",
   "metadata": {},
   "source": [
    "## Comparing different models"
   ]
  },
  {
   "cell_type": "code",
   "execution_count": 4,
   "metadata": {},
   "outputs": [
    {
     "data": {
      "application/vnd.jupyter.widget-view+json": {
       "model_id": "71bbf941bdea479aaf1de098d578fac1",
       "version_major": 2,
       "version_minor": 0
      },
      "text/plain": [
       "interactive(children=(FloatSlider(value=0.0, description='t', max=1.0, step=0.01), Output()), _dom_classes=('w…"
      ]
     },
     "metadata": {},
     "output_type": "display_data"
    },
    {
     "data": {
      "text/plain": [
       "<pybamm.plotting.quick_plot.QuickPlot at 0x169446f10>"
      ]
     },
     "execution_count": 4,
     "metadata": {},
     "output_type": "execute_result"
    }
   ],
   "source": [
    "models = [\n",
    "\tpybamm.lithium_ion.SPM(),\n",
    "\tpybamm.lithium_ion.SPMe(),\n",
    "\tpybamm.lithium_ion.DFN(),\n",
    "]\n",
    "\n",
    "simulations = []\n",
    "for model in models:\n",
    "\tsimulation = pybamm.Simulation(model)\n",
    "\tsimulation.solve([0, 3600])\n",
    "\tsimulations.append(simulation)\n",
    "\t\n",
    "pybamm.dynamic_plot(simulations)"
   ]
  },
  {
   "attachments": {},
   "cell_type": "markdown",
   "metadata": {},
   "source": [
    "## Basic plotting"
   ]
  },
  {
   "cell_type": "code",
   "execution_count": 5,
   "metadata": {},
   "outputs": [
    {
     "data": {
      "application/vnd.jupyter.widget-view+json": {
       "model_id": "4beeb912527e46148a30014374a723ca",
       "version_major": 2,
       "version_minor": 0
      },
      "text/plain": [
       "interactive(children=(FloatSlider(value=0.0, description='t', max=1.0, step=0.01), Output()), _dom_classes=('w…"
      ]
     },
     "metadata": {},
     "output_type": "display_data"
    },
    {
     "data": {
      "text/plain": [
       "<pybamm.plotting.quick_plot.QuickPlot at 0x16ae29850>"
      ]
     },
     "execution_count": 5,
     "metadata": {},
     "output_type": "execute_result"
    }
   ],
   "source": [
    "output_variables = [\"Voltage [V]\", \"Current [A]\"]\n",
    "simulation.plot(output_variables=output_variables)"
   ]
  },
  {
   "cell_type": "code",
   "execution_count": 6,
   "metadata": {},
   "outputs": [
    {
     "data": {
      "application/vnd.jupyter.widget-view+json": {
       "model_id": "2658aa8738274e24be1b1a224aa4d8a8",
       "version_major": 2,
       "version_minor": 0
      },
      "text/plain": [
       "interactive(children=(FloatSlider(value=0.0, description='t', max=1.0, step=0.01), Output()), _dom_classes=('w…"
      ]
     },
     "metadata": {},
     "output_type": "display_data"
    },
    {
     "data": {
      "text/plain": [
       "<pybamm.plotting.quick_plot.QuickPlot at 0x166d0f490>"
      ]
     },
     "execution_count": 6,
     "metadata": {},
     "output_type": "execute_result"
    }
   ],
   "source": [
    "output_variables = [\n",
    "\t\"Voltage [V]\", \n",
    "\t[\"Electrode current density [A.m-2]\", \"Electrolyte current density [A.m-2]\"]\n",
    "]\n",
    "simulation.plot(output_variables=output_variables)"
   ]
  },
  {
   "cell_type": "code",
   "execution_count": 7,
   "metadata": {},
   "outputs": [
    {
     "data": {
      "text/plain": [
       "['Time [s]',\n",
       " 'Time [min]',\n",
       " 'Time [h]',\n",
       " 'x [m]',\n",
       " 'x_n [m]',\n",
       " 'x_s [m]',\n",
       " 'x_p [m]',\n",
       " 'r_n [m]',\n",
       " 'r_p [m]',\n",
       " 'Current variable [A]',\n",
       " 'Total current density [A.m-2]',\n",
       " 'Current [A]',\n",
       " 'C-rate',\n",
       " 'Discharge capacity [A.h]',\n",
       " 'Throughput capacity [A.h]',\n",
       " 'Discharge energy [W.h]',\n",
       " 'Throughput energy [W.h]',\n",
       " 'Porosity',\n",
       " 'Negative electrode porosity',\n",
       " 'X-averaged negative electrode porosity',\n",
       " 'Separator porosity',\n",
       " 'X-averaged separator porosity',\n",
       " 'Positive electrode porosity',\n",
       " 'X-averaged positive electrode porosity',\n",
       " 'Porosity change',\n",
       " 'Negative electrode porosity change [s-1]',\n",
       " 'X-averaged negative electrode porosity change [s-1]',\n",
       " 'Separator porosity change [s-1]',\n",
       " 'X-averaged separator porosity change [s-1]',\n",
       " 'Positive electrode porosity change [s-1]',\n",
       " 'X-averaged positive electrode porosity change [s-1]',\n",
       " 'Negative electrode interface utilisation variable',\n",
       " 'X-averaged negative electrode interface utilisation variable',\n",
       " 'Negative electrode interface utilisation',\n",
       " 'X-averaged negative electrode interface utilisation',\n",
       " 'Positive electrode interface utilisation variable',\n",
       " 'X-averaged positive electrode interface utilisation variable',\n",
       " 'Positive electrode interface utilisation',\n",
       " 'X-averaged positive electrode interface utilisation',\n",
       " 'Negative particle crack length [m]',\n",
       " 'X-averaged negative particle crack length [m]',\n",
       " 'Negative particle cracking rate [m.s-1]',\n",
       " 'X-averaged negative particle cracking rate [m.s-1]',\n",
       " 'Positive particle crack length [m]',\n",
       " 'X-averaged positive particle crack length [m]',\n",
       " 'Positive particle cracking rate [m.s-1]',\n",
       " 'X-averaged positive particle cracking rate [m.s-1]',\n",
       " 'Negative electrode active material volume fraction',\n",
       " 'X-averaged negative electrode active material volume fraction',\n",
       " 'Negative electrode capacity [A.h]',\n",
       " 'Negative particle radius',\n",
       " 'Negative particle radius [m]',\n",
       " 'X-averaged negative particle radius [m]',\n",
       " 'Negative electrode surface area to volume ratio [m-1]',\n",
       " 'X-averaged negative electrode surface area to volume ratio [m-1]',\n",
       " 'Negative electrode active material volume fraction change [s-1]',\n",
       " 'X-averaged negative electrode active material volume fraction change [s-1]',\n",
       " 'Loss of lithium due to loss of active material in negative electrode [mol]',\n",
       " 'Positive electrode active material volume fraction',\n",
       " 'X-averaged positive electrode active material volume fraction',\n",
       " 'Positive electrode capacity [A.h]',\n",
       " 'Positive particle radius',\n",
       " 'Positive particle radius [m]',\n",
       " 'X-averaged positive particle radius [m]',\n",
       " 'Positive electrode surface area to volume ratio [m-1]',\n",
       " 'X-averaged positive electrode surface area to volume ratio [m-1]',\n",
       " 'Positive electrode active material volume fraction change [s-1]',\n",
       " 'X-averaged positive electrode active material volume fraction change [s-1]',\n",
       " 'Loss of lithium due to loss of active material in positive electrode [mol]',\n",
       " 'Separator pressure [Pa]',\n",
       " 'X-averaged separator pressure [Pa]',\n",
       " 'negative electrode transverse volume-averaged velocity [m.s-1]',\n",
       " 'X-averaged negative electrode transverse volume-averaged velocity [m.s-1]',\n",
       " 'separator transverse volume-averaged velocity [m.s-1]',\n",
       " 'X-averaged separator transverse volume-averaged velocity [m.s-1]',\n",
       " 'positive electrode transverse volume-averaged velocity [m.s-1]',\n",
       " 'X-averaged positive electrode transverse volume-averaged velocity [m.s-1]',\n",
       " 'Transverse volume-averaged velocity [m.s-1]',\n",
       " 'negative electrode transverse volume-averaged acceleration [m.s-2]',\n",
       " 'X-averaged negative electrode transverse volume-averaged acceleration [m.s-2]',\n",
       " 'separator transverse volume-averaged acceleration [m.s-2]',\n",
       " 'X-averaged separator transverse volume-averaged acceleration [m.s-2]',\n",
       " 'positive electrode transverse volume-averaged acceleration [m.s-2]',\n",
       " 'X-averaged positive electrode transverse volume-averaged acceleration [m.s-2]',\n",
       " 'Transverse volume-averaged acceleration [m.s-2]',\n",
       " 'Negative electrode volume-averaged velocity [m.s-1]',\n",
       " 'Negative electrode volume-averaged acceleration [m.s-2]',\n",
       " 'X-averaged negative electrode volume-averaged acceleration [m.s-2]',\n",
       " 'Negative electrode pressure [Pa]',\n",
       " 'X-averaged negative electrode pressure [Pa]',\n",
       " 'Positive electrode volume-averaged velocity [m.s-1]',\n",
       " 'Positive electrode volume-averaged acceleration [m.s-2]',\n",
       " 'X-averaged positive electrode volume-averaged acceleration [m.s-2]',\n",
       " 'Positive electrode pressure [Pa]',\n",
       " 'X-averaged positive electrode pressure [Pa]',\n",
       " 'Negative particle concentration [mol.m-3]',\n",
       " 'X-averaged negative particle concentration [mol.m-3]',\n",
       " 'R-averaged negative particle concentration [mol.m-3]',\n",
       " 'Average negative particle concentration [mol.m-3]',\n",
       " 'Negative particle surface concentration [mol.m-3]',\n",
       " 'X-averaged negative particle surface concentration [mol.m-3]',\n",
       " 'Minimum negative particle concentration [mol.m-3]',\n",
       " 'Maximum negative particle concentration [mol.m-3]',\n",
       " 'Minimum negative particle Minimum negative particle surface concentration [mol.m-3]',\n",
       " 'Maximum negative particle surface concentration [mol.m-3]',\n",
       " 'Negative particle concentration',\n",
       " 'X-averaged negative particle concentration',\n",
       " 'R-averaged negative particle concentration',\n",
       " 'Average negative particle concentration',\n",
       " 'Negative particle surface concentration',\n",
       " 'X-averaged negative particle surface concentration',\n",
       " 'Minimum negative particle concentration',\n",
       " 'Maximum negative particle concentration',\n",
       " 'Minimum negative particle surface concentration',\n",
       " 'Maximum negative particle surface concentration',\n",
       " 'Negative particle stoichiometry',\n",
       " 'X-averaged negative particle stoichiometry',\n",
       " 'R-averaged negative particle stoichiometry',\n",
       " 'Average negative particle stoichiometry',\n",
       " 'Negative particle surface stoichiometry',\n",
       " 'X-averaged negative particle surface stoichiometry',\n",
       " 'Minimum negative particle stoichiometry',\n",
       " 'Maximum negative particle stoichiometry',\n",
       " 'Minimum negative particle surface stoichiometry',\n",
       " 'Maximum negative particle surface stoichiometry',\n",
       " 'Negative electrode extent of lithiation',\n",
       " 'X-averaged negative electrode extent of lithiation',\n",
       " 'Positive particle concentration [mol.m-3]',\n",
       " 'X-averaged positive particle concentration [mol.m-3]',\n",
       " 'R-averaged positive particle concentration [mol.m-3]',\n",
       " 'Average positive particle concentration [mol.m-3]',\n",
       " 'Positive particle surface concentration [mol.m-3]',\n",
       " 'X-averaged positive particle surface concentration [mol.m-3]',\n",
       " 'Minimum positive particle concentration [mol.m-3]',\n",
       " 'Maximum positive particle concentration [mol.m-3]',\n",
       " 'Minimum positive particle Minimum positive particle surface concentration [mol.m-3]',\n",
       " 'Maximum positive particle surface concentration [mol.m-3]',\n",
       " 'Positive particle concentration',\n",
       " 'X-averaged positive particle concentration',\n",
       " 'R-averaged positive particle concentration',\n",
       " 'Average positive particle concentration',\n",
       " 'Positive particle surface concentration',\n",
       " 'X-averaged positive particle surface concentration',\n",
       " 'Minimum positive particle concentration',\n",
       " 'Maximum positive particle concentration',\n",
       " 'Minimum positive particle surface concentration',\n",
       " 'Maximum positive particle surface concentration',\n",
       " 'Positive particle stoichiometry',\n",
       " 'X-averaged positive particle stoichiometry',\n",
       " 'R-averaged positive particle stoichiometry',\n",
       " 'Average positive particle stoichiometry',\n",
       " 'Positive particle surface stoichiometry',\n",
       " 'X-averaged positive particle surface stoichiometry',\n",
       " 'Minimum positive particle stoichiometry',\n",
       " 'Maximum positive particle stoichiometry',\n",
       " 'Minimum positive particle surface stoichiometry',\n",
       " 'Maximum positive particle surface stoichiometry',\n",
       " 'Positive electrode extent of lithiation',\n",
       " 'X-averaged positive electrode extent of lithiation',\n",
       " 'Negative electrode potential [V]',\n",
       " 'X-averaged negative electrode potential [V]',\n",
       " 'Negative electrode ohmic losses [V]',\n",
       " 'X-averaged negative electrode ohmic losses [V]',\n",
       " 'Gradient of negative electrode potential [V.m-1]',\n",
       " 'Positive electrode potential [V]',\n",
       " 'X-averaged positive electrode potential [V]',\n",
       " 'Positive electrode ohmic losses [V]',\n",
       " 'X-averaged positive electrode ohmic losses [V]',\n",
       " 'Gradient of positive electrode potential [V.m-1]',\n",
       " 'Porosity times concentration [mol.m-3]',\n",
       " 'Negative electrode porosity times concentration [mol.m-3]',\n",
       " 'Separator porosity times concentration [mol.m-3]',\n",
       " 'Positive electrode porosity times concentration [mol.m-3]',\n",
       " 'Total lithium in electrolyte [mol]',\n",
       " 'Electrolyte potential [V]',\n",
       " 'X-averaged electrolyte potential [V]',\n",
       " 'X-averaged electrolyte overpotential [V]',\n",
       " 'Gradient of electrolyte potential [V.m-1]',\n",
       " 'Negative electrolyte potential [V]',\n",
       " 'X-averaged negative electrolyte potential [V]',\n",
       " 'Gradient of negative electrolyte potential [V.m-1]',\n",
       " 'Separator electrolyte potential [V]',\n",
       " 'X-averaged separator electrolyte potential [V]',\n",
       " 'Gradient of separator electrolyte potential [V.m-1]',\n",
       " 'Positive electrolyte potential [V]',\n",
       " 'X-averaged positive electrolyte potential [V]',\n",
       " 'Gradient of positive electrolyte potential [V.m-1]',\n",
       " 'Ambient temperature [K]',\n",
       " 'Volume-averaged ambient temperature [K]',\n",
       " 'Cell temperature [K]',\n",
       " 'Negative current collector temperature [K]',\n",
       " 'Positive current collector temperature [K]',\n",
       " 'X-averaged cell temperature [K]',\n",
       " 'Volume-averaged cell temperature [K]',\n",
       " 'Negative electrode temperature [K]',\n",
       " 'X-averaged negative electrode temperature [K]',\n",
       " 'Separator temperature [K]',\n",
       " 'X-averaged separator temperature [K]',\n",
       " 'Positive electrode temperature [K]',\n",
       " 'X-averaged positive electrode temperature [K]',\n",
       " 'Ambient temperature [C]',\n",
       " 'Volume-averaged ambient temperature [C]',\n",
       " 'Cell temperature [C]',\n",
       " 'Negative current collector temperature [C]',\n",
       " 'Positive current collector temperature [C]',\n",
       " 'X-averaged cell temperature [C]',\n",
       " 'Volume-averaged cell temperature [C]',\n",
       " 'Negative electrode temperature [C]',\n",
       " 'X-averaged negative electrode temperature [C]',\n",
       " 'Separator temperature [C]',\n",
       " 'X-averaged separator temperature [C]',\n",
       " 'Positive electrode temperature [C]',\n",
       " 'X-averaged positive electrode temperature [C]',\n",
       " 'Negative current collector potential [V]',\n",
       " 'Negative inner SEI thickness [m]',\n",
       " 'Negative outer SEI thickness [m]',\n",
       " 'X-averaged negative inner SEI thickness [m]',\n",
       " 'X-averaged negative outer SEI thickness [m]',\n",
       " 'Negative SEI [m]',\n",
       " 'Negative total SEI thickness [m]',\n",
       " 'X-averaged negative SEI thickness [m]',\n",
       " 'X-averaged negative total SEI thickness [m]',\n",
       " 'X-averaged negative electrode resistance [Ohm.m2]',\n",
       " 'Negative electrode inner SEI interfacial current density [A.m-2]',\n",
       " 'X-averaged negative electrode inner SEI interfacial current density [A.m-2]',\n",
       " 'Negative electrode outer SEI interfacial current density [A.m-2]',\n",
       " 'X-averaged negative electrode outer SEI interfacial current density [A.m-2]',\n",
       " 'Negative electrode SEI interfacial current density [A.m-2]',\n",
       " 'X-averaged negative electrode SEI interfacial current density [A.m-2]',\n",
       " 'Positive inner SEI thickness [m]',\n",
       " 'Positive outer SEI thickness [m]',\n",
       " 'X-averaged positive inner SEI thickness [m]',\n",
       " 'X-averaged positive outer SEI thickness [m]',\n",
       " 'Positive SEI [m]',\n",
       " 'Positive total SEI thickness [m]',\n",
       " 'X-averaged positive SEI thickness [m]',\n",
       " 'X-averaged positive total SEI thickness [m]',\n",
       " 'X-averaged positive electrode resistance [Ohm.m2]',\n",
       " 'Positive electrode inner SEI interfacial current density [A.m-2]',\n",
       " 'X-averaged positive electrode inner SEI interfacial current density [A.m-2]',\n",
       " 'Positive electrode outer SEI interfacial current density [A.m-2]',\n",
       " 'X-averaged positive electrode outer SEI interfacial current density [A.m-2]',\n",
       " 'Positive electrode SEI interfacial current density [A.m-2]',\n",
       " 'X-averaged positive electrode SEI interfacial current density [A.m-2]',\n",
       " 'Negative inner SEI on cracks thickness [m]',\n",
       " 'Negative outer SEI on cracks thickness [m]',\n",
       " 'X-averaged negative inner SEI on cracks thickness [m]',\n",
       " 'X-averaged negative outer SEI on cracks thickness [m]',\n",
       " 'Negative SEI on cracks [m]',\n",
       " 'Negative total SEI on cracks thickness [m]',\n",
       " 'X-averaged negative SEI on cracks thickness [m]',\n",
       " 'X-averaged negative total SEI on cracks thickness [m]',\n",
       " 'Negative electrode inner SEI on cracks interfacial current density [A.m-2]',\n",
       " 'X-averaged negative electrode inner SEI on cracks interfacial current density [A.m-2]',\n",
       " 'Negative electrode outer SEI on cracks interfacial current density [A.m-2]',\n",
       " 'X-averaged negative electrode outer SEI on cracks interfacial current density [A.m-2]',\n",
       " 'Negative electrode SEI on cracks interfacial current density [A.m-2]',\n",
       " 'X-averaged negative electrode SEI on cracks interfacial current density [A.m-2]',\n",
       " 'Positive inner SEI on cracks thickness [m]',\n",
       " 'Positive outer SEI on cracks thickness [m]',\n",
       " 'X-averaged positive inner SEI on cracks thickness [m]',\n",
       " 'X-averaged positive outer SEI on cracks thickness [m]',\n",
       " 'Positive SEI on cracks [m]',\n",
       " 'Positive total SEI on cracks thickness [m]',\n",
       " 'X-averaged positive SEI on cracks thickness [m]',\n",
       " 'X-averaged positive total SEI on cracks thickness [m]',\n",
       " 'Positive electrode inner SEI on cracks interfacial current density [A.m-2]',\n",
       " 'X-averaged positive electrode inner SEI on cracks interfacial current density [A.m-2]',\n",
       " 'Positive electrode outer SEI on cracks interfacial current density [A.m-2]',\n",
       " 'X-averaged positive electrode outer SEI on cracks interfacial current density [A.m-2]',\n",
       " 'Positive electrode SEI on cracks interfacial current density [A.m-2]',\n",
       " 'X-averaged positive electrode SEI on cracks interfacial current density [A.m-2]',\n",
       " 'Negative lithium plating concentration [mol.m-3]',\n",
       " 'X-averaged negative lithium plating concentration [mol.m-3]',\n",
       " 'Negative dead lithium concentration [mol.m-3]',\n",
       " 'X-averaged negative dead lithium concentration [mol.m-3]',\n",
       " 'Negative lithium plating thickness [m]',\n",
       " 'X-averaged negative lithium plating thickness [m]',\n",
       " 'Negative dead lithium thickness [m]',\n",
       " 'X-averaged negative dead lithium thickness [m]',\n",
       " 'Loss of lithium to negative lithium plating [mol]',\n",
       " 'Loss of capacity to negative lithium plating [A.h]',\n",
       " 'Negative electrode lithium plating reaction overpotential [V]',\n",
       " 'X-averaged negative electrode lithium plating reaction overpotential [V]',\n",
       " 'Negative lithium plating interfacial current density [A.m-2]',\n",
       " 'X-averaged negative lithium plating interfacial current density [A.m-2]',\n",
       " 'Positive lithium plating concentration [mol.m-3]',\n",
       " 'X-averaged positive lithium plating concentration [mol.m-3]',\n",
       " 'Positive dead lithium concentration [mol.m-3]',\n",
       " 'X-averaged positive dead lithium concentration [mol.m-3]',\n",
       " 'Positive lithium plating thickness [m]',\n",
       " 'X-averaged positive lithium plating thickness [m]',\n",
       " 'Positive dead lithium thickness [m]',\n",
       " 'X-averaged positive dead lithium thickness [m]',\n",
       " 'Loss of lithium to positive lithium plating [mol]',\n",
       " 'Loss of capacity to positive lithium plating [A.h]',\n",
       " 'Positive electrode lithium plating reaction overpotential [V]',\n",
       " 'X-averaged positive electrode lithium plating reaction overpotential [V]',\n",
       " 'Positive lithium plating interfacial current density [A.m-2]',\n",
       " 'X-averaged positive lithium plating interfacial current density [A.m-2]',\n",
       " 'Negative crack surface to volume ratio [m-1]',\n",
       " 'Negative electrode roughness ratio',\n",
       " 'X-averaged negative electrode roughness ratio',\n",
       " 'Positive crack surface to volume ratio [m-1]',\n",
       " 'Positive electrode roughness ratio',\n",
       " 'X-averaged positive electrode roughness ratio',\n",
       " 'Electrolyte transport efficiency',\n",
       " 'Negative electrolyte transport efficiency',\n",
       " 'X-averaged negative electrolyte transport efficiency',\n",
       " 'Separator electrolyte transport efficiency',\n",
       " 'X-averaged separator electrolyte transport efficiency',\n",
       " 'Positive electrolyte transport efficiency',\n",
       " 'X-averaged positive electrolyte transport efficiency',\n",
       " 'Electrode transport efficiency',\n",
       " 'Negative electrode transport efficiency',\n",
       " 'X-averaged negative electrode transport efficiency',\n",
       " 'Separator electrode transport efficiency',\n",
       " 'X-averaged separator electrode transport efficiency',\n",
       " 'Positive electrode transport efficiency',\n",
       " 'X-averaged positive electrode transport efficiency',\n",
       " 'Separator volume-averaged velocity [m.s-1]',\n",
       " 'Separator volume-averaged acceleration [m.s-2]',\n",
       " 'X-averaged separator volume-averaged acceleration [m.s-2]',\n",
       " 'Volume-averaged velocity [m.s-1]',\n",
       " 'Volume-averaged acceleration [m.s-1]',\n",
       " 'X-averaged volume-averaged acceleration [m.s-1]',\n",
       " 'Pressure [Pa]',\n",
       " 'Negative electrode stoichiometry',\n",
       " 'Negative electrode volume-averaged concentration',\n",
       " 'Negative electrode volume-averaged concentration [mol.m-3]',\n",
       " 'Total lithium in primary phase in negative electrode [mol]',\n",
       " 'Positive electrode stoichiometry',\n",
       " 'Positive electrode volume-averaged concentration',\n",
       " 'Positive electrode volume-averaged concentration [mol.m-3]',\n",
       " 'Total lithium in primary phase in positive electrode [mol]',\n",
       " 'Negative electrode effective conductivity',\n",
       " 'Negative electrode current density [A.m-2]',\n",
       " 'Positive electrode effective conductivity',\n",
       " 'Positive electrode current density [A.m-2]',\n",
       " 'Electrode current density [A.m-2]',\n",
       " 'Positive current collector potential [V]',\n",
       " 'Local voltage [V]',\n",
       " 'Terminal voltage [V]',\n",
       " 'Voltage [V]',\n",
       " 'Contact overpotential [V]',\n",
       " 'Electrolyte concentration concatenation [mol.m-3]',\n",
       " 'Negative electrolyte concentration [mol.m-3]',\n",
       " 'X-averaged negative electrolyte concentration [mol.m-3]',\n",
       " 'Separator electrolyte concentration [mol.m-3]',\n",
       " 'X-averaged separator electrolyte concentration [mol.m-3]',\n",
       " 'Positive electrolyte concentration [mol.m-3]',\n",
       " 'X-averaged positive electrolyte concentration [mol.m-3]',\n",
       " 'Negative electrolyte concentration [Molar]',\n",
       " 'X-averaged negative electrolyte concentration [Molar]',\n",
       " 'Separator electrolyte concentration [Molar]',\n",
       " 'X-averaged separator electrolyte concentration [Molar]',\n",
       " 'Positive electrolyte concentration [Molar]',\n",
       " 'X-averaged positive electrolyte concentration [Molar]',\n",
       " 'Electrolyte concentration [mol.m-3]',\n",
       " 'X-averaged electrolyte concentration [mol.m-3]',\n",
       " 'Electrolyte concentration [Molar]',\n",
       " 'X-averaged electrolyte concentration [Molar]',\n",
       " 'Electrolyte current density [A.m-2]',\n",
       " 'X-averaged concentration overpotential [V]',\n",
       " 'X-averaged electrolyte ohmic losses [V]',\n",
       " 'Negative electrode surface potential difference [V]',\n",
       " 'Negative electrode surface potential difference at separator interface [V]',\n",
       " 'X-averaged negative electrode surface potential difference [V]',\n",
       " 'Positive electrode surface potential difference [V]',\n",
       " 'Positive electrode surface potential difference at separator interface [V]',\n",
       " 'X-averaged positive electrode surface potential difference [V]',\n",
       " 'Ohmic heating [W.m-3]',\n",
       " 'X-averaged Ohmic heating [W.m-3]',\n",
       " 'Volume-averaged Ohmic heating [W.m-3]',\n",
       " 'Ohmic heating per unit electrode-pair area [W.m-2]',\n",
       " 'Ohmic heating [W]',\n",
       " 'Irreversible electrochemical heating [W.m-3]',\n",
       " 'X-averaged irreversible electrochemical heating [W.m-3]',\n",
       " 'Volume-averaged irreversible electrochemical heating [W.m-3]',\n",
       " 'Irreversible electrochemical heating per unit electrode-pair area [W.m-2]',\n",
       " 'Irreversible electrochemical heating [W]',\n",
       " 'Reversible heating [W.m-3]',\n",
       " 'X-averaged reversible heating [W.m-3]',\n",
       " 'Volume-averaged reversible heating [W.m-3]',\n",
       " 'Reversible heating per unit electrode-pair area [W.m-2]',\n",
       " 'Reversible heating [W]',\n",
       " 'Total heating [W.m-3]',\n",
       " 'X-averaged total heating [W.m-3]',\n",
       " 'Volume-averaged total heating [W.m-3]',\n",
       " 'Total heating per unit electrode-pair area [W.m-2]',\n",
       " 'Total heating [W]',\n",
       " 'Negative current collector Ohmic heating [W.m-3]',\n",
       " 'Positive current collector Ohmic heating [W.m-3]',\n",
       " 'Current collector current density [A.m-2]',\n",
       " 'Negative inner SEI concentration [mol.m-3]',\n",
       " 'X-averaged negative inner SEI concentration [mol.m-3]',\n",
       " 'Negative outer SEI concentration [mol.m-3]',\n",
       " 'X-averaged negative outer SEI concentration [mol.m-3]',\n",
       " 'Negative SEI concentration [mol.m-3]',\n",
       " 'X-averaged negative SEI concentration [mol.m-3]',\n",
       " 'Loss of lithium to negative SEI [mol]',\n",
       " 'Loss of capacity to negative SEI [A.h]',\n",
       " 'Negative electrode SEI volumetric interfacial current density [A.m-3]',\n",
       " 'X-averaged negative electrode SEI volumetric interfacial current density [A.m-3]',\n",
       " 'Positive inner SEI concentration [mol.m-3]',\n",
       " 'X-averaged positive inner SEI concentration [mol.m-3]',\n",
       " 'Positive outer SEI concentration [mol.m-3]',\n",
       " 'X-averaged positive outer SEI concentration [mol.m-3]',\n",
       " 'Positive SEI concentration [mol.m-3]',\n",
       " 'X-averaged positive SEI concentration [mol.m-3]',\n",
       " 'Loss of lithium to positive SEI [mol]',\n",
       " 'Loss of capacity to positive SEI [A.h]',\n",
       " 'Positive electrode SEI volumetric interfacial current density [A.m-3]',\n",
       " 'X-averaged positive electrode SEI volumetric interfacial current density [A.m-3]',\n",
       " 'Negative inner SEI on cracks concentration [mol.m-3]',\n",
       " 'X-averaged negative inner SEI on cracks concentration [mol.m-3]',\n",
       " 'Negative outer SEI on cracks concentration [mol.m-3]',\n",
       " 'X-averaged negative outer SEI on cracks concentration [mol.m-3]',\n",
       " 'Negative SEI on cracks concentration [mol.m-3]',\n",
       " 'X-averaged negative SEI on cracks concentration [mol.m-3]',\n",
       " 'Loss of lithium to negative SEI on cracks [mol]',\n",
       " 'Loss of capacity to negative SEI on cracks [A.h]',\n",
       " 'Negative electrode SEI on cracks volumetric interfacial current density [A.m-3]',\n",
       " 'X-averaged negative electrode SEI on cracks volumetric interfacial current density [A.m-3]',\n",
       " 'Positive inner SEI on cracks concentration [mol.m-3]',\n",
       " 'X-averaged positive inner SEI on cracks concentration [mol.m-3]',\n",
       " 'Positive outer SEI on cracks concentration [mol.m-3]',\n",
       " 'X-averaged positive outer SEI on cracks concentration [mol.m-3]',\n",
       " 'Positive SEI on cracks concentration [mol.m-3]',\n",
       " 'X-averaged positive SEI on cracks concentration [mol.m-3]',\n",
       " 'Loss of lithium to positive SEI on cracks [mol]',\n",
       " 'Loss of capacity to positive SEI on cracks [A.h]',\n",
       " 'Positive electrode SEI on cracks volumetric interfacial current density [A.m-3]',\n",
       " 'X-averaged positive electrode SEI on cracks volumetric interfacial current density [A.m-3]',\n",
       " 'Negative electrode lithium plating interfacial current density [A.m-2]',\n",
       " 'X-averaged negative electrode lithium plating interfacial current density [A.m-2]',\n",
       " 'Negative lithium plating volumetric interfacial current density [A.m-3]',\n",
       " 'X-averaged negative lithium plating volumetric interfacial current density [A.m-3]',\n",
       " 'Negative electrode lithium plating volumetric interfacial current density [A.m-3]',\n",
       " 'X-averaged negative electrode lithium plating volumetric interfacial current density [A.m-3]',\n",
       " 'Positive electrode lithium plating interfacial current density [A.m-2]',\n",
       " 'X-averaged positive electrode lithium plating interfacial current density [A.m-2]',\n",
       " 'Positive lithium plating volumetric interfacial current density [A.m-3]',\n",
       " 'X-averaged positive lithium plating volumetric interfacial current density [A.m-3]',\n",
       " 'Positive electrode lithium plating volumetric interfacial current density [A.m-3]',\n",
       " 'X-averaged positive electrode lithium plating volumetric interfacial current density [A.m-3]',\n",
       " 'Negative electrode open-circuit potential [V]',\n",
       " 'X-averaged negative electrode open-circuit potential [V]',\n",
       " 'Negative electrode bulk open-circuit potential [V]',\n",
       " 'Negative particle concentration overpotential [V]',\n",
       " 'Negative electrode entropic change [V.K-1]',\n",
       " 'X-averaged negative electrode entropic change [V.K-1]',\n",
       " 'Positive electrode open-circuit potential [V]',\n",
       " 'X-averaged positive electrode open-circuit potential [V]',\n",
       " 'Positive electrode bulk open-circuit potential [V]',\n",
       " 'Positive particle concentration overpotential [V]',\n",
       " 'Positive electrode entropic change [V.K-1]',\n",
       " 'X-averaged positive electrode entropic change [V.K-1]',\n",
       " 'Negative electrode interfacial current density [A.m-2]',\n",
       " 'X-averaged negative electrode interfacial current density [A.m-2]',\n",
       " 'X-averaged negative electrode total interfacial current density [A.m-2]',\n",
       " 'X-averaged negative electrode total volumetric interfacial current density [A.m-3]',\n",
       " 'Negative electrode exchange current density [A.m-2]',\n",
       " 'X-averaged negative electrode exchange current density [A.m-2]',\n",
       " 'Negative electrode reaction overpotential [V]',\n",
       " 'X-averaged negative electrode reaction overpotential [V]',\n",
       " 'Negative electrode volumetric interfacial current density [A.m-3]',\n",
       " 'X-averaged negative electrode volumetric interfacial current density [A.m-3]',\n",
       " 'Negative electrode SEI film overpotential [V]',\n",
       " 'X-averaged negative electrode SEI film overpotential [V]',\n",
       " 'Positive electrode interfacial current density [A.m-2]',\n",
       " 'X-averaged positive electrode interfacial current density [A.m-2]',\n",
       " 'X-averaged positive electrode total interfacial current density [A.m-2]',\n",
       " 'X-averaged positive electrode total volumetric interfacial current density [A.m-3]',\n",
       " 'Positive electrode exchange current density [A.m-2]',\n",
       " 'X-averaged positive electrode exchange current density [A.m-2]',\n",
       " 'Positive electrode reaction overpotential [V]',\n",
       " 'X-averaged positive electrode reaction overpotential [V]',\n",
       " 'Positive electrode volumetric interfacial current density [A.m-3]',\n",
       " 'X-averaged positive electrode volumetric interfacial current density [A.m-3]',\n",
       " 'Positive electrode SEI film overpotential [V]',\n",
       " 'X-averaged positive electrode SEI film overpotential [V]',\n",
       " 'Negative particle rhs [mol.m-3.s-1]',\n",
       " 'Negative particle bc [mol.m-4]',\n",
       " 'Negative particle effective diffusivity [m2.s-1]',\n",
       " 'X-averaged negative particle effective diffusivity [m2.s-1]',\n",
       " 'Volume-averaged negative particle effective diffusivity [m2.s-1]',\n",
       " 'Negative particle flux [mol.m-2.s-1]',\n",
       " 'Positive particle rhs [mol.m-3.s-1]',\n",
       " 'Positive particle bc [mol.m-4]',\n",
       " 'Positive particle effective diffusivity [m2.s-1]',\n",
       " 'X-averaged positive particle effective diffusivity [m2.s-1]',\n",
       " 'Volume-averaged positive particle effective diffusivity [m2.s-1]',\n",
       " 'Positive particle flux [mol.m-2.s-1]',\n",
       " 'Electrolyte flux [mol.m-2.s-1]',\n",
       " 'Electrolyte diffusion flux [mol.m-2.s-1]',\n",
       " 'Electrolyte migration flux [mol.m-2.s-1]',\n",
       " 'Electrolyte convection flux [mol.m-2.s-1]',\n",
       " 'Sum of negative electrode electrolyte reaction source terms [A.m-3]',\n",
       " 'Sum of x-averaged negative electrode electrolyte reaction source terms [A.m-3]',\n",
       " 'Sum of negative electrode volumetric interfacial current densities [A.m-3]',\n",
       " 'Sum of x-averaged negative electrode volumetric interfacial current densities [A.m-3]',\n",
       " 'Sum of positive electrode electrolyte reaction source terms [A.m-3]',\n",
       " 'Sum of x-averaged positive electrode electrolyte reaction source terms [A.m-3]',\n",
       " 'Sum of positive electrode volumetric interfacial current densities [A.m-3]',\n",
       " 'Sum of x-averaged positive electrode volumetric interfacial current densities [A.m-3]',\n",
       " 'Interfacial current density [A.m-2]',\n",
       " 'Exchange current density [A.m-2]',\n",
       " 'Sum of volumetric interfacial current densities [A.m-3]',\n",
       " 'Sum of electrolyte reaction source terms [A.m-3]',\n",
       " 'Surface open-circuit voltage [V]',\n",
       " 'Bulk open-circuit voltage [V]',\n",
       " 'Particle concentration overpotential [V]',\n",
       " 'X-averaged reaction overpotential [V]',\n",
       " 'X-averaged SEI film overpotential [V]',\n",
       " 'X-averaged solid phase ohmic losses [V]',\n",
       " 'Battery open-circuit voltage [V]',\n",
       " 'Battery negative electrode bulk open-circuit potential [V]',\n",
       " 'Battery positive electrode bulk open-circuit potential [V]',\n",
       " 'Battery particle concentration overpotential [V]',\n",
       " 'Battery negative particle concentration overpotential [V]',\n",
       " 'Battery positive particle concentration overpotential [V]',\n",
       " 'X-averaged battery reaction overpotential [V]',\n",
       " 'X-averaged battery negative reaction overpotential [V]',\n",
       " 'X-averaged battery positive reaction overpotential [V]',\n",
       " 'X-averaged battery solid phase ohmic losses [V]',\n",
       " 'X-averaged battery negative solid phase ohmic losses [V]',\n",
       " 'X-averaged battery positive solid phase ohmic losses [V]',\n",
       " 'X-averaged battery electrolyte ohmic losses [V]',\n",
       " 'X-averaged battery concentration overpotential [V]',\n",
       " 'Battery voltage [V]',\n",
       " 'Local ECM resistance [Ohm]',\n",
       " 'Terminal power [W]',\n",
       " 'Power [W]',\n",
       " 'Resistance [Ohm]',\n",
       " 'Total lithium in negative electrode [mol]',\n",
       " 'LAM_ne [%]',\n",
       " 'Loss of active material in negative electrode [%]',\n",
       " 'Total lithium in positive electrode [mol]',\n",
       " 'LAM_pe [%]',\n",
       " 'Loss of active material in positive electrode [%]',\n",
       " 'LLI [%]',\n",
       " 'Loss of lithium inventory [%]',\n",
       " 'Loss of lithium inventory, including electrolyte [%]',\n",
       " 'Total lithium [mol]',\n",
       " 'Total lithium in particles [mol]',\n",
       " 'Total lithium capacity [A.h]',\n",
       " 'Total lithium capacity in particles [A.h]',\n",
       " 'Total lithium lost [mol]',\n",
       " 'Total lithium lost from particles [mol]',\n",
       " 'Total lithium lost from electrolyte [mol]',\n",
       " 'Total lithium lost to side reactions [mol]',\n",
       " 'Total capacity lost to side reactions [A.h]']"
      ]
     },
     "execution_count": 7,
     "metadata": {},
     "output_type": "execute_result"
    }
   ],
   "source": [
    "model.variable_names()"
   ]
  },
  {
   "cell_type": "code",
   "execution_count": 8,
   "metadata": {},
   "outputs": [
    {
     "name": "stdout",
     "output_type": "stream",
     "text": [
      "Electrolyte concentration [Molar]\n",
      "Electrolyte concentration [mol.m-3]\n",
      "Electrolyte concentration concatenation [mol.m-3]\n",
      "Electrolyte convection flux [mol.m-2.s-1]\n",
      "Electrolyte current density [A.m-2]\n",
      "Electrolyte diffusion flux [mol.m-2.s-1]\n",
      "Electrolyte flux [mol.m-2.s-1]\n",
      "Electrolyte migration flux [mol.m-2.s-1]\n",
      "Electrolyte potential [V]\n",
      "Electrolyte transport efficiency\n",
      "Gradient of electrolyte potential [V.m-1]\n",
      "Gradient of negative electrolyte potential [V.m-1]\n",
      "Gradient of positive electrolyte potential [V.m-1]\n",
      "Gradient of separator electrolyte potential [V.m-1]\n",
      "Loss of lithium inventory, including electrolyte [%]\n",
      "Negative electrolyte concentration [Molar]\n",
      "Negative electrolyte concentration [mol.m-3]\n",
      "Negative electrolyte potential [V]\n",
      "Negative electrolyte transport efficiency\n",
      "Positive electrolyte concentration [Molar]\n",
      "Positive electrolyte concentration [mol.m-3]\n",
      "Positive electrolyte potential [V]\n",
      "Positive electrolyte transport efficiency\n",
      "Separator electrolyte concentration [Molar]\n",
      "Separator electrolyte concentration [mol.m-3]\n",
      "Separator electrolyte potential [V]\n",
      "Separator electrolyte transport efficiency\n",
      "Sum of electrolyte reaction source terms [A.m-3]\n",
      "Sum of negative electrode electrolyte reaction source terms [A.m-3]\n",
      "Sum of positive electrode electrolyte reaction source terms [A.m-3]\n",
      "Sum of x-averaged negative electrode electrolyte reaction source terms [A.m-3]\n",
      "Sum of x-averaged positive electrode electrolyte reaction source terms [A.m-3]\n",
      "Total lithium in electrolyte [mol]\n",
      "Total lithium lost from electrolyte [mol]\n",
      "X-averaged battery electrolyte ohmic losses [V]\n",
      "X-averaged electrolyte concentration [Molar]\n",
      "X-averaged electrolyte concentration [mol.m-3]\n",
      "X-averaged electrolyte ohmic losses [V]\n",
      "X-averaged electrolyte overpotential [V]\n",
      "X-averaged electrolyte potential [V]\n",
      "X-averaged negative electrolyte concentration [Molar]\n",
      "X-averaged negative electrolyte concentration [mol.m-3]\n",
      "X-averaged negative electrolyte potential [V]\n",
      "X-averaged negative electrolyte transport efficiency\n",
      "X-averaged positive electrolyte concentration [Molar]\n",
      "X-averaged positive electrolyte concentration [mol.m-3]\n",
      "X-averaged positive electrolyte potential [V]\n",
      "X-averaged positive electrolyte transport efficiency\n",
      "X-averaged separator electrolyte concentration [Molar]\n",
      "X-averaged separator electrolyte concentration [mol.m-3]\n",
      "X-averaged separator electrolyte potential [V]\n",
      "X-averaged separator electrolyte transport efficiency\n"
     ]
    }
   ],
   "source": [
    "model.variables.search(\"electrolyte\")"
   ]
  },
  {
   "attachments": {},
   "cell_type": "markdown",
   "metadata": {},
   "source": [
    "## Changing the parameters"
   ]
  },
  {
   "cell_type": "code",
   "execution_count": 12,
   "metadata": {},
   "outputs": [
    {
     "data": {
      "application/vnd.jupyter.widget-view+json": {
       "model_id": "aac0f53020624dcea3725f70eb7ffd40",
       "version_major": 2,
       "version_minor": 0
      },
      "text/plain": [
       "interactive(children=(FloatSlider(value=0.0, description='t', max=3555.448018330494, step=35.55448018330494), …"
      ]
     },
     "metadata": {},
     "output_type": "display_data"
    },
    {
     "data": {
      "text/plain": [
       "<pybamm.plotting.quick_plot.QuickPlot at 0x1670103d0>"
      ]
     },
     "execution_count": 12,
     "metadata": {},
     "output_type": "execute_result"
    }
   ],
   "source": [
    "parameter_values = pybamm.ParameterValues(\"Chen2020\")\n",
    "\n",
    "simulation = pybamm.Simulation(model, parameter_values=parameter_values)\n",
    "sim = simulation.solve([0, 3600])\n",
    "sim.plot()"
   ]
  },
  {
   "attachments": {},
   "cell_type": "markdown",
   "metadata": {},
   "source": [
    "## Running experiments"
   ]
  },
  {
   "cell_type": "code",
   "execution_count": 13,
   "metadata": {},
   "outputs": [],
   "source": [
    "simulation = pybamm.Simulation(model, experiment=\"Discharge at 3C until 3.3 V\")"
   ]
  },
  {
   "attachments": {},
   "cell_type": "markdown",
   "metadata": {},
   "source": [
    "## Printing citation"
   ]
  },
  {
   "cell_type": "code",
   "execution_count": 14,
   "metadata": {},
   "outputs": [
    {
     "name": "stdout",
     "output_type": "stream",
     "text": [
      "[1] Joel A. E. Andersson, Joris Gillis, Greg Horn, James B. Rawlings, and Moritz Diehl. CasADi – A software framework for nonlinear optimization and optimal control. Mathematical Programming Computation, 11(1):1–36, 2019. doi:10.1007/s12532-018-0139-4.\n",
      "[2] Chang-Hui Chen, Ferran Brosa Planella, Kieran O'Regan, Dominika Gastol, W. Dhammika Widanage, and Emma Kendrick. Development of Experimental Techniques for Parameterization of Multi-scale Lithium-ion Battery Models. Journal of The Electrochemical Society, 167(8):080534, 2020. doi:10.1149/1945-7111/ab9050.\n",
      "[3] Marc Doyle, Thomas F. Fuller, and John Newman. Modeling of galvanostatic charge and discharge of the lithium/polymer/insertion cell. Journal of the Electrochemical society, 140(6):1526–1533, 1993. doi:10.1149/1.2221597.\n",
      "[4] Charles R. Harris, K. Jarrod Millman, Stéfan J. van der Walt, Ralf Gommers, Pauli Virtanen, David Cournapeau, Eric Wieser, Julian Taylor, Sebastian Berg, Nathaniel J. Smith, and others. Array programming with NumPy. Nature, 585(7825):357–362, 2020. doi:10.1038/s41586-020-2649-2.\n",
      "[5] Scott G. Marquis, Valentin Sulzer, Robert Timms, Colin P. Please, and S. Jon Chapman. An asymptotic derivation of a single particle model with electrolyte. Journal of The Electrochemical Society, 166(15):A3693–A3706, 2019. doi:10.1149/2.0341915jes.\n",
      "[6] Valentin Sulzer, Scott G. Marquis, Robert Timms, Martin Robinson, and S. Jon Chapman. Python Battery Mathematical Modelling (PyBaMM). Journal of Open Research Software, 9(1):14, 2021. doi:10.5334/jors.309.\n",
      "\n"
     ]
    }
   ],
   "source": [
    "pybamm.print_citations()"
   ]
  },
  {
   "attachments": {},
   "cell_type": "markdown",
   "metadata": {},
   "source": [
    "# Lesson 2: The Experiment class"
   ]
  },
  {
   "cell_type": "code",
   "execution_count": 19,
   "metadata": {},
   "outputs": [
    {
     "name": "stderr",
     "output_type": "stream",
     "text": [
      "2024-06-20 14:48:15.555 - [WARNING] simulation.solve(590): Ignoring t_eval as solution times are specified by the experiment\n"
     ]
    },
    {
     "data": {
      "application/vnd.jupyter.widget-view+json": {
       "model_id": "a71c5906b9534040831f821e74b1df6f",
       "version_major": 2,
       "version_minor": 0
      },
      "text/plain": [
       "interactive(children=(FloatSlider(value=0.0, description='t', max=3554.8346439614356, step=35.548346439614356)…"
      ]
     },
     "metadata": {},
     "output_type": "display_data"
    },
    {
     "data": {
      "application/vnd.jupyter.widget-view+json": {
       "model_id": "9a5136ab31b146f09a804d17fc04050e",
       "version_major": 2,
       "version_minor": 0
      },
      "text/plain": [
       "interactive(children=(FloatSlider(value=0.9874540677673432, description='t', max=4.806270923359989, min=0.9874…"
      ]
     },
     "metadata": {},
     "output_type": "display_data"
    },
    {
     "data": {
      "application/vnd.jupyter.widget-view+json": {
       "model_id": "03d2ffec846f43a698d806ae5623827a",
       "version_major": 2,
       "version_minor": 0
      },
      "text/plain": [
       "interactive(children=(FloatSlider(value=0.0, description='t', max=5.095762441376283, step=0.05095762441376283)…"
      ]
     },
     "metadata": {},
     "output_type": "display_data"
    },
    {
     "data": {
      "text/plain": [
       "<pybamm.plotting.quick_plot.QuickPlot at 0x112029df0>"
      ]
     },
     "execution_count": 19,
     "metadata": {},
     "output_type": "execute_result"
    }
   ],
   "source": [
    "experiment = pybamm.Experiment([\n",
    "    \"Discharge at 1C until 3.3 V\",\n",
    "    \"Charge at 0.3C until 4.0 V\",\n",
    "    \"Hold at 4.0 V until C/100\",\n",
    "])\n",
    "simulation = pybamm.Simulation(model, experiment=experiment)\n",
    "solution = simulation.solve([0, 3600])\n",
    "solution.cycles[0].plot()\n",
    "solution.cycles[1].plot()\n",
    "solution.plot()"
   ]
  },
  {
   "cell_type": "code",
   "execution_count": 22,
   "metadata": {},
   "outputs": [
    {
     "name": "stderr",
     "output_type": "stream",
     "text": [
      "2024-06-20 14:50:40.027 - [WARNING] simulation.solve(590): Ignoring t_eval as solution times are specified by the experiment\n",
      "At t = 273.579, , mxstep steps taken before reaching tout.\n",
      "At t = 518.942 and h = 2.82406e-17, the corrector convergence failed repeatedly or with |h| = hmin.\n"
     ]
    },
    {
     "data": {
      "application/vnd.jupyter.widget-view+json": {
       "model_id": "6d73d30d51a84ee9a2440f5e539ff78e",
       "version_major": 2,
       "version_minor": 0
      },
      "text/plain": [
       "interactive(children=(FloatSlider(value=0.0, description='t', max=15.628642438853326, step=0.15628642438853327…"
      ]
     },
     "metadata": {},
     "output_type": "display_data"
    },
    {
     "data": {
      "text/plain": [
       "<pybamm.plotting.quick_plot.QuickPlot at 0x11102b9d0>"
      ]
     },
     "execution_count": 22,
     "metadata": {},
     "output_type": "execute_result"
    }
   ],
   "source": [
    "experiment2 = pybamm.Experiment([\n",
    "    (\n",
    "        \"Discharge at C/4 until 2.5 V\",\n",
    "        \"Charge at C/4 until 4.2 V\",\n",
    "        \"Hold at 4.2 V until C/100\"\n",
    "    ),\n",
    "    (\n",
    "        \"Discharge at C/2 until 2.5 V\",\n",
    "        \"Charge at C/2 until 4.2 V\",\n",
    "        \"Hold at 4.2 V until C/100\"\n",
    "    )\n",
    "])\n",
    "simulation2 = pybamm.Simulation(model, experiment=experiment2)\n",
    "sim2 = simulation2.solve([0, 3600])\n",
    "simulation2.plot()"
   ]
  },
  {
   "cell_type": "code",
   "execution_count": 25,
   "metadata": {},
   "outputs": [
    {
     "data": {
      "application/vnd.jupyter.widget-view+json": {
       "model_id": "c30407009ef8466b944f10a49a66d161",
       "version_major": 2,
       "version_minor": 0
      },
      "text/plain": [
       "interactive(children=(FloatSlider(value=4.200868332206537, description='t', max=9.66990731414445, min=4.200868…"
      ]
     },
     "metadata": {},
     "output_type": "display_data"
    },
    {
     "data": {
      "text/plain": [
       "<pybamm.plotting.quick_plot.QuickPlot at 0x16c917310>"
      ]
     },
     "execution_count": 25,
     "metadata": {},
     "output_type": "execute_result"
    }
   ],
   "source": [
    "sim2.cycles[0].steps[1].plot()"
   ]
  },
  {
   "cell_type": "code",
   "execution_count": 27,
   "metadata": {},
   "outputs": [
    {
     "name": "stderr",
     "output_type": "stream",
     "text": [
      "2024-06-20 15:15:12.642 - [WARNING] simulation.solve(590): Ignoring t_eval as solution times are specified by the experiment\n",
      "At t = 28.4004 and h = 1.78326e-15, the corrector convergence failed repeatedly or with |h| = hmin.\n",
      "At t = 28.4005 and h = 6.01091e-18, the corrector convergence failed repeatedly or with |h| = hmin.\n",
      "At t = 28.4005 and h = 7.29157e-13, the corrector convergence failed repeatedly or with |h| = hmin.\n",
      "At t = 28.4004 and h = 4.9943e-16, the corrector convergence failed repeatedly or with |h| = hmin.\n",
      "At t = 28.4005 and h = 3.06573e-16, the corrector convergence failed repeatedly or with |h| = hmin.\n",
      "At t = 334.034 and h = 5.89358e-14, the corrector convergence failed repeatedly or with |h| = hmin.\n",
      "At t = 526.473 and h = 2.13775e-17, the corrector convergence failed repeatedly or with |h| = hmin.\n",
      "At t = 334.037, , mxstep steps taken before reaching tout.\n",
      "At t = 526.473 and h = 7.7449e-17, the corrector convergence failed repeatedly or with |h| = hmin.\n",
      "At t = 334.037, , mxstep steps taken before reaching tout.\n",
      "At t = 526.473 and h = 8.76565e-19, the corrector convergence failed repeatedly or with |h| = hmin.\n",
      "At t = 334.037 and h = 1.67751e-15, the corrector convergence failed repeatedly or with |h| = hmin.\n",
      "At t = 526.473 and h = 6.76317e-16, the corrector convergence failed repeatedly or with |h| = hmin.\n",
      "At t = 334.037, , mxstep steps taken before reaching tout.\n",
      "At t = 526.473 and h = 7.48003e-13, the corrector convergence failed repeatedly or with |h| = hmin.\n",
      "At t = 334.037 and h = 3.79411e-24, the corrector convergence failed repeatedly or with |h| = hmin.\n",
      "At t = 526.473 and h = 3.46173e-17, the corrector convergence failed repeatedly or with |h| = hmin.\n",
      "At t = 334.037, , mxstep steps taken before reaching tout.\n",
      "At t = 526.473 and h = 5.49384e-17, the corrector convergence failed repeatedly or with |h| = hmin.\n",
      "At t = 334.037, , mxstep steps taken before reaching tout.\n",
      "At t = 526.473 and h = 1.09015e-15, the corrector convergence failed repeatedly or with |h| = hmin.\n",
      "At t = 334.037 and h = 9.38372e-14, the corrector convergence failed repeatedly or with |h| = hmin.\n",
      "At t = 526.473 and h = 1.88563e-15, the corrector convergence failed repeatedly or with |h| = hmin.\n",
      "At t = 334.037 and h = 1.35772e-13, the corrector convergence failed repeatedly or with |h| = hmin.\n",
      "At t = 526.473 and h = 2.54032e-15, the corrector convergence failed repeatedly or with |h| = hmin.\n",
      "At t = 88.4006 and h = 4.76328e-13, the corrector convergence failed repeatedly or with |h| = hmin.\n",
      "At t = 88.4006 and h = 7.80871e-18, the corrector convergence failed repeatedly or with |h| = hmin.\n",
      "At t = 88.4005 and h = 1.33104e-12, the corrector convergence failed repeatedly or with |h| = hmin.\n",
      "At t = 28.4005 and h = 5.83266e-13, the corrector convergence failed repeatedly or with |h| = hmin.\n",
      "At t = 28.4006, , mxstep steps taken before reaching tout.\n"
     ]
    },
    {
     "data": {
      "application/vnd.jupyter.widget-view+json": {
       "model_id": "5c3b1ce291ea47409d7b8d15fbf9bde1",
       "version_major": 2,
       "version_minor": 0
      },
      "text/plain": [
       "interactive(children=(FloatSlider(value=0.0, description='t', max=121.18470514562605, step=1.2118470514562605)…"
      ]
     },
     "metadata": {},
     "output_type": "display_data"
    },
    {
     "data": {
      "text/plain": [
       "<pybamm.plotting.quick_plot.QuickPlot at 0x117a912e0>"
      ]
     },
     "execution_count": 27,
     "metadata": {},
     "output_type": "execute_result"
    }
   ],
   "source": [
    "experiment3 = pybamm.Experiment(\n",
    "    # Initialize\n",
    "    [\n",
    "        \"Hold at 4.2 V until C/100\",\n",
    "        \"Rest for 4 hours\",\n",
    "    ] +\n",
    "    # Capacity check\n",
    "    [(\n",
    "        \"Discharge at C/10 until 2.5 V\",\n",
    "        \"Charge at C/10 until 4.2 V\",\n",
    "        \"Hold at 4.2 V until C/100\"\n",
    "    )] +  \n",
    "    # Ageing cycles\n",
    "    [(\n",
    "        \"Discharge at 1C until 2.5 V\",\n",
    "        \"Charge at 0.3C until 4.2 V\",\n",
    "        \"Hold at 4.2 V until C/100\",\n",
    "    )] * 10 +\n",
    "    # Capacity check\n",
    "    [(\n",
    "        \"Discharge at C/10 until 2.5 V\",\n",
    "        \"Charge at C/10 until 4.2 V\",\n",
    "        \"Hold at 4.2 V until C/100\"\n",
    "    )]  \n",
    ")\n",
    "\n",
    "simulation3 = pybamm.Simulation(model, experiment=experiment3)\n",
    "sim3 = simulation3.solve([0, 3600])\n",
    "simulation3.plot()"
   ]
  },
  {
   "attachments": {},
   "cell_type": "markdown",
   "metadata": {},
   "source": [
    "# Parameter Sets"
   ]
  },
  {
   "cell_type": "code",
   "execution_count": null,
   "metadata": {},
   "outputs": [],
   "source": []
  }
 ],
 "metadata": {
  "kernelspec": {
   "display_name": "Python 3",
   "language": "python",
   "name": "python3"
  },
  "language_info": {
   "codemirror_mode": {
    "name": "ipython",
    "version": 3
   },
   "file_extension": ".py",
   "mimetype": "text/x-python",
   "name": "python",
   "nbconvert_exporter": "python",
   "pygments_lexer": "ipython3",
   "version": "3.9.6"
  },
  "orig_nbformat": 4
 },
 "nbformat": 4,
 "nbformat_minor": 2
}
