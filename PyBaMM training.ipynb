{
 "cells": [
  {
   "attachments": {},
   "cell_type": "markdown",
   "metadata": {},
   "source": [
    "# Intro to PyBaMM"
   ]
  },
  {
   "attachments": {},
   "cell_type": "markdown",
   "metadata": {},
   "source": [
    "## Lesson 1: Running Pybamm"
   ]
  },
  {
   "attachments": {},
   "cell_type": "markdown",
   "metadata": {},
   "source": [
    "### First steps with PyBaMM"
   ]
  },
  {
   "cell_type": "code",
   "execution_count": 3,
   "metadata": {},
   "outputs": [],
   "source": [
    "import pybamm\n",
    "import numpy as np\n",
    "import matplotlib.pyplot as plt"
   ]
  },
  {
   "cell_type": "code",
   "execution_count": 4,
   "metadata": {},
   "outputs": [
    {
     "data": {
      "application/vnd.jupyter.widget-view+json": {
       "model_id": "3f2655e958614f6c945ed40c10237f60",
       "version_major": 2,
       "version_minor": 0
      },
      "text/plain": [
       "interactive(children=(FloatSlider(value=0.0, description='t', max=1.0, step=0.01), Output()), _dom_classes=('w…"
      ]
     },
     "metadata": {},
     "output_type": "display_data"
    },
    {
     "data": {
      "text/plain": [
       "<pybamm.plotting.quick_plot.QuickPlot at 0x300b7ecd0>"
      ]
     },
     "execution_count": 4,
     "metadata": {},
     "output_type": "execute_result"
    }
   ],
   "source": [
    "model = pybamm.lithium_ion.DFN()\n",
    "simulation = pybamm.Simulation(model)\n",
    "sim = simulation.solve([0, 3600])\n",
    "sim.plot()"
   ]
  },
  {
   "attachments": {},
   "cell_type": "markdown",
   "metadata": {},
   "source": [
    "### Comparing different models"
   ]
  },
  {
   "cell_type": "code",
   "execution_count": 5,
   "metadata": {},
   "outputs": [
    {
     "data": {
      "application/vnd.jupyter.widget-view+json": {
       "model_id": "37e058ca7d504ba0822ebd741c62daea",
       "version_major": 2,
       "version_minor": 0
      },
      "text/plain": [
       "interactive(children=(FloatSlider(value=0.0, description='t', max=1.0, step=0.01), Output()), _dom_classes=('w…"
      ]
     },
     "metadata": {},
     "output_type": "display_data"
    },
    {
     "data": {
      "text/plain": [
       "<pybamm.plotting.quick_plot.QuickPlot at 0x303a71520>"
      ]
     },
     "execution_count": 5,
     "metadata": {},
     "output_type": "execute_result"
    }
   ],
   "source": [
    "models = [\n",
    "\tpybamm.lithium_ion.SPM(),\n",
    "\tpybamm.lithium_ion.SPMe(),\n",
    "\tpybamm.lithium_ion.DFN(),\n",
    "]\n",
    "\n",
    "simulations = []\n",
    "for model in models:\n",
    "\tsimulation = pybamm.Simulation(model)\n",
    "\tsimulation.solve([0, 3600])\n",
    "\tsimulations.append(simulation)\n",
    "\t\n",
    "pybamm.dynamic_plot(simulations)"
   ]
  },
  {
   "attachments": {},
   "cell_type": "markdown",
   "metadata": {},
   "source": [
    "### Basic plotting"
   ]
  },
  {
   "cell_type": "code",
   "execution_count": 6,
   "metadata": {},
   "outputs": [
    {
     "data": {
      "application/vnd.jupyter.widget-view+json": {
       "model_id": "822424a79e0841dcbf65f9b3adf767a7",
       "version_major": 2,
       "version_minor": 0
      },
      "text/plain": [
       "interactive(children=(FloatSlider(value=0.0, description='t', max=1.0, step=0.01), Output()), _dom_classes=('w…"
      ]
     },
     "metadata": {},
     "output_type": "display_data"
    },
    {
     "data": {
      "text/plain": [
       "<pybamm.plotting.quick_plot.QuickPlot at 0x30256cdf0>"
      ]
     },
     "execution_count": 6,
     "metadata": {},
     "output_type": "execute_result"
    }
   ],
   "source": [
    "output_variables = [\"Voltage [V]\", \"Current [A]\"]\n",
    "simulation.plot(output_variables=output_variables)"
   ]
  },
  {
   "cell_type": "code",
   "execution_count": 7,
   "metadata": {},
   "outputs": [
    {
     "data": {
      "application/vnd.jupyter.widget-view+json": {
       "model_id": "05aca1498a0b4de6ad7c2899c582a227",
       "version_major": 2,
       "version_minor": 0
      },
      "text/plain": [
       "interactive(children=(FloatSlider(value=0.0, description='t', max=1.0, step=0.01), Output()), _dom_classes=('w…"
      ]
     },
     "metadata": {},
     "output_type": "display_data"
    },
    {
     "data": {
      "text/plain": [
       "<pybamm.plotting.quick_plot.QuickPlot at 0x3048f5f40>"
      ]
     },
     "execution_count": 7,
     "metadata": {},
     "output_type": "execute_result"
    }
   ],
   "source": [
    "output_variables = [\n",
    "\t\"Voltage [V]\", \n",
    "\t[\"Electrode current density [A.m-2]\", \"Electrolyte current density [A.m-2]\"]\n",
    "]\n",
    "simulation.plot(output_variables=output_variables)"
   ]
  },
  {
   "cell_type": "code",
   "execution_count": 8,
   "metadata": {},
   "outputs": [
    {
     "data": {
      "text/plain": [
       "['Time [s]',\n",
       " 'Time [min]',\n",
       " 'Time [h]',\n",
       " 'x [m]',\n",
       " 'x_n [m]',\n",
       " 'x_s [m]',\n",
       " 'x_p [m]',\n",
       " 'r_n [m]',\n",
       " 'r_p [m]',\n",
       " 'Current variable [A]',\n",
       " 'Total current density [A.m-2]',\n",
       " 'Current [A]',\n",
       " 'C-rate',\n",
       " 'Discharge capacity [A.h]',\n",
       " 'Throughput capacity [A.h]',\n",
       " 'Discharge energy [W.h]',\n",
       " 'Throughput energy [W.h]',\n",
       " 'Porosity',\n",
       " 'Negative electrode porosity',\n",
       " 'X-averaged negative electrode porosity',\n",
       " 'Separator porosity',\n",
       " 'X-averaged separator porosity',\n",
       " 'Positive electrode porosity',\n",
       " 'X-averaged positive electrode porosity',\n",
       " 'Porosity change',\n",
       " 'Negative electrode porosity change [s-1]',\n",
       " 'X-averaged negative electrode porosity change [s-1]',\n",
       " 'Separator porosity change [s-1]',\n",
       " 'X-averaged separator porosity change [s-1]',\n",
       " 'Positive electrode porosity change [s-1]',\n",
       " 'X-averaged positive electrode porosity change [s-1]',\n",
       " 'Negative electrode interface utilisation variable',\n",
       " 'X-averaged negative electrode interface utilisation variable',\n",
       " 'Negative electrode interface utilisation',\n",
       " 'X-averaged negative electrode interface utilisation',\n",
       " 'Positive electrode interface utilisation variable',\n",
       " 'X-averaged positive electrode interface utilisation variable',\n",
       " 'Positive electrode interface utilisation',\n",
       " 'X-averaged positive electrode interface utilisation',\n",
       " 'Negative particle crack length [m]',\n",
       " 'X-averaged negative particle crack length [m]',\n",
       " 'Negative particle cracking rate [m.s-1]',\n",
       " 'X-averaged negative particle cracking rate [m.s-1]',\n",
       " 'Positive particle crack length [m]',\n",
       " 'X-averaged positive particle crack length [m]',\n",
       " 'Positive particle cracking rate [m.s-1]',\n",
       " 'X-averaged positive particle cracking rate [m.s-1]',\n",
       " 'Negative electrode active material volume fraction',\n",
       " 'X-averaged negative electrode active material volume fraction',\n",
       " 'Negative electrode capacity [A.h]',\n",
       " 'Negative particle radius',\n",
       " 'Negative particle radius [m]',\n",
       " 'X-averaged negative particle radius [m]',\n",
       " 'Negative electrode surface area to volume ratio [m-1]',\n",
       " 'X-averaged negative electrode surface area to volume ratio [m-1]',\n",
       " 'Negative electrode active material volume fraction change [s-1]',\n",
       " 'X-averaged negative electrode active material volume fraction change [s-1]',\n",
       " 'Loss of lithium due to loss of active material in negative electrode [mol]',\n",
       " 'Positive electrode active material volume fraction',\n",
       " 'X-averaged positive electrode active material volume fraction',\n",
       " 'Positive electrode capacity [A.h]',\n",
       " 'Positive particle radius',\n",
       " 'Positive particle radius [m]',\n",
       " 'X-averaged positive particle radius [m]',\n",
       " 'Positive electrode surface area to volume ratio [m-1]',\n",
       " 'X-averaged positive electrode surface area to volume ratio [m-1]',\n",
       " 'Positive electrode active material volume fraction change [s-1]',\n",
       " 'X-averaged positive electrode active material volume fraction change [s-1]',\n",
       " 'Loss of lithium due to loss of active material in positive electrode [mol]',\n",
       " 'Separator pressure [Pa]',\n",
       " 'X-averaged separator pressure [Pa]',\n",
       " 'negative electrode transverse volume-averaged velocity [m.s-1]',\n",
       " 'X-averaged negative electrode transverse volume-averaged velocity [m.s-1]',\n",
       " 'separator transverse volume-averaged velocity [m.s-1]',\n",
       " 'X-averaged separator transverse volume-averaged velocity [m.s-1]',\n",
       " 'positive electrode transverse volume-averaged velocity [m.s-1]',\n",
       " 'X-averaged positive electrode transverse volume-averaged velocity [m.s-1]',\n",
       " 'Transverse volume-averaged velocity [m.s-1]',\n",
       " 'negative electrode transverse volume-averaged acceleration [m.s-2]',\n",
       " 'X-averaged negative electrode transverse volume-averaged acceleration [m.s-2]',\n",
       " 'separator transverse volume-averaged acceleration [m.s-2]',\n",
       " 'X-averaged separator transverse volume-averaged acceleration [m.s-2]',\n",
       " 'positive electrode transverse volume-averaged acceleration [m.s-2]',\n",
       " 'X-averaged positive electrode transverse volume-averaged acceleration [m.s-2]',\n",
       " 'Transverse volume-averaged acceleration [m.s-2]',\n",
       " 'Negative electrode volume-averaged velocity [m.s-1]',\n",
       " 'Negative electrode volume-averaged acceleration [m.s-2]',\n",
       " 'X-averaged negative electrode volume-averaged acceleration [m.s-2]',\n",
       " 'Negative electrode pressure [Pa]',\n",
       " 'X-averaged negative electrode pressure [Pa]',\n",
       " 'Positive electrode volume-averaged velocity [m.s-1]',\n",
       " 'Positive electrode volume-averaged acceleration [m.s-2]',\n",
       " 'X-averaged positive electrode volume-averaged acceleration [m.s-2]',\n",
       " 'Positive electrode pressure [Pa]',\n",
       " 'X-averaged positive electrode pressure [Pa]',\n",
       " 'Negative particle concentration [mol.m-3]',\n",
       " 'X-averaged negative particle concentration [mol.m-3]',\n",
       " 'R-averaged negative particle concentration [mol.m-3]',\n",
       " 'Average negative particle concentration [mol.m-3]',\n",
       " 'Negative particle surface concentration [mol.m-3]',\n",
       " 'X-averaged negative particle surface concentration [mol.m-3]',\n",
       " 'Minimum negative particle concentration [mol.m-3]',\n",
       " 'Maximum negative particle concentration [mol.m-3]',\n",
       " 'Minimum negative particle Minimum negative particle surface concentration [mol.m-3]',\n",
       " 'Maximum negative particle surface concentration [mol.m-3]',\n",
       " 'Negative particle concentration',\n",
       " 'X-averaged negative particle concentration',\n",
       " 'R-averaged negative particle concentration',\n",
       " 'Average negative particle concentration',\n",
       " 'Negative particle surface concentration',\n",
       " 'X-averaged negative particle surface concentration',\n",
       " 'Minimum negative particle concentration',\n",
       " 'Maximum negative particle concentration',\n",
       " 'Minimum negative particle surface concentration',\n",
       " 'Maximum negative particle surface concentration',\n",
       " 'Negative particle stoichiometry',\n",
       " 'X-averaged negative particle stoichiometry',\n",
       " 'R-averaged negative particle stoichiometry',\n",
       " 'Average negative particle stoichiometry',\n",
       " 'Negative particle surface stoichiometry',\n",
       " 'X-averaged negative particle surface stoichiometry',\n",
       " 'Minimum negative particle stoichiometry',\n",
       " 'Maximum negative particle stoichiometry',\n",
       " 'Minimum negative particle surface stoichiometry',\n",
       " 'Maximum negative particle surface stoichiometry',\n",
       " 'Negative electrode extent of lithiation',\n",
       " 'X-averaged negative electrode extent of lithiation',\n",
       " 'Positive particle concentration [mol.m-3]',\n",
       " 'X-averaged positive particle concentration [mol.m-3]',\n",
       " 'R-averaged positive particle concentration [mol.m-3]',\n",
       " 'Average positive particle concentration [mol.m-3]',\n",
       " 'Positive particle surface concentration [mol.m-3]',\n",
       " 'X-averaged positive particle surface concentration [mol.m-3]',\n",
       " 'Minimum positive particle concentration [mol.m-3]',\n",
       " 'Maximum positive particle concentration [mol.m-3]',\n",
       " 'Minimum positive particle Minimum positive particle surface concentration [mol.m-3]',\n",
       " 'Maximum positive particle surface concentration [mol.m-3]',\n",
       " 'Positive particle concentration',\n",
       " 'X-averaged positive particle concentration',\n",
       " 'R-averaged positive particle concentration',\n",
       " 'Average positive particle concentration',\n",
       " 'Positive particle surface concentration',\n",
       " 'X-averaged positive particle surface concentration',\n",
       " 'Minimum positive particle concentration',\n",
       " 'Maximum positive particle concentration',\n",
       " 'Minimum positive particle surface concentration',\n",
       " 'Maximum positive particle surface concentration',\n",
       " 'Positive particle stoichiometry',\n",
       " 'X-averaged positive particle stoichiometry',\n",
       " 'R-averaged positive particle stoichiometry',\n",
       " 'Average positive particle stoichiometry',\n",
       " 'Positive particle surface stoichiometry',\n",
       " 'X-averaged positive particle surface stoichiometry',\n",
       " 'Minimum positive particle stoichiometry',\n",
       " 'Maximum positive particle stoichiometry',\n",
       " 'Minimum positive particle surface stoichiometry',\n",
       " 'Maximum positive particle surface stoichiometry',\n",
       " 'Positive electrode extent of lithiation',\n",
       " 'X-averaged positive electrode extent of lithiation',\n",
       " 'Negative electrode potential [V]',\n",
       " 'X-averaged negative electrode potential [V]',\n",
       " 'Negative electrode ohmic losses [V]',\n",
       " 'X-averaged negative electrode ohmic losses [V]',\n",
       " 'Gradient of negative electrode potential [V.m-1]',\n",
       " 'Positive electrode potential [V]',\n",
       " 'X-averaged positive electrode potential [V]',\n",
       " 'Positive electrode ohmic losses [V]',\n",
       " 'X-averaged positive electrode ohmic losses [V]',\n",
       " 'Gradient of positive electrode potential [V.m-1]',\n",
       " 'Porosity times concentration [mol.m-3]',\n",
       " 'Negative electrode porosity times concentration [mol.m-3]',\n",
       " 'Separator porosity times concentration [mol.m-3]',\n",
       " 'Positive electrode porosity times concentration [mol.m-3]',\n",
       " 'Total lithium in electrolyte [mol]',\n",
       " 'Electrolyte potential [V]',\n",
       " 'X-averaged electrolyte potential [V]',\n",
       " 'X-averaged electrolyte overpotential [V]',\n",
       " 'Gradient of electrolyte potential [V.m-1]',\n",
       " 'Negative electrolyte potential [V]',\n",
       " 'X-averaged negative electrolyte potential [V]',\n",
       " 'Gradient of negative electrolyte potential [V.m-1]',\n",
       " 'Separator electrolyte potential [V]',\n",
       " 'X-averaged separator electrolyte potential [V]',\n",
       " 'Gradient of separator electrolyte potential [V.m-1]',\n",
       " 'Positive electrolyte potential [V]',\n",
       " 'X-averaged positive electrolyte potential [V]',\n",
       " 'Gradient of positive electrolyte potential [V.m-1]',\n",
       " 'Ambient temperature [K]',\n",
       " 'Volume-averaged ambient temperature [K]',\n",
       " 'Cell temperature [K]',\n",
       " 'Negative current collector temperature [K]',\n",
       " 'Positive current collector temperature [K]',\n",
       " 'X-averaged cell temperature [K]',\n",
       " 'Volume-averaged cell temperature [K]',\n",
       " 'Negative electrode temperature [K]',\n",
       " 'X-averaged negative electrode temperature [K]',\n",
       " 'Separator temperature [K]',\n",
       " 'X-averaged separator temperature [K]',\n",
       " 'Positive electrode temperature [K]',\n",
       " 'X-averaged positive electrode temperature [K]',\n",
       " 'Ambient temperature [C]',\n",
       " 'Volume-averaged ambient temperature [C]',\n",
       " 'Cell temperature [C]',\n",
       " 'Negative current collector temperature [C]',\n",
       " 'Positive current collector temperature [C]',\n",
       " 'X-averaged cell temperature [C]',\n",
       " 'Volume-averaged cell temperature [C]',\n",
       " 'Negative electrode temperature [C]',\n",
       " 'X-averaged negative electrode temperature [C]',\n",
       " 'Separator temperature [C]',\n",
       " 'X-averaged separator temperature [C]',\n",
       " 'Positive electrode temperature [C]',\n",
       " 'X-averaged positive electrode temperature [C]',\n",
       " 'Negative current collector potential [V]',\n",
       " 'Negative inner SEI thickness [m]',\n",
       " 'Negative outer SEI thickness [m]',\n",
       " 'X-averaged negative inner SEI thickness [m]',\n",
       " 'X-averaged negative outer SEI thickness [m]',\n",
       " 'Negative SEI [m]',\n",
       " 'Negative total SEI thickness [m]',\n",
       " 'X-averaged negative SEI thickness [m]',\n",
       " 'X-averaged negative total SEI thickness [m]',\n",
       " 'X-averaged negative electrode resistance [Ohm.m2]',\n",
       " 'Negative electrode inner SEI interfacial current density [A.m-2]',\n",
       " 'X-averaged negative electrode inner SEI interfacial current density [A.m-2]',\n",
       " 'Negative electrode outer SEI interfacial current density [A.m-2]',\n",
       " 'X-averaged negative electrode outer SEI interfacial current density [A.m-2]',\n",
       " 'Negative electrode SEI interfacial current density [A.m-2]',\n",
       " 'X-averaged negative electrode SEI interfacial current density [A.m-2]',\n",
       " 'Positive inner SEI thickness [m]',\n",
       " 'Positive outer SEI thickness [m]',\n",
       " 'X-averaged positive inner SEI thickness [m]',\n",
       " 'X-averaged positive outer SEI thickness [m]',\n",
       " 'Positive SEI [m]',\n",
       " 'Positive total SEI thickness [m]',\n",
       " 'X-averaged positive SEI thickness [m]',\n",
       " 'X-averaged positive total SEI thickness [m]',\n",
       " 'X-averaged positive electrode resistance [Ohm.m2]',\n",
       " 'Positive electrode inner SEI interfacial current density [A.m-2]',\n",
       " 'X-averaged positive electrode inner SEI interfacial current density [A.m-2]',\n",
       " 'Positive electrode outer SEI interfacial current density [A.m-2]',\n",
       " 'X-averaged positive electrode outer SEI interfacial current density [A.m-2]',\n",
       " 'Positive electrode SEI interfacial current density [A.m-2]',\n",
       " 'X-averaged positive electrode SEI interfacial current density [A.m-2]',\n",
       " 'Negative inner SEI on cracks thickness [m]',\n",
       " 'Negative outer SEI on cracks thickness [m]',\n",
       " 'X-averaged negative inner SEI on cracks thickness [m]',\n",
       " 'X-averaged negative outer SEI on cracks thickness [m]',\n",
       " 'Negative SEI on cracks [m]',\n",
       " 'Negative total SEI on cracks thickness [m]',\n",
       " 'X-averaged negative SEI on cracks thickness [m]',\n",
       " 'X-averaged negative total SEI on cracks thickness [m]',\n",
       " 'Negative electrode inner SEI on cracks interfacial current density [A.m-2]',\n",
       " 'X-averaged negative electrode inner SEI on cracks interfacial current density [A.m-2]',\n",
       " 'Negative electrode outer SEI on cracks interfacial current density [A.m-2]',\n",
       " 'X-averaged negative electrode outer SEI on cracks interfacial current density [A.m-2]',\n",
       " 'Negative electrode SEI on cracks interfacial current density [A.m-2]',\n",
       " 'X-averaged negative electrode SEI on cracks interfacial current density [A.m-2]',\n",
       " 'Positive inner SEI on cracks thickness [m]',\n",
       " 'Positive outer SEI on cracks thickness [m]',\n",
       " 'X-averaged positive inner SEI on cracks thickness [m]',\n",
       " 'X-averaged positive outer SEI on cracks thickness [m]',\n",
       " 'Positive SEI on cracks [m]',\n",
       " 'Positive total SEI on cracks thickness [m]',\n",
       " 'X-averaged positive SEI on cracks thickness [m]',\n",
       " 'X-averaged positive total SEI on cracks thickness [m]',\n",
       " 'Positive electrode inner SEI on cracks interfacial current density [A.m-2]',\n",
       " 'X-averaged positive electrode inner SEI on cracks interfacial current density [A.m-2]',\n",
       " 'Positive electrode outer SEI on cracks interfacial current density [A.m-2]',\n",
       " 'X-averaged positive electrode outer SEI on cracks interfacial current density [A.m-2]',\n",
       " 'Positive electrode SEI on cracks interfacial current density [A.m-2]',\n",
       " 'X-averaged positive electrode SEI on cracks interfacial current density [A.m-2]',\n",
       " 'Negative lithium plating concentration [mol.m-3]',\n",
       " 'X-averaged negative lithium plating concentration [mol.m-3]',\n",
       " 'Negative dead lithium concentration [mol.m-3]',\n",
       " 'X-averaged negative dead lithium concentration [mol.m-3]',\n",
       " 'Negative lithium plating thickness [m]',\n",
       " 'X-averaged negative lithium plating thickness [m]',\n",
       " 'Negative dead lithium thickness [m]',\n",
       " 'X-averaged negative dead lithium thickness [m]',\n",
       " 'Loss of lithium to negative lithium plating [mol]',\n",
       " 'Loss of capacity to negative lithium plating [A.h]',\n",
       " 'Negative electrode lithium plating reaction overpotential [V]',\n",
       " 'X-averaged negative electrode lithium plating reaction overpotential [V]',\n",
       " 'Negative lithium plating interfacial current density [A.m-2]',\n",
       " 'X-averaged negative lithium plating interfacial current density [A.m-2]',\n",
       " 'Positive lithium plating concentration [mol.m-3]',\n",
       " 'X-averaged positive lithium plating concentration [mol.m-3]',\n",
       " 'Positive dead lithium concentration [mol.m-3]',\n",
       " 'X-averaged positive dead lithium concentration [mol.m-3]',\n",
       " 'Positive lithium plating thickness [m]',\n",
       " 'X-averaged positive lithium plating thickness [m]',\n",
       " 'Positive dead lithium thickness [m]',\n",
       " 'X-averaged positive dead lithium thickness [m]',\n",
       " 'Loss of lithium to positive lithium plating [mol]',\n",
       " 'Loss of capacity to positive lithium plating [A.h]',\n",
       " 'Positive electrode lithium plating reaction overpotential [V]',\n",
       " 'X-averaged positive electrode lithium plating reaction overpotential [V]',\n",
       " 'Positive lithium plating interfacial current density [A.m-2]',\n",
       " 'X-averaged positive lithium plating interfacial current density [A.m-2]',\n",
       " 'Negative crack surface to volume ratio [m-1]',\n",
       " 'Negative electrode roughness ratio',\n",
       " 'X-averaged negative electrode roughness ratio',\n",
       " 'Positive crack surface to volume ratio [m-1]',\n",
       " 'Positive electrode roughness ratio',\n",
       " 'X-averaged positive electrode roughness ratio',\n",
       " 'Electrolyte transport efficiency',\n",
       " 'Negative electrolyte transport efficiency',\n",
       " 'X-averaged negative electrolyte transport efficiency',\n",
       " 'Separator electrolyte transport efficiency',\n",
       " 'X-averaged separator electrolyte transport efficiency',\n",
       " 'Positive electrolyte transport efficiency',\n",
       " 'X-averaged positive electrolyte transport efficiency',\n",
       " 'Electrode transport efficiency',\n",
       " 'Negative electrode transport efficiency',\n",
       " 'X-averaged negative electrode transport efficiency',\n",
       " 'Separator electrode transport efficiency',\n",
       " 'X-averaged separator electrode transport efficiency',\n",
       " 'Positive electrode transport efficiency',\n",
       " 'X-averaged positive electrode transport efficiency',\n",
       " 'Separator volume-averaged velocity [m.s-1]',\n",
       " 'Separator volume-averaged acceleration [m.s-2]',\n",
       " 'X-averaged separator volume-averaged acceleration [m.s-2]',\n",
       " 'Volume-averaged velocity [m.s-1]',\n",
       " 'Volume-averaged acceleration [m.s-1]',\n",
       " 'X-averaged volume-averaged acceleration [m.s-1]',\n",
       " 'Pressure [Pa]',\n",
       " 'Negative electrode stoichiometry',\n",
       " 'Negative electrode volume-averaged concentration',\n",
       " 'Negative electrode volume-averaged concentration [mol.m-3]',\n",
       " 'Total lithium in primary phase in negative electrode [mol]',\n",
       " 'Positive electrode stoichiometry',\n",
       " 'Positive electrode volume-averaged concentration',\n",
       " 'Positive electrode volume-averaged concentration [mol.m-3]',\n",
       " 'Total lithium in primary phase in positive electrode [mol]',\n",
       " 'Negative electrode effective conductivity',\n",
       " 'Negative electrode current density [A.m-2]',\n",
       " 'Positive electrode effective conductivity',\n",
       " 'Positive electrode current density [A.m-2]',\n",
       " 'Electrode current density [A.m-2]',\n",
       " 'Positive current collector potential [V]',\n",
       " 'Local voltage [V]',\n",
       " 'Terminal voltage [V]',\n",
       " 'Voltage [V]',\n",
       " 'Contact overpotential [V]',\n",
       " 'Electrolyte concentration concatenation [mol.m-3]',\n",
       " 'Negative electrolyte concentration [mol.m-3]',\n",
       " 'X-averaged negative electrolyte concentration [mol.m-3]',\n",
       " 'Separator electrolyte concentration [mol.m-3]',\n",
       " 'X-averaged separator electrolyte concentration [mol.m-3]',\n",
       " 'Positive electrolyte concentration [mol.m-3]',\n",
       " 'X-averaged positive electrolyte concentration [mol.m-3]',\n",
       " 'Negative electrolyte concentration [Molar]',\n",
       " 'X-averaged negative electrolyte concentration [Molar]',\n",
       " 'Separator electrolyte concentration [Molar]',\n",
       " 'X-averaged separator electrolyte concentration [Molar]',\n",
       " 'Positive electrolyte concentration [Molar]',\n",
       " 'X-averaged positive electrolyte concentration [Molar]',\n",
       " 'Electrolyte concentration [mol.m-3]',\n",
       " 'X-averaged electrolyte concentration [mol.m-3]',\n",
       " 'Electrolyte concentration [Molar]',\n",
       " 'X-averaged electrolyte concentration [Molar]',\n",
       " 'Electrolyte current density [A.m-2]',\n",
       " 'X-averaged concentration overpotential [V]',\n",
       " 'X-averaged electrolyte ohmic losses [V]',\n",
       " 'Negative electrode surface potential difference [V]',\n",
       " 'Negative electrode surface potential difference at separator interface [V]',\n",
       " 'X-averaged negative electrode surface potential difference [V]',\n",
       " 'Positive electrode surface potential difference [V]',\n",
       " 'Positive electrode surface potential difference at separator interface [V]',\n",
       " 'X-averaged positive electrode surface potential difference [V]',\n",
       " 'Ohmic heating [W.m-3]',\n",
       " 'X-averaged Ohmic heating [W.m-3]',\n",
       " 'Volume-averaged Ohmic heating [W.m-3]',\n",
       " 'Ohmic heating per unit electrode-pair area [W.m-2]',\n",
       " 'Ohmic heating [W]',\n",
       " 'Irreversible electrochemical heating [W.m-3]',\n",
       " 'X-averaged irreversible electrochemical heating [W.m-3]',\n",
       " 'Volume-averaged irreversible electrochemical heating [W.m-3]',\n",
       " 'Irreversible electrochemical heating per unit electrode-pair area [W.m-2]',\n",
       " 'Irreversible electrochemical heating [W]',\n",
       " 'Reversible heating [W.m-3]',\n",
       " 'X-averaged reversible heating [W.m-3]',\n",
       " 'Volume-averaged reversible heating [W.m-3]',\n",
       " 'Reversible heating per unit electrode-pair area [W.m-2]',\n",
       " 'Reversible heating [W]',\n",
       " 'Total heating [W.m-3]',\n",
       " 'X-averaged total heating [W.m-3]',\n",
       " 'Volume-averaged total heating [W.m-3]',\n",
       " 'Total heating per unit electrode-pair area [W.m-2]',\n",
       " 'Total heating [W]',\n",
       " 'Negative current collector Ohmic heating [W.m-3]',\n",
       " 'Positive current collector Ohmic heating [W.m-3]',\n",
       " 'Current collector current density [A.m-2]',\n",
       " 'Negative inner SEI concentration [mol.m-3]',\n",
       " 'X-averaged negative inner SEI concentration [mol.m-3]',\n",
       " 'Negative outer SEI concentration [mol.m-3]',\n",
       " 'X-averaged negative outer SEI concentration [mol.m-3]',\n",
       " 'Negative SEI concentration [mol.m-3]',\n",
       " 'X-averaged negative SEI concentration [mol.m-3]',\n",
       " 'Loss of lithium to negative SEI [mol]',\n",
       " 'Loss of capacity to negative SEI [A.h]',\n",
       " 'Negative electrode SEI volumetric interfacial current density [A.m-3]',\n",
       " 'X-averaged negative electrode SEI volumetric interfacial current density [A.m-3]',\n",
       " 'Positive inner SEI concentration [mol.m-3]',\n",
       " 'X-averaged positive inner SEI concentration [mol.m-3]',\n",
       " 'Positive outer SEI concentration [mol.m-3]',\n",
       " 'X-averaged positive outer SEI concentration [mol.m-3]',\n",
       " 'Positive SEI concentration [mol.m-3]',\n",
       " 'X-averaged positive SEI concentration [mol.m-3]',\n",
       " 'Loss of lithium to positive SEI [mol]',\n",
       " 'Loss of capacity to positive SEI [A.h]',\n",
       " 'Positive electrode SEI volumetric interfacial current density [A.m-3]',\n",
       " 'X-averaged positive electrode SEI volumetric interfacial current density [A.m-3]',\n",
       " 'Negative inner SEI on cracks concentration [mol.m-3]',\n",
       " 'X-averaged negative inner SEI on cracks concentration [mol.m-3]',\n",
       " 'Negative outer SEI on cracks concentration [mol.m-3]',\n",
       " 'X-averaged negative outer SEI on cracks concentration [mol.m-3]',\n",
       " 'Negative SEI on cracks concentration [mol.m-3]',\n",
       " 'X-averaged negative SEI on cracks concentration [mol.m-3]',\n",
       " 'Loss of lithium to negative SEI on cracks [mol]',\n",
       " 'Loss of capacity to negative SEI on cracks [A.h]',\n",
       " 'Negative electrode SEI on cracks volumetric interfacial current density [A.m-3]',\n",
       " 'X-averaged negative electrode SEI on cracks volumetric interfacial current density [A.m-3]',\n",
       " 'Positive inner SEI on cracks concentration [mol.m-3]',\n",
       " 'X-averaged positive inner SEI on cracks concentration [mol.m-3]',\n",
       " 'Positive outer SEI on cracks concentration [mol.m-3]',\n",
       " 'X-averaged positive outer SEI on cracks concentration [mol.m-3]',\n",
       " 'Positive SEI on cracks concentration [mol.m-3]',\n",
       " 'X-averaged positive SEI on cracks concentration [mol.m-3]',\n",
       " 'Loss of lithium to positive SEI on cracks [mol]',\n",
       " 'Loss of capacity to positive SEI on cracks [A.h]',\n",
       " 'Positive electrode SEI on cracks volumetric interfacial current density [A.m-3]',\n",
       " 'X-averaged positive electrode SEI on cracks volumetric interfacial current density [A.m-3]',\n",
       " 'Negative electrode lithium plating interfacial current density [A.m-2]',\n",
       " 'X-averaged negative electrode lithium plating interfacial current density [A.m-2]',\n",
       " 'Negative lithium plating volumetric interfacial current density [A.m-3]',\n",
       " 'X-averaged negative lithium plating volumetric interfacial current density [A.m-3]',\n",
       " 'Negative electrode lithium plating volumetric interfacial current density [A.m-3]',\n",
       " 'X-averaged negative electrode lithium plating volumetric interfacial current density [A.m-3]',\n",
       " 'Positive electrode lithium plating interfacial current density [A.m-2]',\n",
       " 'X-averaged positive electrode lithium plating interfacial current density [A.m-2]',\n",
       " 'Positive lithium plating volumetric interfacial current density [A.m-3]',\n",
       " 'X-averaged positive lithium plating volumetric interfacial current density [A.m-3]',\n",
       " 'Positive electrode lithium plating volumetric interfacial current density [A.m-3]',\n",
       " 'X-averaged positive electrode lithium plating volumetric interfacial current density [A.m-3]',\n",
       " 'Negative electrode open-circuit potential [V]',\n",
       " 'X-averaged negative electrode open-circuit potential [V]',\n",
       " 'Negative electrode bulk open-circuit potential [V]',\n",
       " 'Negative particle concentration overpotential [V]',\n",
       " 'Negative electrode entropic change [V.K-1]',\n",
       " 'X-averaged negative electrode entropic change [V.K-1]',\n",
       " 'Positive electrode open-circuit potential [V]',\n",
       " 'X-averaged positive electrode open-circuit potential [V]',\n",
       " 'Positive electrode bulk open-circuit potential [V]',\n",
       " 'Positive particle concentration overpotential [V]',\n",
       " 'Positive electrode entropic change [V.K-1]',\n",
       " 'X-averaged positive electrode entropic change [V.K-1]',\n",
       " 'Negative electrode interfacial current density [A.m-2]',\n",
       " 'X-averaged negative electrode interfacial current density [A.m-2]',\n",
       " 'X-averaged negative electrode total interfacial current density [A.m-2]',\n",
       " 'X-averaged negative electrode total volumetric interfacial current density [A.m-3]',\n",
       " 'Negative electrode exchange current density [A.m-2]',\n",
       " 'X-averaged negative electrode exchange current density [A.m-2]',\n",
       " 'Negative electrode reaction overpotential [V]',\n",
       " 'X-averaged negative electrode reaction overpotential [V]',\n",
       " 'Negative electrode volumetric interfacial current density [A.m-3]',\n",
       " 'X-averaged negative electrode volumetric interfacial current density [A.m-3]',\n",
       " 'Negative electrode SEI film overpotential [V]',\n",
       " 'X-averaged negative electrode SEI film overpotential [V]',\n",
       " 'Positive electrode interfacial current density [A.m-2]',\n",
       " 'X-averaged positive electrode interfacial current density [A.m-2]',\n",
       " 'X-averaged positive electrode total interfacial current density [A.m-2]',\n",
       " 'X-averaged positive electrode total volumetric interfacial current density [A.m-3]',\n",
       " 'Positive electrode exchange current density [A.m-2]',\n",
       " 'X-averaged positive electrode exchange current density [A.m-2]',\n",
       " 'Positive electrode reaction overpotential [V]',\n",
       " 'X-averaged positive electrode reaction overpotential [V]',\n",
       " 'Positive electrode volumetric interfacial current density [A.m-3]',\n",
       " 'X-averaged positive electrode volumetric interfacial current density [A.m-3]',\n",
       " 'Positive electrode SEI film overpotential [V]',\n",
       " 'X-averaged positive electrode SEI film overpotential [V]',\n",
       " 'Negative particle rhs [mol.m-3.s-1]',\n",
       " 'Negative particle bc [mol.m-4]',\n",
       " 'Negative particle effective diffusivity [m2.s-1]',\n",
       " 'X-averaged negative particle effective diffusivity [m2.s-1]',\n",
       " 'Volume-averaged negative particle effective diffusivity [m2.s-1]',\n",
       " 'Negative particle flux [mol.m-2.s-1]',\n",
       " 'Positive particle rhs [mol.m-3.s-1]',\n",
       " 'Positive particle bc [mol.m-4]',\n",
       " 'Positive particle effective diffusivity [m2.s-1]',\n",
       " 'X-averaged positive particle effective diffusivity [m2.s-1]',\n",
       " 'Volume-averaged positive particle effective diffusivity [m2.s-1]',\n",
       " 'Positive particle flux [mol.m-2.s-1]',\n",
       " 'Electrolyte flux [mol.m-2.s-1]',\n",
       " 'Electrolyte diffusion flux [mol.m-2.s-1]',\n",
       " 'Electrolyte migration flux [mol.m-2.s-1]',\n",
       " 'Electrolyte convection flux [mol.m-2.s-1]',\n",
       " 'Sum of negative electrode electrolyte reaction source terms [A.m-3]',\n",
       " 'Sum of x-averaged negative electrode electrolyte reaction source terms [A.m-3]',\n",
       " 'Sum of negative electrode volumetric interfacial current densities [A.m-3]',\n",
       " 'Sum of x-averaged negative electrode volumetric interfacial current densities [A.m-3]',\n",
       " 'Sum of positive electrode electrolyte reaction source terms [A.m-3]',\n",
       " 'Sum of x-averaged positive electrode electrolyte reaction source terms [A.m-3]',\n",
       " 'Sum of positive electrode volumetric interfacial current densities [A.m-3]',\n",
       " 'Sum of x-averaged positive electrode volumetric interfacial current densities [A.m-3]',\n",
       " 'Interfacial current density [A.m-2]',\n",
       " 'Exchange current density [A.m-2]',\n",
       " 'Sum of volumetric interfacial current densities [A.m-3]',\n",
       " 'Sum of electrolyte reaction source terms [A.m-3]',\n",
       " 'Surface open-circuit voltage [V]',\n",
       " 'Bulk open-circuit voltage [V]',\n",
       " 'Particle concentration overpotential [V]',\n",
       " 'X-averaged reaction overpotential [V]',\n",
       " 'X-averaged SEI film overpotential [V]',\n",
       " 'X-averaged solid phase ohmic losses [V]',\n",
       " 'Battery open-circuit voltage [V]',\n",
       " 'Battery negative electrode bulk open-circuit potential [V]',\n",
       " 'Battery positive electrode bulk open-circuit potential [V]',\n",
       " 'Battery particle concentration overpotential [V]',\n",
       " 'Battery negative particle concentration overpotential [V]',\n",
       " 'Battery positive particle concentration overpotential [V]',\n",
       " 'X-averaged battery reaction overpotential [V]',\n",
       " 'X-averaged battery negative reaction overpotential [V]',\n",
       " 'X-averaged battery positive reaction overpotential [V]',\n",
       " 'X-averaged battery solid phase ohmic losses [V]',\n",
       " 'X-averaged battery negative solid phase ohmic losses [V]',\n",
       " 'X-averaged battery positive solid phase ohmic losses [V]',\n",
       " 'X-averaged battery electrolyte ohmic losses [V]',\n",
       " 'X-averaged battery concentration overpotential [V]',\n",
       " 'Battery voltage [V]',\n",
       " 'Local ECM resistance [Ohm]',\n",
       " 'Terminal power [W]',\n",
       " 'Power [W]',\n",
       " 'Resistance [Ohm]',\n",
       " 'Total lithium in negative electrode [mol]',\n",
       " 'LAM_ne [%]',\n",
       " 'Loss of active material in negative electrode [%]',\n",
       " 'Total lithium in positive electrode [mol]',\n",
       " 'LAM_pe [%]',\n",
       " 'Loss of active material in positive electrode [%]',\n",
       " 'LLI [%]',\n",
       " 'Loss of lithium inventory [%]',\n",
       " 'Loss of lithium inventory, including electrolyte [%]',\n",
       " 'Total lithium [mol]',\n",
       " 'Total lithium in particles [mol]',\n",
       " 'Total lithium capacity [A.h]',\n",
       " 'Total lithium capacity in particles [A.h]',\n",
       " 'Total lithium lost [mol]',\n",
       " 'Total lithium lost from particles [mol]',\n",
       " 'Total lithium lost from electrolyte [mol]',\n",
       " 'Total lithium lost to side reactions [mol]',\n",
       " 'Total capacity lost to side reactions [A.h]']"
      ]
     },
     "execution_count": 8,
     "metadata": {},
     "output_type": "execute_result"
    }
   ],
   "source": [
    "model.variable_names()"
   ]
  },
  {
   "cell_type": "code",
   "execution_count": 9,
   "metadata": {},
   "outputs": [
    {
     "name": "stdout",
     "output_type": "stream",
     "text": [
      "Electrolyte concentration [Molar]\n",
      "Electrolyte concentration [mol.m-3]\n",
      "Electrolyte concentration concatenation [mol.m-3]\n",
      "Electrolyte convection flux [mol.m-2.s-1]\n",
      "Electrolyte current density [A.m-2]\n",
      "Electrolyte diffusion flux [mol.m-2.s-1]\n",
      "Electrolyte flux [mol.m-2.s-1]\n",
      "Electrolyte migration flux [mol.m-2.s-1]\n",
      "Electrolyte potential [V]\n",
      "Electrolyte transport efficiency\n",
      "Gradient of electrolyte potential [V.m-1]\n",
      "Gradient of negative electrolyte potential [V.m-1]\n",
      "Gradient of positive electrolyte potential [V.m-1]\n",
      "Gradient of separator electrolyte potential [V.m-1]\n",
      "Loss of lithium inventory, including electrolyte [%]\n",
      "Negative electrolyte concentration [Molar]\n",
      "Negative electrolyte concentration [mol.m-3]\n",
      "Negative electrolyte potential [V]\n",
      "Negative electrolyte transport efficiency\n",
      "Positive electrolyte concentration [Molar]\n",
      "Positive electrolyte concentration [mol.m-3]\n",
      "Positive electrolyte potential [V]\n",
      "Positive electrolyte transport efficiency\n",
      "Separator electrolyte concentration [Molar]\n",
      "Separator electrolyte concentration [mol.m-3]\n",
      "Separator electrolyte potential [V]\n",
      "Separator electrolyte transport efficiency\n",
      "Sum of electrolyte reaction source terms [A.m-3]\n",
      "Sum of negative electrode electrolyte reaction source terms [A.m-3]\n",
      "Sum of positive electrode electrolyte reaction source terms [A.m-3]\n",
      "Sum of x-averaged negative electrode electrolyte reaction source terms [A.m-3]\n",
      "Sum of x-averaged positive electrode electrolyte reaction source terms [A.m-3]\n",
      "Total lithium in electrolyte [mol]\n",
      "Total lithium lost from electrolyte [mol]\n",
      "X-averaged battery electrolyte ohmic losses [V]\n",
      "X-averaged electrolyte concentration [Molar]\n",
      "X-averaged electrolyte concentration [mol.m-3]\n",
      "X-averaged electrolyte ohmic losses [V]\n",
      "X-averaged electrolyte overpotential [V]\n",
      "X-averaged electrolyte potential [V]\n",
      "X-averaged negative electrolyte concentration [Molar]\n",
      "X-averaged negative electrolyte concentration [mol.m-3]\n",
      "X-averaged negative electrolyte potential [V]\n",
      "X-averaged negative electrolyte transport efficiency\n",
      "X-averaged positive electrolyte concentration [Molar]\n",
      "X-averaged positive electrolyte concentration [mol.m-3]\n",
      "X-averaged positive electrolyte potential [V]\n",
      "X-averaged positive electrolyte transport efficiency\n",
      "X-averaged separator electrolyte concentration [Molar]\n",
      "X-averaged separator electrolyte concentration [mol.m-3]\n",
      "X-averaged separator electrolyte potential [V]\n",
      "X-averaged separator electrolyte transport efficiency\n"
     ]
    }
   ],
   "source": [
    "model.variables.search(\"electrolyte\")"
   ]
  },
  {
   "attachments": {},
   "cell_type": "markdown",
   "metadata": {},
   "source": [
    "### Changing the parameters"
   ]
  },
  {
   "cell_type": "code",
   "execution_count": 10,
   "metadata": {},
   "outputs": [
    {
     "data": {
      "application/vnd.jupyter.widget-view+json": {
       "model_id": "8d16245b262e462da282834a2428acec",
       "version_major": 2,
       "version_minor": 0
      },
      "text/plain": [
       "interactive(children=(FloatSlider(value=0.0, description='t', max=3555.448018330494, step=35.55448018330494), …"
      ]
     },
     "metadata": {},
     "output_type": "display_data"
    },
    {
     "data": {
      "text/plain": [
       "<pybamm.plotting.quick_plot.QuickPlot at 0x30103a7c0>"
      ]
     },
     "execution_count": 10,
     "metadata": {},
     "output_type": "execute_result"
    }
   ],
   "source": [
    "parameter_values = pybamm.ParameterValues(\"Chen2020\")\n",
    "\n",
    "simulation = pybamm.Simulation(model, parameter_values=parameter_values)\n",
    "sim = simulation.solve([0, 3600])\n",
    "sim.plot()"
   ]
  },
  {
   "attachments": {},
   "cell_type": "markdown",
   "metadata": {},
   "source": [
    "### Running experiments"
   ]
  },
  {
   "cell_type": "code",
   "execution_count": 11,
   "metadata": {},
   "outputs": [],
   "source": [
    "simulation = pybamm.Simulation(model, experiment=\"Discharge at 3C until 3.3 V\")"
   ]
  },
  {
   "attachments": {},
   "cell_type": "markdown",
   "metadata": {},
   "source": [
    "### Printing citation"
   ]
  },
  {
   "cell_type": "code",
   "execution_count": 12,
   "metadata": {},
   "outputs": [
    {
     "name": "stdout",
     "output_type": "stream",
     "text": [
      "[1] Joel A. E. Andersson, Joris Gillis, Greg Horn, James B. Rawlings, and Moritz Diehl. CasADi – A software framework for nonlinear optimization and optimal control. Mathematical Programming Computation, 11(1):1–36, 2019. doi:10.1007/s12532-018-0139-4.\n",
      "[2] Chang-Hui Chen, Ferran Brosa Planella, Kieran O'Regan, Dominika Gastol, W. Dhammika Widanage, and Emma Kendrick. Development of Experimental Techniques for Parameterization of Multi-scale Lithium-ion Battery Models. Journal of The Electrochemical Society, 167(8):080534, 2020. doi:10.1149/1945-7111/ab9050.\n",
      "[3] Marc Doyle, Thomas F. Fuller, and John Newman. Modeling of galvanostatic charge and discharge of the lithium/polymer/insertion cell. Journal of the Electrochemical society, 140(6):1526–1533, 1993. doi:10.1149/1.2221597.\n",
      "[4] Charles R. Harris, K. Jarrod Millman, Stéfan J. van der Walt, Ralf Gommers, Pauli Virtanen, David Cournapeau, Eric Wieser, Julian Taylor, Sebastian Berg, Nathaniel J. Smith, and others. Array programming with NumPy. Nature, 585(7825):357–362, 2020. doi:10.1038/s41586-020-2649-2.\n",
      "[5] Scott G. Marquis, Valentin Sulzer, Robert Timms, Colin P. Please, and S. Jon Chapman. An asymptotic derivation of a single particle model with electrolyte. Journal of The Electrochemical Society, 166(15):A3693–A3706, 2019. doi:10.1149/2.0341915jes.\n",
      "[6] Valentin Sulzer, Scott G. Marquis, Robert Timms, Martin Robinson, and S. Jon Chapman. Python Battery Mathematical Modelling (PyBaMM). Journal of Open Research Software, 9(1):14, 2021. doi:10.5334/jors.309.\n",
      "\n"
     ]
    }
   ],
   "source": [
    "pybamm.print_citations()"
   ]
  },
  {
   "attachments": {},
   "cell_type": "markdown",
   "metadata": {},
   "source": [
    "## Lesson 2: The Experiment class"
   ]
  },
  {
   "cell_type": "code",
   "execution_count": 13,
   "metadata": {},
   "outputs": [
    {
     "name": "stderr",
     "output_type": "stream",
     "text": [
      "2024-08-01 11:43:52.343 - [WARNING] simulation.solve(590): Ignoring t_eval as solution times are specified by the experiment\n"
     ]
    },
    {
     "data": {
      "application/vnd.jupyter.widget-view+json": {
       "model_id": "c2f09af54aac4e299b4daa8a41eb2cf5",
       "version_major": 2,
       "version_minor": 0
      },
      "text/plain": [
       "interactive(children=(FloatSlider(value=0.0, description='t', max=3554.8346439614356, step=35.548346439614356)…"
      ]
     },
     "metadata": {},
     "output_type": "display_data"
    },
    {
     "data": {
      "application/vnd.jupyter.widget-view+json": {
       "model_id": "cd583ed457ed45ac8d02909ef2bc0b5f",
       "version_major": 2,
       "version_minor": 0
      },
      "text/plain": [
       "interactive(children=(FloatSlider(value=0.9874540677673432, description='t', max=4.806270923359989, min=0.9874…"
      ]
     },
     "metadata": {},
     "output_type": "display_data"
    },
    {
     "data": {
      "application/vnd.jupyter.widget-view+json": {
       "model_id": "29f653a5f2d042429edae00757e7c57b",
       "version_major": 2,
       "version_minor": 0
      },
      "text/plain": [
       "interactive(children=(FloatSlider(value=0.0, description='t', max=5.095762441376283, step=0.05095762441376283)…"
      ]
     },
     "metadata": {},
     "output_type": "display_data"
    },
    {
     "data": {
      "text/plain": [
       "<pybamm.plotting.quick_plot.QuickPlot at 0x305b01f70>"
      ]
     },
     "execution_count": 13,
     "metadata": {},
     "output_type": "execute_result"
    }
   ],
   "source": [
    "experiment = pybamm.Experiment([\n",
    "    \"Discharge at 1C until 3.3 V\",\n",
    "    \"Charge at 0.3C until 4.0 V\",\n",
    "    \"Hold at 4.0 V until C/100\",\n",
    "])\n",
    "simulation = pybamm.Simulation(model, experiment=experiment)\n",
    "solution = simulation.solve([0, 3600])\n",
    "solution.cycles[0].plot()\n",
    "solution.cycles[1].plot()\n",
    "solution.plot()"
   ]
  },
  {
   "cell_type": "code",
   "execution_count": 14,
   "metadata": {},
   "outputs": [
    {
     "name": "stderr",
     "output_type": "stream",
     "text": [
      "2024-08-01 11:44:01.915 - [WARNING] simulation.solve(590): Ignoring t_eval as solution times are specified by the experiment\n",
      "At t = 273.579, , mxstep steps taken before reaching tout.\n",
      "At t = 518.942 and h = 2.82406e-17, the corrector convergence failed repeatedly or with |h| = hmin.\n"
     ]
    },
    {
     "data": {
      "application/vnd.jupyter.widget-view+json": {
       "model_id": "7aaccb0e15864c6a80ce9a6ce7dbbd50",
       "version_major": 2,
       "version_minor": 0
      },
      "text/plain": [
       "interactive(children=(FloatSlider(value=0.0, description='t', max=15.628642438853326, step=0.15628642438853327…"
      ]
     },
     "metadata": {},
     "output_type": "display_data"
    },
    {
     "data": {
      "text/plain": [
       "<pybamm.plotting.quick_plot.QuickPlot at 0x308ab0640>"
      ]
     },
     "execution_count": 14,
     "metadata": {},
     "output_type": "execute_result"
    }
   ],
   "source": [
    "experiment2 = pybamm.Experiment([\n",
    "    (\n",
    "        \"Discharge at C/4 until 2.5 V\",\n",
    "        \"Charge at C/4 until 4.2 V\",\n",
    "        \"Hold at 4.2 V until C/100\"\n",
    "    ),\n",
    "    (\n",
    "        \"Discharge at C/2 until 2.5 V\",\n",
    "        \"Charge at C/2 until 4.2 V\",\n",
    "        \"Hold at 4.2 V until C/100\"\n",
    "    )\n",
    "])\n",
    "simulation2 = pybamm.Simulation(model, experiment=experiment2)\n",
    "sim2 = simulation2.solve([0, 3600])\n",
    "simulation2.plot()"
   ]
  },
  {
   "cell_type": "code",
   "execution_count": 15,
   "metadata": {},
   "outputs": [
    {
     "data": {
      "application/vnd.jupyter.widget-view+json": {
       "model_id": "85a8689175c44982a22cc2d8d7519b7b",
       "version_major": 2,
       "version_minor": 0
      },
      "text/plain": [
       "interactive(children=(FloatSlider(value=4.200868332206537, description='t', max=9.66990731414445, min=4.200868…"
      ]
     },
     "metadata": {},
     "output_type": "display_data"
    },
    {
     "data": {
      "text/plain": [
       "<pybamm.plotting.quick_plot.QuickPlot at 0x305ac2220>"
      ]
     },
     "execution_count": 15,
     "metadata": {},
     "output_type": "execute_result"
    }
   ],
   "source": [
    "sim2.cycles[0].steps[1].plot()"
   ]
  },
  {
   "cell_type": "code",
   "execution_count": 16,
   "metadata": {},
   "outputs": [
    {
     "name": "stderr",
     "output_type": "stream",
     "text": [
      "2024-08-01 11:44:26.268 - [WARNING] simulation.solve(590): Ignoring t_eval as solution times are specified by the experiment\n",
      "At t = 28.4004 and h = 1.78326e-15, the corrector convergence failed repeatedly or with |h| = hmin.\n",
      "At t = 28.4005 and h = 6.01091e-18, the corrector convergence failed repeatedly or with |h| = hmin.\n",
      "At t = 28.4005 and h = 7.29157e-13, the corrector convergence failed repeatedly or with |h| = hmin.\n",
      "At t = 28.4004 and h = 4.9943e-16, the corrector convergence failed repeatedly or with |h| = hmin.\n",
      "At t = 28.4005 and h = 3.06573e-16, the corrector convergence failed repeatedly or with |h| = hmin.\n",
      "At t = 334.034 and h = 5.89358e-14, the corrector convergence failed repeatedly or with |h| = hmin.\n",
      "At t = 526.473 and h = 2.13775e-17, the corrector convergence failed repeatedly or with |h| = hmin.\n",
      "At t = 334.037, , mxstep steps taken before reaching tout.\n",
      "At t = 526.473 and h = 7.7449e-17, the corrector convergence failed repeatedly or with |h| = hmin.\n",
      "At t = 334.037, , mxstep steps taken before reaching tout.\n",
      "At t = 526.473 and h = 8.76565e-19, the corrector convergence failed repeatedly or with |h| = hmin.\n",
      "At t = 334.037 and h = 1.67751e-15, the corrector convergence failed repeatedly or with |h| = hmin.\n",
      "At t = 526.473 and h = 6.76317e-16, the corrector convergence failed repeatedly or with |h| = hmin.\n",
      "At t = 334.037, , mxstep steps taken before reaching tout.\n",
      "At t = 526.473 and h = 7.48003e-13, the corrector convergence failed repeatedly or with |h| = hmin.\n",
      "At t = 334.037 and h = 3.79411e-24, the corrector convergence failed repeatedly or with |h| = hmin.\n",
      "At t = 526.473 and h = 3.46173e-17, the corrector convergence failed repeatedly or with |h| = hmin.\n",
      "At t = 334.037, , mxstep steps taken before reaching tout.\n",
      "At t = 526.473 and h = 5.49384e-17, the corrector convergence failed repeatedly or with |h| = hmin.\n",
      "At t = 334.037, , mxstep steps taken before reaching tout.\n",
      "At t = 526.473 and h = 1.09015e-15, the corrector convergence failed repeatedly or with |h| = hmin.\n",
      "At t = 334.037 and h = 9.38372e-14, the corrector convergence failed repeatedly or with |h| = hmin.\n",
      "At t = 526.473 and h = 1.88563e-15, the corrector convergence failed repeatedly or with |h| = hmin.\n",
      "At t = 334.037 and h = 1.35772e-13, the corrector convergence failed repeatedly or with |h| = hmin.\n",
      "At t = 526.473 and h = 2.54032e-15, the corrector convergence failed repeatedly or with |h| = hmin.\n",
      "At t = 88.4006 and h = 4.76328e-13, the corrector convergence failed repeatedly or with |h| = hmin.\n",
      "At t = 88.4006 and h = 7.80871e-18, the corrector convergence failed repeatedly or with |h| = hmin.\n",
      "At t = 88.4005 and h = 1.33104e-12, the corrector convergence failed repeatedly or with |h| = hmin.\n",
      "At t = 28.4005 and h = 5.83266e-13, the corrector convergence failed repeatedly or with |h| = hmin.\n",
      "At t = 28.4006, , mxstep steps taken before reaching tout.\n"
     ]
    },
    {
     "data": {
      "application/vnd.jupyter.widget-view+json": {
       "model_id": "700f873a37d94de79b94715f0c32d537",
       "version_major": 2,
       "version_minor": 0
      },
      "text/plain": [
       "interactive(children=(FloatSlider(value=0.0, description='t', max=121.18470514562605, step=1.2118470514562605)…"
      ]
     },
     "metadata": {},
     "output_type": "display_data"
    },
    {
     "data": {
      "text/plain": [
       "<pybamm.plotting.quick_plot.QuickPlot at 0x30cec3fa0>"
      ]
     },
     "execution_count": 16,
     "metadata": {},
     "output_type": "execute_result"
    }
   ],
   "source": [
    "experiment3 = pybamm.Experiment(\n",
    "    # Initialize\n",
    "    [\n",
    "        \"Hold at 4.2 V until C/100\",\n",
    "        \"Rest for 4 hours\",\n",
    "    ] +\n",
    "    # Capacity check\n",
    "    [(\n",
    "        \"Discharge at C/10 until 2.5 V\",\n",
    "        \"Charge at C/10 until 4.2 V\",\n",
    "        \"Hold at 4.2 V until C/100\"\n",
    "    )] +  \n",
    "    # Ageing cycles\n",
    "    [(\n",
    "        \"Discharge at 1C until 2.5 V\",\n",
    "        \"Charge at 0.3C until 4.2 V\",\n",
    "        \"Hold at 4.2 V until C/100\",\n",
    "    )] * 10 +\n",
    "    # Capacity check\n",
    "    [(\n",
    "        \"Discharge at C/10 until 2.5 V\",\n",
    "        \"Charge at C/10 until 4.2 V\",\n",
    "        \"Hold at 4.2 V until C/100\"\n",
    "    )]  \n",
    ")\n",
    "\n",
    "simulation3 = pybamm.Simulation(model, experiment=experiment3)\n",
    "sim3 = simulation3.solve([0, 3600])\n",
    "simulation3.plot()"
   ]
  },
  {
   "attachments": {},
   "cell_type": "markdown",
   "metadata": {},
   "source": [
    "## Lesson 3: Parameter Sets"
   ]
  },
  {
   "cell_type": "code",
   "execution_count": 17,
   "metadata": {},
   "outputs": [
    {
     "name": "stdout",
     "output_type": "stream",
     "text": [
      "4.1\n",
      "3.105\n"
     ]
    }
   ],
   "source": [
    "parameter_values = pybamm.ParameterValues(\"Marquis2019\")\n",
    "print(parameter_values[\"Upper voltage cut-off [V]\"])\n",
    "print(parameter_values[\"Lower voltage cut-off [V]\"])"
   ]
  },
  {
   "cell_type": "code",
   "execution_count": 18,
   "metadata": {},
   "outputs": [
    {
     "name": "stdout",
     "output_type": "stream",
     "text": [
      "{'Ambient temperature [K]': 298.15,\n",
      " 'Boltzmann constant [J.K-1]': 1.380649e-23,\n",
      " 'Bulk solvent concentration [mol.m-3]': 2636.0,\n",
      " 'Cation transference number': 0.2594,\n",
      " 'Cell cooling surface area [m2]': 0.00531,\n",
      " 'Cell thermal expansion coefficient [m.K-1]': 1.1e-06,\n",
      " 'Cell volume [m3]': 2.42e-05,\n",
      " 'Contact resistance [Ohm]': 0,\n",
      " 'Current function [A]': 5.0,\n",
      " 'EC diffusivity [m2.s-1]': 2e-18,\n",
      " 'EC initial concentration in electrolyte [mol.m-3]': 4541.0,\n",
      " 'Electrode height [m]': 0.065,\n",
      " 'Electrode width [m]': 1.58,\n",
      " 'Electrolyte conductivity [S.m-1]': <function electrolyte_conductivity_Nyman2008 at 0x304a39310>,\n",
      " 'Electrolyte diffusivity [m2.s-1]': <function electrolyte_diffusivity_Nyman2008 at 0x304a39280>,\n",
      " 'Electron charge [C]': 1.602176634e-19,\n",
      " 'Faraday constant [C.mol-1]': 96485.33212,\n",
      " 'Ideal gas constant [J.K-1.mol-1]': 8.314462618,\n",
      " 'Initial concentration in electrolyte [mol.m-3]': 1000.0,\n",
      " 'Initial concentration in negative electrode [mol.m-3]': 29866.0,\n",
      " 'Initial concentration in positive electrode [mol.m-3]': 17038.0,\n",
      " 'Initial inner SEI thickness [m]': 2.5e-09,\n",
      " 'Initial outer SEI thickness [m]': 2.5e-09,\n",
      " 'Initial temperature [K]': 298.15,\n",
      " 'Inner SEI electron conductivity [S.m-1]': 8.95e-14,\n",
      " 'Inner SEI lithium interstitial diffusivity [m2.s-1]': 1e-20,\n",
      " 'Inner SEI open-circuit potential [V]': 0.1,\n",
      " 'Inner SEI partial molar volume [m3.mol-1]': 9.585e-05,\n",
      " 'Inner SEI reaction proportion': 0.5,\n",
      " 'Lithium interstitial reference concentration [mol.m-3]': 15.0,\n",
      " 'Lower voltage cut-off [V]': 2.5,\n",
      " 'Maximum concentration in negative electrode [mol.m-3]': 33133.0,\n",
      " 'Maximum concentration in positive electrode [mol.m-3]': 63104.0,\n",
      " 'Negative current collector conductivity [S.m-1]': 58411000.0,\n",
      " 'Negative current collector density [kg.m-3]': 8960.0,\n",
      " 'Negative current collector specific heat capacity [J.kg-1.K-1]': 385.0,\n",
      " 'Negative current collector thermal conductivity [W.m-1.K-1]': 401.0,\n",
      " 'Negative current collector thickness [m]': 1.2e-05,\n",
      " 'Negative electrode Bruggeman coefficient (electrode)': 0,\n",
      " 'Negative electrode Bruggeman coefficient (electrolyte)': 1.5,\n",
      " 'Negative electrode OCP [V]': <function graphite_LGM50_ocp_Chen2020 at 0x107a19dc0>,\n",
      " 'Negative electrode OCP entropic change [V.K-1]': 0.0,\n",
      " 'Negative electrode active material volume fraction': 0.75,\n",
      " 'Negative electrode charge transfer coefficient': 0.5,\n",
      " 'Negative electrode conductivity [S.m-1]': 215.0,\n",
      " 'Negative electrode density [kg.m-3]': 1657.0,\n",
      " 'Negative electrode diffusivity [m2.s-1]': 3.3e-14,\n",
      " 'Negative electrode double-layer capacity [F.m-2]': 0.2,\n",
      " 'Negative electrode exchange-current density [A.m-2]': <function graphite_LGM50_electrolyte_exchange_current_density_Chen2020 at 0x3049d21f0>,\n",
      " 'Negative electrode porosity': 0.25,\n",
      " 'Negative electrode reaction-driven LAM factor [m3.mol-1]': 0.0,\n",
      " 'Negative electrode specific heat capacity [J.kg-1.K-1]': 700.0,\n",
      " 'Negative electrode thermal conductivity [W.m-1.K-1]': 1.7,\n",
      " 'Negative electrode thickness [m]': 8.52e-05,\n",
      " 'Negative particle radius [m]': 5.86e-06,\n",
      " 'Nominal cell capacity [A.h]': 5.0,\n",
      " 'Number of cells connected in series to make a battery': 1.0,\n",
      " 'Number of electrodes connected in parallel to make a cell': 1.0,\n",
      " 'Open-circuit voltage at 0% SOC [V]': 2.5,\n",
      " 'Open-circuit voltage at 100% SOC [V]': 4.2,\n",
      " 'Outer SEI open-circuit potential [V]': 0.8,\n",
      " 'Outer SEI partial molar volume [m3.mol-1]': 9.585e-05,\n",
      " 'Outer SEI solvent diffusivity [m2.s-1]': 2.5000000000000002e-22,\n",
      " 'Positive current collector conductivity [S.m-1]': 36914000.0,\n",
      " 'Positive current collector density [kg.m-3]': 2700.0,\n",
      " 'Positive current collector specific heat capacity [J.kg-1.K-1]': 897.0,\n",
      " 'Positive current collector thermal conductivity [W.m-1.K-1]': 237.0,\n",
      " 'Positive current collector thickness [m]': 1.6e-05,\n",
      " 'Positive electrode Bruggeman coefficient (electrode)': 0,\n",
      " 'Positive electrode Bruggeman coefficient (electrolyte)': 1.5,\n",
      " 'Positive electrode OCP [V]': <function nmc_LGM50_ocp_Chen2020 at 0x3049d2dc0>,\n",
      " 'Positive electrode OCP entropic change [V.K-1]': 0.0,\n",
      " 'Positive electrode active material volume fraction': 0.665,\n",
      " 'Positive electrode charge transfer coefficient': 0.5,\n",
      " 'Positive electrode conductivity [S.m-1]': 0.18,\n",
      " 'Positive electrode density [kg.m-3]': 3262.0,\n",
      " 'Positive electrode diffusivity [m2.s-1]': 4e-15,\n",
      " 'Positive electrode double-layer capacity [F.m-2]': 0.2,\n",
      " 'Positive electrode exchange-current density [A.m-2]': <function nmc_LGM50_electrolyte_exchange_current_density_Chen2020 at 0x3049d2af0>,\n",
      " 'Positive electrode porosity': 0.335,\n",
      " 'Positive electrode reaction-driven LAM factor [m3.mol-1]': 0.0,\n",
      " 'Positive electrode specific heat capacity [J.kg-1.K-1]': 700.0,\n",
      " 'Positive electrode thermal conductivity [W.m-1.K-1]': 2.1,\n",
      " 'Positive electrode thickness [m]': 7.56e-05,\n",
      " 'Positive particle radius [m]': 5.22e-06,\n",
      " 'Ratio of lithium moles to SEI moles': 2.0,\n",
      " 'Reference temperature [K]': 298.15,\n",
      " 'SEI growth activation energy [J.mol-1]': 0.0,\n",
      " 'SEI kinetic rate constant [m.s-1]': 1e-12,\n",
      " 'SEI open-circuit potential [V]': 0.4,\n",
      " 'SEI reaction exchange current density [A.m-2]': 1.5e-07,\n",
      " 'SEI resistivity [Ohm.m]': 200000.0,\n",
      " 'Separator Bruggeman coefficient (electrolyte)': 1.5,\n",
      " 'Separator density [kg.m-3]': 397.0,\n",
      " 'Separator porosity': 0.47,\n",
      " 'Separator specific heat capacity [J.kg-1.K-1]': 700.0,\n",
      " 'Separator thermal conductivity [W.m-1.K-1]': 0.16,\n",
      " 'Separator thickness [m]': 1.2e-05,\n",
      " 'Thermodynamic factor': 1.0,\n",
      " 'Total heat transfer coefficient [W.m-2.K-1]': 10.0,\n",
      " 'Upper voltage cut-off [V]': 4.2,\n",
      " 'citations': ['Chen2020']}\n"
     ]
    },
    {
     "data": {
      "application/vnd.jupyter.widget-view+json": {
       "model_id": "f0b8821435424b70b57854b1fa93ead4",
       "version_major": 2,
       "version_minor": 0
      },
      "text/plain": [
       "interactive(children=(FloatSlider(value=0.0, description='t', max=3555.448018330494, step=35.55448018330494), …"
      ]
     },
     "metadata": {},
     "output_type": "display_data"
    },
    {
     "data": {
      "application/vnd.jupyter.widget-view+json": {
       "model_id": "4cab5e3c9d364f1c8e30e89855261c27",
       "version_major": 2,
       "version_minor": 0
      },
      "text/plain": [
       "interactive(children=(FloatSlider(value=0.0, description='t', max=1.0, step=0.01), Output()), _dom_classes=('w…"
      ]
     },
     "metadata": {},
     "output_type": "display_data"
    },
    {
     "data": {
      "text/plain": [
       "<pybamm.plotting.quick_plot.QuickPlot at 0x30f9fed90>"
      ]
     },
     "execution_count": 18,
     "metadata": {},
     "output_type": "execute_result"
    }
   ],
   "source": [
    "parameter_values = pybamm.ParameterValues(\"Chen2020\")\n",
    "parameter_values1 = pybamm.ParameterValues(\"Marquis2019\")\n",
    "\n",
    "print(parameter_values)\n",
    "#parameter_values.update({\n",
    "#    \"Outer SEI solvent diffusivity [m2.s-1]\": 1.25e-20,\n",
    "#    \"Negative electrode cracking rate\": 1.95e-18,\n",
    "#    \"Negative electrode LAM constant proportional term [s-1]\": 5.5556e-6,\n",
    "#    \"Positive electrode LAM constant proportional term [s-1]\": 5.5556e-6,\n",
    "#})\n",
    "\n",
    "simulation = pybamm.Simulation(model, parameter_values=parameter_values)\n",
    "simulation1 = pybamm.Simulation(model, parameter_values=parameter_values1)\n",
    "sim = simulation.solve([0, 3600])\n",
    "sim1 = simulation1.solve([0, 3600])\n",
    "sim.plot()\n",
    "sim1.plot()"
   ]
  },
  {
   "cell_type": "code",
   "execution_count": 19,
   "metadata": {},
   "outputs": [
    {
     "data": {
      "application/vnd.jupyter.widget-view+json": {
       "model_id": "effc76e7dba545418968dcdf2f450821",
       "version_major": 2,
       "version_minor": 0
      },
      "text/plain": [
       "interactive(children=(FloatSlider(value=0.0, description='t', max=3555.448018330494, step=35.55448018330494), …"
      ]
     },
     "metadata": {},
     "output_type": "display_data"
    },
    {
     "data": {
      "application/vnd.jupyter.widget-view+json": {
       "model_id": "6bf29b21036e43319b8f8792f00f139e",
       "version_major": 2,
       "version_minor": 0
      },
      "text/plain": [
       "interactive(children=(FloatSlider(value=0.0, description='t', max=3328.2122067937194, step=33.282122067937195)…"
      ]
     },
     "metadata": {},
     "output_type": "display_data"
    },
    {
     "data": {
      "text/plain": [
       "<pybamm.plotting.quick_plot.QuickPlot at 0x318e43c10>"
      ]
     },
     "execution_count": 19,
     "metadata": {},
     "output_type": "execute_result"
    }
   ],
   "source": [
    "parameter_values = pybamm.ParameterValues(\"Chen2020\")\n",
    "\n",
    "simulation = pybamm.Simulation(model, parameter_values=parameter_values)\n",
    "sim = simulation.solve([0, 3600])\n",
    "sim.plot()\n",
    "\n",
    "parameter_values.update({\n",
    "    \"Outer SEI solvent diffusivity [m2.s-1]\": 2,\n",
    "    'Nominal cell capacity [A.h]': 20,\n",
    "    'Lower voltage cut-off [V]': 3,\n",
    "    'Negative electrode porosity': 0.99,\n",
    "})\n",
    "\n",
    "simulation = pybamm.Simulation(model, parameter_values=parameter_values)\n",
    "sim = simulation.solve([0, 3600])\n",
    "sim.plot()"
   ]
  },
  {
   "attachments": {},
   "cell_type": "markdown",
   "metadata": {},
   "source": [
    "### Input parameters"
   ]
  },
  {
   "cell_type": "code",
   "execution_count": 20,
   "metadata": {},
   "outputs": [
    {
     "data": {
      "application/vnd.jupyter.widget-view+json": {
       "model_id": "f5cfceb752d342f1b7676bad3e3d126c",
       "version_major": 2,
       "version_minor": 0
      },
      "text/plain": [
       "interactive(children=(FloatSlider(value=0.0, description='t', max=1.0, step=0.01), Output()), _dom_classes=('w…"
      ]
     },
     "metadata": {},
     "output_type": "display_data"
    },
    {
     "data": {
      "text/plain": [
       "<pybamm.plotting.quick_plot.QuickPlot at 0x31980a5e0>"
      ]
     },
     "execution_count": 20,
     "metadata": {},
     "output_type": "execute_result"
    }
   ],
   "source": [
    "parameter_values = pybamm.ParameterValues(\"Chen2020\")\n",
    "parameter_values.update({\n",
    "    \"Current function [A]\": \"[input]\",\n",
    "})\n",
    "\n",
    "simulation = pybamm.Simulation(\n",
    "    model, \n",
    "    parameter_values=parameter_values\n",
    ")\n",
    "\n",
    "solutions = []\n",
    "for i in range(4):\n",
    "    solution = simulation.solve([0, 3600], inputs={\"Current function [A]\": i})\n",
    "    solutions.append(solution)\n",
    "\n",
    "pybamm.dynamic_plot(solutions)"
   ]
  },
  {
   "attachments": {},
   "cell_type": "markdown",
   "metadata": {},
   "source": [
    "## Lesson 4: Making the most of PyBaMM outputs"
   ]
  },
  {
   "cell_type": "code",
   "execution_count": 21,
   "metadata": {},
   "outputs": [
    {
     "data": {
      "application/vnd.jupyter.widget-view+json": {
       "model_id": "b329c5fe015949d591e15921aa4bf2bd",
       "version_major": 2,
       "version_minor": 0
      },
      "text/plain": [
       "interactive(children=(FloatSlider(value=0.0, description='t', max=1800.0, step=18.0), Output()), _dom_classes=…"
      ]
     },
     "metadata": {},
     "output_type": "display_data"
    },
    {
     "data": {
      "image/png": "[encoded data removed]",
      "text/plain": [
       "<Figure size 640x480 with 1 Axes>"
      ]
     },
     "metadata": {},
     "output_type": "display_data"
    },
    {
     "data": {
      "text/plain": [
       "array([   0.        ,   18.18181818,   36.36363636,   54.54545455,\n",
       "         72.72727273,   90.90909091,  109.09090909,  127.27272727,\n",
       "        145.45454545,  163.63636364,  181.81818182,  200.        ,\n",
       "        218.18181818,  236.36363636,  254.54545455,  272.72727273,\n",
       "        290.90909091,  309.09090909,  327.27272727,  345.45454545,\n",
       "        363.63636364,  381.81818182,  400.        ,  418.18181818,\n",
       "        436.36363636,  454.54545455,  472.72727273,  490.90909091,\n",
       "        509.09090909,  527.27272727,  545.45454545,  563.63636364,\n",
       "        581.81818182,  600.        ,  618.18181818,  636.36363636,\n",
       "        654.54545455,  672.72727273,  690.90909091,  709.09090909,\n",
       "        727.27272727,  745.45454545,  763.63636364,  781.81818182,\n",
       "        800.        ,  818.18181818,  836.36363636,  854.54545455,\n",
       "        872.72727273,  890.90909091,  909.09090909,  927.27272727,\n",
       "        945.45454545,  963.63636364,  981.81818182, 1000.        ,\n",
       "       1018.18181818, 1036.36363636, 1054.54545455, 1072.72727273,\n",
       "       1090.90909091, 1109.09090909, 1127.27272727, 1145.45454545,\n",
       "       1163.63636364, 1181.81818182, 1200.        , 1218.18181818,\n",
       "       1236.36363636, 1254.54545455, 1272.72727273, 1290.90909091,\n",
       "       1309.09090909, 1327.27272727, 1345.45454545, 1363.63636364,\n",
       "       1381.81818182, 1400.        , 1418.18181818, 1436.36363636,\n",
       "       1454.54545455, 1472.72727273, 1490.90909091, 1509.09090909,\n",
       "       1527.27272727, 1545.45454545, 1563.63636364, 1581.81818182,\n",
       "       1600.        , 1618.18181818, 1636.36363636, 1654.54545455,\n",
       "       1672.72727273, 1690.90909091, 1709.09090909, 1727.27272727,\n",
       "       1745.45454545, 1763.63636364, 1781.81818182, 1800.        ])"
      ]
     },
     "execution_count": 21,
     "metadata": {},
     "output_type": "execute_result"
    }
   ],
   "source": [
    "simulation = pybamm.Simulation(model)\n",
    "simulation1 = pybamm.Simulation(model)\n",
    "sol = simulation.solve([0, 1800])\n",
    "sol.plot()\n",
    "\n",
    "sol[\"Terminal voltage [V]\"]\n",
    "times = np.linspace(0, 3600, 100)\n",
    "terminal_voltage = sol[\"Terminal voltage [V]\"](times)\n",
    "\n",
    "plt.plot(times, terminal_voltage)\n",
    "plt.xlabel(\"Time [s]\")\n",
    "plt.ylabel(\"Terminal voltage [V]\")\n",
    "plt.show()\n",
    "\n",
    "sol.t\n"
   ]
  },
  {
   "cell_type": "code",
   "execution_count": 22,
   "metadata": {},
   "outputs": [
    {
     "name": "stdout",
     "output_type": "stream",
     "text": [
      "[3.77161546 3.76055544 3.75506514 3.75115486 3.74802806 3.74532311\n",
      " 3.7428585  3.74053894 3.73831278 3.73615222 3.73404102 3.73196969\n",
      " 3.72993241 3.7279264  3.72594884 3.72399956 3.72207725 3.72018168\n",
      " 3.71831308 3.71647112 3.7146555  3.71286638 3.71110398 3.70936774\n",
      " 3.707657   3.7059713  3.70431042 3.70267456 3.7010615  3.69946902\n",
      " 3.69789722 3.69634515 3.69481241 3.69329685 3.69179828 3.69031646\n",
      " 3.68885127 3.68740279 3.68597115 3.68455649 3.68315894 3.68177868\n",
      " 3.68041571 3.67907012 3.67774192 3.67643095 3.67513724 3.67386068\n",
      " 3.67260096 3.6713579  3.67013138 3.66892146 3.66772723 3.66654835\n",
      " 3.66538511 3.66423677 3.66310307 3.66198355 3.66087753 3.65978488\n",
      " 3.65870534 3.65763773 3.65658196 3.65553752 3.65450358 3.65347977\n",
      " 3.65246501 3.65145875 3.65046021 3.64946853 3.64848275 3.64750178\n",
      " 3.64652445 3.64554933 3.64457459 3.643599   3.64261883 3.64163327\n",
      " 3.64063855 3.63962945 3.63860253 3.63755    3.63646514 3.63533771\n",
      " 3.63415751 3.63291375 3.63159832 3.63020889 3.62875073 3.62723614\n",
      " 3.62568384 3.62411577 3.62255265 3.62101723 3.61952598 3.61809358\n",
      " 3.61672969 3.61544017 3.61422669 3.61308791]\n"
     ]
    }
   ],
   "source": [
    "terminal_voltage = sol[\"Terminal voltage [V]\"].entries\n",
    "print(terminal_voltage)"
   ]
  },
  {
   "cell_type": "code",
   "execution_count": 23,
   "metadata": {},
   "outputs": [
    {
     "data": {
      "image/png": "[encoded data removed]",
      "text/plain": [
       "<Figure size 640x480 with 1 Axes>"
      ]
     },
     "metadata": {},
     "output_type": "display_data"
    }
   ],
   "source": [
    "model = pybamm.lithium_ion.SPM()\n",
    "parameter_values = pybamm.ParameterValues(\"Marquis2019\")\n",
    "parameter_values.update({\n",
    "    \"Current function [A]\": \"[input]\",\n",
    "})\n",
    "experiment = pybamm.Experiment([\n",
    "    \"Discharge at 1C until 3.3 V\",\n",
    "    \"Charge at 0.3C until 4.0 V\",\n",
    "    \"Hold at 4.0 V until C/100\",\n",
    "])\n",
    "simulation = pybamm.Simulation(\n",
    "    model, \n",
    "    parameter_values=parameter_values,\n",
    "    experiment=experiment,\n",
    ")\n",
    "\n",
    "solution = simulation.solve(inputs={\"Current function [A]\": 1})\n",
    "times = solution.t\n",
    "terminal_voltage = solution[\"Terminal voltage [V]\"].entries\n",
    "plt.plot(times, terminal_voltage, '.-')\n",
    "plt.ylabel(\"Terminal voltage [V]\")\n",
    "plt.xlabel(\"Time [s]\")\n",
    "plt.show()"
   ]
  },
  {
   "attachments": {},
   "cell_type": "markdown",
   "metadata": {},
   "source": [
    "### Saving solutions"
   ]
  },
  {
   "cell_type": "code",
   "execution_count": 24,
   "metadata": {},
   "outputs": [],
   "source": [
    "path = \"/Users/felixwatson/Desktop/Summer placements/FUSE Ferren /Saves/ \"\n",
    "sol.save(path + \"my_pybamm_solution.pkl\")"
   ]
  },
  {
   "cell_type": "code",
   "execution_count": 25,
   "metadata": {},
   "outputs": [],
   "source": [
    "sol2 = pybamm.load(path + \"my_pybamm_solution.pkl\")"
   ]
  },
  {
   "cell_type": "code",
   "execution_count": 26,
   "metadata": {},
   "outputs": [],
   "source": [
    "sol.save_data(\n",
    "    path + \"tIV.pkl\", [\"Time [s]\", \"Current [A]\", \"Voltage [V]\"]\n",
    ")\n",
    "sol.save_data(\n",
    "    path + \"tIV.csv\", [\"Time [s]\", \"Current [A]\", \"Voltage [V]\"], to_format=\"csv\"\n",
    ")"
   ]
  },
  {
   "attachments": {},
   "cell_type": "markdown",
   "metadata": {},
   "source": [
    "## Lesson 5: Using submodels\n",
    "[Submodels](https://docs.pybamm.org/en/latest/source/api/models/submodels/index.html)"
   ]
  },
  {
   "cell_type": "code",
   "execution_count": 27,
   "metadata": {},
   "outputs": [
    {
     "data": {
      "text/plain": [
       "{'external circuit': <pybamm.models.submodels.external_circuit.explicit_control_external_circuit.ExplicitCurrentControl at 0x305df0850>,\n",
       " 'porosity': <pybamm.models.submodels.porosity.constant_porosity.Constant at 0x305df0a30>,\n",
       " 'Negative interface utilisation': <pybamm.models.submodels.interface.interface_utilisation.full_utilisation.Full at 0x305df0bb0>,\n",
       " 'Positive interface utilisation': <pybamm.models.submodels.interface.interface_utilisation.full_utilisation.Full at 0x305df0c10>,\n",
       " 'negative particle mechanics': <pybamm.models.submodels.particle_mechanics.no_mechanics.NoMechanics at 0x305df0c70>,\n",
       " 'positive particle mechanics': <pybamm.models.submodels.particle_mechanics.no_mechanics.NoMechanics at 0x304d128e0>,\n",
       " 'negative primary active material': <pybamm.models.submodels.active_material.constant_active_material.Constant at 0x3043681c0>,\n",
       " 'positive primary active material': <pybamm.models.submodels.active_material.constant_active_material.Constant at 0x304368100>,\n",
       " 'electrolyte transport efficiency': <pybamm.models.submodels.transport_efficiency.bruggeman_transport_efficiency.Bruggeman at 0x304a84b80>,\n",
       " 'electrode transport efficiency': <pybamm.models.submodels.transport_efficiency.bruggeman_transport_efficiency.Bruggeman at 0x304616fd0>,\n",
       " 'transverse convection': <pybamm.models.submodels.convection.transverse.no_convection.NoConvection at 0x304bfa250>,\n",
       " 'through-cell convection': <pybamm.models.submodels.convection.through_cell.no_convection.NoConvection at 0x304730df0>,\n",
       " 'negative primary open-circuit potential': <pybamm.models.submodels.interface.open_circuit_potential.single_ocp.SingleOpenCircuitPotential at 0x305dce8b0>,\n",
       " 'positive primary open-circuit potential': <pybamm.models.submodels.interface.open_circuit_potential.single_ocp.SingleOpenCircuitPotential at 0x305dce7f0>,\n",
       " 'negative interface': <pybamm.models.submodels.interface.kinetics.inverse_kinetics.inverse_butler_volmer.InverseButlerVolmer at 0x304780160>,\n",
       " 'negative interface current': <pybamm.models.submodels.interface.kinetics.inverse_kinetics.inverse_butler_volmer.CurrentForInverseButlerVolmer at 0x305dced30>,\n",
       " 'positive interface': <pybamm.models.submodels.interface.kinetics.inverse_kinetics.inverse_butler_volmer.InverseButlerVolmer at 0x305dced00>,\n",
       " 'positive interface current': <pybamm.models.submodels.interface.kinetics.inverse_kinetics.inverse_butler_volmer.CurrentForInverseButlerVolmer at 0x305dceaf0>,\n",
       " 'negative primary particle': <pybamm.models.submodels.particle.fickian_diffusion.FickianDiffusion at 0x305dce9d0>,\n",
       " 'negative primary total particle concentration': <pybamm.models.submodels.particle.total_particle_concentration.TotalConcentration at 0x305dce6a0>,\n",
       " 'positive primary particle': <pybamm.models.submodels.particle.fickian_diffusion.FickianDiffusion at 0x305dcea00>,\n",
       " 'positive primary total particle concentration': <pybamm.models.submodels.particle.total_particle_concentration.TotalConcentration at 0x304d2d460>,\n",
       " 'negative electrode potential': <pybamm.models.submodels.electrode.ohm.leading_ohm.LeadingOrder at 0x305dce0d0>,\n",
       " 'positive electrode potential': <pybamm.models.submodels.electrode.ohm.leading_ohm.LeadingOrder at 0x3046621c0>,\n",
       " 'electrolyte diffusion': <pybamm.models.submodels.electrolyte_diffusion.constant_concentration.ConstantConcentration at 0x304780d90>,\n",
       " 'leading-order electrolyte conductivity': <pybamm.models.submodels.electrolyte_conductivity.leading_order_conductivity.LeadingOrder at 0x305c7efd0>,\n",
       " 'negative surface potential difference': <pybamm.models.submodels.electrolyte_conductivity.surface_potential_form.explicit_surface_form_conductivity.Explicit at 0x305c7edc0>,\n",
       " 'positive surface potential difference': <pybamm.models.submodels.electrolyte_conductivity.surface_potential_form.explicit_surface_form_conductivity.Explicit at 0x305c7ee50>,\n",
       " 'thermal': <pybamm.models.submodels.thermal.isothermal.Isothermal at 0x305c7edf0>,\n",
       " 'current collector': <pybamm.models.submodels.current_collector.homogeneous_current_collector.Uniform at 0x305c7e8b0>,\n",
       " 'negative primary sei': <pybamm.models.submodels.interface.sei.no_sei.NoSEI at 0x305c7e5e0>,\n",
       " 'positive primary sei': <pybamm.models.submodels.interface.sei.no_sei.NoSEI at 0x305c7e670>,\n",
       " 'negative primary sei on cracks': <pybamm.models.submodels.interface.sei.no_sei.NoSEI at 0x305c7e490>,\n",
       " 'positive primary sei on cracks': <pybamm.models.submodels.interface.sei.no_sei.NoSEI at 0x305c7e370>,\n",
       " 'negative lithium plating': <pybamm.models.submodels.interface.lithium_plating.no_plating.NoPlating at 0x305c7e250>,\n",
       " 'positive lithium plating': <pybamm.models.submodels.interface.lithium_plating.no_plating.NoPlating at 0x305c7e2e0>,\n",
       " 'total interface': <pybamm.models.submodels.interface.total_interfacial_current.TotalInterfacialCurrent at 0x305c7e7f0>}"
      ]
     },
     "execution_count": 27,
     "metadata": {},
     "output_type": "execute_result"
    }
   ],
   "source": [
    "model.submodels"
   ]
  },
  {
   "attachments": {},
   "cell_type": "markdown",
   "metadata": {},
   "source": [
    "### Thermal models\n",
    "\n",
    "The thermal models available in PyBaMM are:\n",
    "\n",
    "**Isothermal**: Temperature stays constant\n",
    "\n",
    "**Lumped**: The temperature is taken to be homogeneous in the battery, so only the average temperature is computed.\n",
    "\n",
    "**X-limped**: the temperature is taken to be homogeneous across the thickness of the cell, but can vary in the directions parallel to the current collectors. Need to be used in conjunction with a current collector model.\n",
    "\n",
    "**X-full**: The temeprature is allowd to vary across the thickness of the cell\n",
    "\n",
    "[Thermal models](https://docs.pybamm.org/en/latest/source/examples/notebooks/models/thermal-models.html)"
   ]
  },
  {
   "cell_type": "code",
   "execution_count": 28,
   "metadata": {},
   "outputs": [
    {
     "data": {
      "application/vnd.jupyter.widget-view+json": {
       "model_id": "9bf4278a14f44ca4994bb4fb91029d7b",
       "version_major": 2,
       "version_minor": 0
      },
      "text/plain": [
       "interactive(children=(FloatSlider(value=0.0, description='t', max=1800.0, step=18.0), Output()), _dom_classes=…"
      ]
     },
     "metadata": {},
     "output_type": "display_data"
    },
    {
     "data": {
      "application/vnd.jupyter.widget-view+json": {
       "model_id": "d24fa25ccbec4f8c92d0709fbb65444c",
       "version_major": 2,
       "version_minor": 0
      },
      "text/plain": [
       "interactive(children=(FloatSlider(value=0.0, description='t', max=1800.0, step=18.0), Output()), _dom_classes=…"
      ]
     },
     "metadata": {},
     "output_type": "display_data"
    },
    {
     "data": {
      "application/vnd.jupyter.widget-view+json": {
       "model_id": "224ed8d6cb544aa48278a588f67d4dbb",
       "version_major": 2,
       "version_minor": 0
      },
      "text/plain": [
       "interactive(children=(FloatSlider(value=0.0, description='t', max=1800.0, step=18.0), Output()), _dom_classes=…"
      ]
     },
     "metadata": {},
     "output_type": "display_data"
    },
    {
     "data": {
      "text/plain": [
       "['Time [s]',\n",
       " 'Time [min]',\n",
       " 'Time [h]',\n",
       " 'x [m]',\n",
       " 'x_n [m]',\n",
       " 'x_s [m]',\n",
       " 'x_p [m]',\n",
       " 'r_n [m]',\n",
       " 'r_p [m]',\n",
       " 'Current variable [A]',\n",
       " 'Total current density [A.m-2]',\n",
       " 'Current [A]',\n",
       " 'C-rate',\n",
       " 'Discharge capacity [A.h]',\n",
       " 'Throughput capacity [A.h]',\n",
       " 'Discharge energy [W.h]',\n",
       " 'Throughput energy [W.h]',\n",
       " 'Porosity',\n",
       " 'Negative electrode porosity',\n",
       " 'X-averaged negative electrode porosity',\n",
       " 'Separator porosity',\n",
       " 'X-averaged separator porosity',\n",
       " 'Positive electrode porosity',\n",
       " 'X-averaged positive electrode porosity',\n",
       " 'Porosity change',\n",
       " 'Negative electrode porosity change [s-1]',\n",
       " 'X-averaged negative electrode porosity change [s-1]',\n",
       " 'Separator porosity change [s-1]',\n",
       " 'X-averaged separator porosity change [s-1]',\n",
       " 'Positive electrode porosity change [s-1]',\n",
       " 'X-averaged positive electrode porosity change [s-1]',\n",
       " 'Negative electrode interface utilisation variable',\n",
       " 'X-averaged negative electrode interface utilisation variable',\n",
       " 'Negative electrode interface utilisation',\n",
       " 'X-averaged negative electrode interface utilisation',\n",
       " 'Positive electrode interface utilisation variable',\n",
       " 'X-averaged positive electrode interface utilisation variable',\n",
       " 'Positive electrode interface utilisation',\n",
       " 'X-averaged positive electrode interface utilisation',\n",
       " 'Negative particle crack length [m]',\n",
       " 'X-averaged negative particle crack length [m]',\n",
       " 'Negative particle cracking rate [m.s-1]',\n",
       " 'X-averaged negative particle cracking rate [m.s-1]',\n",
       " 'Positive particle crack length [m]',\n",
       " 'X-averaged positive particle crack length [m]',\n",
       " 'Positive particle cracking rate [m.s-1]',\n",
       " 'X-averaged positive particle cracking rate [m.s-1]',\n",
       " 'Negative electrode active material volume fraction',\n",
       " 'X-averaged negative electrode active material volume fraction',\n",
       " 'Negative electrode capacity [A.h]',\n",
       " 'Negative particle radius',\n",
       " 'Negative particle radius [m]',\n",
       " 'X-averaged negative particle radius [m]',\n",
       " 'Negative electrode surface area to volume ratio [m-1]',\n",
       " 'X-averaged negative electrode surface area to volume ratio [m-1]',\n",
       " 'Negative electrode active material volume fraction change [s-1]',\n",
       " 'X-averaged negative electrode active material volume fraction change [s-1]',\n",
       " 'Loss of lithium due to loss of active material in negative electrode [mol]',\n",
       " 'Positive electrode active material volume fraction',\n",
       " 'X-averaged positive electrode active material volume fraction',\n",
       " 'Positive electrode capacity [A.h]',\n",
       " 'Positive particle radius',\n",
       " 'Positive particle radius [m]',\n",
       " 'X-averaged positive particle radius [m]',\n",
       " 'Positive electrode surface area to volume ratio [m-1]',\n",
       " 'X-averaged positive electrode surface area to volume ratio [m-1]',\n",
       " 'Positive electrode active material volume fraction change [s-1]',\n",
       " 'X-averaged positive electrode active material volume fraction change [s-1]',\n",
       " 'Loss of lithium due to loss of active material in positive electrode [mol]',\n",
       " 'Separator pressure [Pa]',\n",
       " 'X-averaged separator pressure [Pa]',\n",
       " 'negative electrode transverse volume-averaged velocity [m.s-1]',\n",
       " 'X-averaged negative electrode transverse volume-averaged velocity [m.s-1]',\n",
       " 'separator transverse volume-averaged velocity [m.s-1]',\n",
       " 'X-averaged separator transverse volume-averaged velocity [m.s-1]',\n",
       " 'positive electrode transverse volume-averaged velocity [m.s-1]',\n",
       " 'X-averaged positive electrode transverse volume-averaged velocity [m.s-1]',\n",
       " 'Transverse volume-averaged velocity [m.s-1]',\n",
       " 'negative electrode transverse volume-averaged acceleration [m.s-2]',\n",
       " 'X-averaged negative electrode transverse volume-averaged acceleration [m.s-2]',\n",
       " 'separator transverse volume-averaged acceleration [m.s-2]',\n",
       " 'X-averaged separator transverse volume-averaged acceleration [m.s-2]',\n",
       " 'positive electrode transverse volume-averaged acceleration [m.s-2]',\n",
       " 'X-averaged positive electrode transverse volume-averaged acceleration [m.s-2]',\n",
       " 'Transverse volume-averaged acceleration [m.s-2]',\n",
       " 'Negative electrode volume-averaged velocity [m.s-1]',\n",
       " 'Negative electrode volume-averaged acceleration [m.s-2]',\n",
       " 'X-averaged negative electrode volume-averaged acceleration [m.s-2]',\n",
       " 'Negative electrode pressure [Pa]',\n",
       " 'X-averaged negative electrode pressure [Pa]',\n",
       " 'Positive electrode volume-averaged velocity [m.s-1]',\n",
       " 'Positive electrode volume-averaged acceleration [m.s-2]',\n",
       " 'X-averaged positive electrode volume-averaged acceleration [m.s-2]',\n",
       " 'Positive electrode pressure [Pa]',\n",
       " 'X-averaged positive electrode pressure [Pa]',\n",
       " 'Negative particle concentration [mol.m-3]',\n",
       " 'X-averaged negative particle concentration [mol.m-3]',\n",
       " 'R-averaged negative particle concentration [mol.m-3]',\n",
       " 'Average negative particle concentration [mol.m-3]',\n",
       " 'Negative particle surface concentration [mol.m-3]',\n",
       " 'X-averaged negative particle surface concentration [mol.m-3]',\n",
       " 'Minimum negative particle concentration [mol.m-3]',\n",
       " 'Maximum negative particle concentration [mol.m-3]',\n",
       " 'Minimum negative particle Minimum negative particle surface concentration [mol.m-3]',\n",
       " 'Maximum negative particle surface concentration [mol.m-3]',\n",
       " 'Negative particle concentration',\n",
       " 'X-averaged negative particle concentration',\n",
       " 'R-averaged negative particle concentration',\n",
       " 'Average negative particle concentration',\n",
       " 'Negative particle surface concentration',\n",
       " 'X-averaged negative particle surface concentration',\n",
       " 'Minimum negative particle concentration',\n",
       " 'Maximum negative particle concentration',\n",
       " 'Minimum negative particle surface concentration',\n",
       " 'Maximum negative particle surface concentration',\n",
       " 'Negative particle stoichiometry',\n",
       " 'X-averaged negative particle stoichiometry',\n",
       " 'R-averaged negative particle stoichiometry',\n",
       " 'Average negative particle stoichiometry',\n",
       " 'Negative particle surface stoichiometry',\n",
       " 'X-averaged negative particle surface stoichiometry',\n",
       " 'Minimum negative particle stoichiometry',\n",
       " 'Maximum negative particle stoichiometry',\n",
       " 'Minimum negative particle surface stoichiometry',\n",
       " 'Maximum negative particle surface stoichiometry',\n",
       " 'Negative electrode extent of lithiation',\n",
       " 'X-averaged negative electrode extent of lithiation',\n",
       " 'Positive particle concentration [mol.m-3]',\n",
       " 'X-averaged positive particle concentration [mol.m-3]',\n",
       " 'R-averaged positive particle concentration [mol.m-3]',\n",
       " 'Average positive particle concentration [mol.m-3]',\n",
       " 'Positive particle surface concentration [mol.m-3]',\n",
       " 'X-averaged positive particle surface concentration [mol.m-3]',\n",
       " 'Minimum positive particle concentration [mol.m-3]',\n",
       " 'Maximum positive particle concentration [mol.m-3]',\n",
       " 'Minimum positive particle Minimum positive particle surface concentration [mol.m-3]',\n",
       " 'Maximum positive particle surface concentration [mol.m-3]',\n",
       " 'Positive particle concentration',\n",
       " 'X-averaged positive particle concentration',\n",
       " 'R-averaged positive particle concentration',\n",
       " 'Average positive particle concentration',\n",
       " 'Positive particle surface concentration',\n",
       " 'X-averaged positive particle surface concentration',\n",
       " 'Minimum positive particle concentration',\n",
       " 'Maximum positive particle concentration',\n",
       " 'Minimum positive particle surface concentration',\n",
       " 'Maximum positive particle surface concentration',\n",
       " 'Positive particle stoichiometry',\n",
       " 'X-averaged positive particle stoichiometry',\n",
       " 'R-averaged positive particle stoichiometry',\n",
       " 'Average positive particle stoichiometry',\n",
       " 'Positive particle surface stoichiometry',\n",
       " 'X-averaged positive particle surface stoichiometry',\n",
       " 'Minimum positive particle stoichiometry',\n",
       " 'Maximum positive particle stoichiometry',\n",
       " 'Minimum positive particle surface stoichiometry',\n",
       " 'Maximum positive particle surface stoichiometry',\n",
       " 'Positive electrode extent of lithiation',\n",
       " 'X-averaged positive electrode extent of lithiation',\n",
       " 'Negative electrode potential [V]',\n",
       " 'X-averaged negative electrode potential [V]',\n",
       " 'Negative electrode ohmic losses [V]',\n",
       " 'X-averaged negative electrode ohmic losses [V]',\n",
       " 'Gradient of negative electrode potential [V.m-1]',\n",
       " 'Positive electrode potential [V]',\n",
       " 'X-averaged positive electrode potential [V]',\n",
       " 'Positive electrode ohmic losses [V]',\n",
       " 'X-averaged positive electrode ohmic losses [V]',\n",
       " 'Gradient of positive electrode potential [V.m-1]',\n",
       " 'Porosity times concentration [mol.m-3]',\n",
       " 'Negative electrode porosity times concentration [mol.m-3]',\n",
       " 'Separator porosity times concentration [mol.m-3]',\n",
       " 'Positive electrode porosity times concentration [mol.m-3]',\n",
       " 'Total lithium in electrolyte [mol]',\n",
       " 'Electrolyte potential [V]',\n",
       " 'X-averaged electrolyte potential [V]',\n",
       " 'X-averaged electrolyte overpotential [V]',\n",
       " 'Gradient of electrolyte potential [V.m-1]',\n",
       " 'Negative electrolyte potential [V]',\n",
       " 'X-averaged negative electrolyte potential [V]',\n",
       " 'Gradient of negative electrolyte potential [V.m-1]',\n",
       " 'Separator electrolyte potential [V]',\n",
       " 'X-averaged separator electrolyte potential [V]',\n",
       " 'Gradient of separator electrolyte potential [V.m-1]',\n",
       " 'Positive electrolyte potential [V]',\n",
       " 'X-averaged positive electrolyte potential [V]',\n",
       " 'Gradient of positive electrolyte potential [V.m-1]',\n",
       " 'Ambient temperature [K]',\n",
       " 'Volume-averaged ambient temperature [K]',\n",
       " 'Cell temperature [K]',\n",
       " 'Negative electrode temperature [K]',\n",
       " 'X-averaged negative electrode temperature [K]',\n",
       " 'Separator temperature [K]',\n",
       " 'X-averaged separator temperature [K]',\n",
       " 'Positive electrode temperature [K]',\n",
       " 'X-averaged positive electrode temperature [K]',\n",
       " 'Negative current collector temperature [K]',\n",
       " 'Positive current collector temperature [K]',\n",
       " 'X-averaged cell temperature [K]',\n",
       " 'Volume-averaged cell temperature [K]',\n",
       " 'Ambient temperature [C]',\n",
       " 'Volume-averaged ambient temperature [C]',\n",
       " 'Cell temperature [C]',\n",
       " 'Negative electrode temperature [C]',\n",
       " 'X-averaged negative electrode temperature [C]',\n",
       " 'Separator temperature [C]',\n",
       " 'X-averaged separator temperature [C]',\n",
       " 'Positive electrode temperature [C]',\n",
       " 'X-averaged positive electrode temperature [C]',\n",
       " 'Negative current collector temperature [C]',\n",
       " 'Positive current collector temperature [C]',\n",
       " 'X-averaged cell temperature [C]',\n",
       " 'Volume-averaged cell temperature [C]',\n",
       " 'Negative current collector potential [V]',\n",
       " 'Negative inner SEI thickness [m]',\n",
       " 'Negative outer SEI thickness [m]',\n",
       " 'X-averaged negative inner SEI thickness [m]',\n",
       " 'X-averaged negative outer SEI thickness [m]',\n",
       " 'Negative SEI [m]',\n",
       " 'Negative total SEI thickness [m]',\n",
       " 'X-averaged negative SEI thickness [m]',\n",
       " 'X-averaged negative total SEI thickness [m]',\n",
       " 'X-averaged negative electrode resistance [Ohm.m2]',\n",
       " 'Negative electrode inner SEI interfacial current density [A.m-2]',\n",
       " 'X-averaged negative electrode inner SEI interfacial current density [A.m-2]',\n",
       " 'Negative electrode outer SEI interfacial current density [A.m-2]',\n",
       " 'X-averaged negative electrode outer SEI interfacial current density [A.m-2]',\n",
       " 'Negative electrode SEI interfacial current density [A.m-2]',\n",
       " 'X-averaged negative electrode SEI interfacial current density [A.m-2]',\n",
       " 'Positive inner SEI thickness [m]',\n",
       " 'Positive outer SEI thickness [m]',\n",
       " 'X-averaged positive inner SEI thickness [m]',\n",
       " 'X-averaged positive outer SEI thickness [m]',\n",
       " 'Positive SEI [m]',\n",
       " 'Positive total SEI thickness [m]',\n",
       " 'X-averaged positive SEI thickness [m]',\n",
       " 'X-averaged positive total SEI thickness [m]',\n",
       " 'X-averaged positive electrode resistance [Ohm.m2]',\n",
       " 'Positive electrode inner SEI interfacial current density [A.m-2]',\n",
       " 'X-averaged positive electrode inner SEI interfacial current density [A.m-2]',\n",
       " 'Positive electrode outer SEI interfacial current density [A.m-2]',\n",
       " 'X-averaged positive electrode outer SEI interfacial current density [A.m-2]',\n",
       " 'Positive electrode SEI interfacial current density [A.m-2]',\n",
       " 'X-averaged positive electrode SEI interfacial current density [A.m-2]',\n",
       " 'Negative inner SEI on cracks thickness [m]',\n",
       " 'Negative outer SEI on cracks thickness [m]',\n",
       " 'X-averaged negative inner SEI on cracks thickness [m]',\n",
       " 'X-averaged negative outer SEI on cracks thickness [m]',\n",
       " 'Negative SEI on cracks [m]',\n",
       " 'Negative total SEI on cracks thickness [m]',\n",
       " 'X-averaged negative SEI on cracks thickness [m]',\n",
       " 'X-averaged negative total SEI on cracks thickness [m]',\n",
       " 'Negative electrode inner SEI on cracks interfacial current density [A.m-2]',\n",
       " 'X-averaged negative electrode inner SEI on cracks interfacial current density [A.m-2]',\n",
       " 'Negative electrode outer SEI on cracks interfacial current density [A.m-2]',\n",
       " 'X-averaged negative electrode outer SEI on cracks interfacial current density [A.m-2]',\n",
       " 'Negative electrode SEI on cracks interfacial current density [A.m-2]',\n",
       " 'X-averaged negative electrode SEI on cracks interfacial current density [A.m-2]',\n",
       " 'Positive inner SEI on cracks thickness [m]',\n",
       " 'Positive outer SEI on cracks thickness [m]',\n",
       " 'X-averaged positive inner SEI on cracks thickness [m]',\n",
       " 'X-averaged positive outer SEI on cracks thickness [m]',\n",
       " 'Positive SEI on cracks [m]',\n",
       " 'Positive total SEI on cracks thickness [m]',\n",
       " 'X-averaged positive SEI on cracks thickness [m]',\n",
       " 'X-averaged positive total SEI on cracks thickness [m]',\n",
       " 'Positive electrode inner SEI on cracks interfacial current density [A.m-2]',\n",
       " 'X-averaged positive electrode inner SEI on cracks interfacial current density [A.m-2]',\n",
       " 'Positive electrode outer SEI on cracks interfacial current density [A.m-2]',\n",
       " 'X-averaged positive electrode outer SEI on cracks interfacial current density [A.m-2]',\n",
       " 'Positive electrode SEI on cracks interfacial current density [A.m-2]',\n",
       " 'X-averaged positive electrode SEI on cracks interfacial current density [A.m-2]',\n",
       " 'Negative lithium plating concentration [mol.m-3]',\n",
       " 'X-averaged negative lithium plating concentration [mol.m-3]',\n",
       " 'Negative dead lithium concentration [mol.m-3]',\n",
       " 'X-averaged negative dead lithium concentration [mol.m-3]',\n",
       " 'Negative lithium plating thickness [m]',\n",
       " 'X-averaged negative lithium plating thickness [m]',\n",
       " 'Negative dead lithium thickness [m]',\n",
       " 'X-averaged negative dead lithium thickness [m]',\n",
       " 'Loss of lithium to negative lithium plating [mol]',\n",
       " 'Loss of capacity to negative lithium plating [A.h]',\n",
       " 'Negative electrode lithium plating reaction overpotential [V]',\n",
       " 'X-averaged negative electrode lithium plating reaction overpotential [V]',\n",
       " 'Negative lithium plating interfacial current density [A.m-2]',\n",
       " 'X-averaged negative lithium plating interfacial current density [A.m-2]',\n",
       " 'Positive lithium plating concentration [mol.m-3]',\n",
       " 'X-averaged positive lithium plating concentration [mol.m-3]',\n",
       " 'Positive dead lithium concentration [mol.m-3]',\n",
       " 'X-averaged positive dead lithium concentration [mol.m-3]',\n",
       " 'Positive lithium plating thickness [m]',\n",
       " 'X-averaged positive lithium plating thickness [m]',\n",
       " 'Positive dead lithium thickness [m]',\n",
       " 'X-averaged positive dead lithium thickness [m]',\n",
       " 'Loss of lithium to positive lithium plating [mol]',\n",
       " 'Loss of capacity to positive lithium plating [A.h]',\n",
       " 'Positive electrode lithium plating reaction overpotential [V]',\n",
       " 'X-averaged positive electrode lithium plating reaction overpotential [V]',\n",
       " 'Positive lithium plating interfacial current density [A.m-2]',\n",
       " 'X-averaged positive lithium plating interfacial current density [A.m-2]',\n",
       " 'Negative crack surface to volume ratio [m-1]',\n",
       " 'Negative electrode roughness ratio',\n",
       " 'X-averaged negative electrode roughness ratio',\n",
       " 'Positive crack surface to volume ratio [m-1]',\n",
       " 'Positive electrode roughness ratio',\n",
       " 'X-averaged positive electrode roughness ratio',\n",
       " 'Electrolyte transport efficiency',\n",
       " 'Negative electrolyte transport efficiency',\n",
       " 'X-averaged negative electrolyte transport efficiency',\n",
       " 'Separator electrolyte transport efficiency',\n",
       " 'X-averaged separator electrolyte transport efficiency',\n",
       " 'Positive electrolyte transport efficiency',\n",
       " 'X-averaged positive electrolyte transport efficiency',\n",
       " 'Electrode transport efficiency',\n",
       " 'Negative electrode transport efficiency',\n",
       " 'X-averaged negative electrode transport efficiency',\n",
       " 'Separator electrode transport efficiency',\n",
       " 'X-averaged separator electrode transport efficiency',\n",
       " 'Positive electrode transport efficiency',\n",
       " 'X-averaged positive electrode transport efficiency',\n",
       " 'Separator volume-averaged velocity [m.s-1]',\n",
       " 'Separator volume-averaged acceleration [m.s-2]',\n",
       " 'X-averaged separator volume-averaged acceleration [m.s-2]',\n",
       " 'Volume-averaged velocity [m.s-1]',\n",
       " 'Volume-averaged acceleration [m.s-1]',\n",
       " 'X-averaged volume-averaged acceleration [m.s-1]',\n",
       " 'Pressure [Pa]',\n",
       " 'Negative electrode stoichiometry',\n",
       " 'Negative electrode volume-averaged concentration',\n",
       " 'Negative electrode volume-averaged concentration [mol.m-3]',\n",
       " 'Total lithium in primary phase in negative electrode [mol]',\n",
       " 'Positive electrode stoichiometry',\n",
       " 'Positive electrode volume-averaged concentration',\n",
       " 'Positive electrode volume-averaged concentration [mol.m-3]',\n",
       " 'Total lithium in primary phase in positive electrode [mol]',\n",
       " 'Negative electrode effective conductivity',\n",
       " 'Negative electrode current density [A.m-2]',\n",
       " 'Positive electrode effective conductivity',\n",
       " 'Positive electrode current density [A.m-2]',\n",
       " 'Electrode current density [A.m-2]',\n",
       " 'Positive current collector potential [V]',\n",
       " 'Local voltage [V]',\n",
       " 'Terminal voltage [V]',\n",
       " 'Voltage [V]',\n",
       " 'Contact overpotential [V]',\n",
       " 'Electrolyte concentration concatenation [mol.m-3]',\n",
       " 'Negative electrolyte concentration [mol.m-3]',\n",
       " 'X-averaged negative electrolyte concentration [mol.m-3]',\n",
       " 'Separator electrolyte concentration [mol.m-3]',\n",
       " 'X-averaged separator electrolyte concentration [mol.m-3]',\n",
       " 'Positive electrolyte concentration [mol.m-3]',\n",
       " 'X-averaged positive electrolyte concentration [mol.m-3]',\n",
       " 'Negative electrolyte concentration [Molar]',\n",
       " 'X-averaged negative electrolyte concentration [Molar]',\n",
       " 'Separator electrolyte concentration [Molar]',\n",
       " 'X-averaged separator electrolyte concentration [Molar]',\n",
       " 'Positive electrolyte concentration [Molar]',\n",
       " 'X-averaged positive electrolyte concentration [Molar]',\n",
       " 'Electrolyte concentration [mol.m-3]',\n",
       " 'X-averaged electrolyte concentration [mol.m-3]',\n",
       " 'Electrolyte concentration [Molar]',\n",
       " 'X-averaged electrolyte concentration [Molar]',\n",
       " 'Electrolyte current density [A.m-2]',\n",
       " 'X-averaged concentration overpotential [V]',\n",
       " 'X-averaged electrolyte ohmic losses [V]',\n",
       " 'Negative electrode surface potential difference [V]',\n",
       " 'Negative electrode surface potential difference at separator interface [V]',\n",
       " 'X-averaged negative electrode surface potential difference [V]',\n",
       " 'Positive electrode surface potential difference [V]',\n",
       " 'Positive electrode surface potential difference at separator interface [V]',\n",
       " 'X-averaged positive electrode surface potential difference [V]',\n",
       " 'Current collector current density [A.m-2]',\n",
       " 'Negative inner SEI concentration [mol.m-3]',\n",
       " 'X-averaged negative inner SEI concentration [mol.m-3]',\n",
       " 'Negative outer SEI concentration [mol.m-3]',\n",
       " 'X-averaged negative outer SEI concentration [mol.m-3]',\n",
       " 'Negative SEI concentration [mol.m-3]',\n",
       " 'X-averaged negative SEI concentration [mol.m-3]',\n",
       " 'Loss of lithium to negative SEI [mol]',\n",
       " 'Loss of capacity to negative SEI [A.h]',\n",
       " 'Negative electrode SEI volumetric interfacial current density [A.m-3]',\n",
       " 'X-averaged negative electrode SEI volumetric interfacial current density [A.m-3]',\n",
       " 'Positive inner SEI concentration [mol.m-3]',\n",
       " 'X-averaged positive inner SEI concentration [mol.m-3]',\n",
       " 'Positive outer SEI concentration [mol.m-3]',\n",
       " 'X-averaged positive outer SEI concentration [mol.m-3]',\n",
       " 'Positive SEI concentration [mol.m-3]',\n",
       " 'X-averaged positive SEI concentration [mol.m-3]',\n",
       " 'Loss of lithium to positive SEI [mol]',\n",
       " 'Loss of capacity to positive SEI [A.h]',\n",
       " 'Positive electrode SEI volumetric interfacial current density [A.m-3]',\n",
       " 'X-averaged positive electrode SEI volumetric interfacial current density [A.m-3]',\n",
       " 'Negative inner SEI on cracks concentration [mol.m-3]',\n",
       " 'X-averaged negative inner SEI on cracks concentration [mol.m-3]',\n",
       " 'Negative outer SEI on cracks concentration [mol.m-3]',\n",
       " 'X-averaged negative outer SEI on cracks concentration [mol.m-3]',\n",
       " 'Negative SEI on cracks concentration [mol.m-3]',\n",
       " 'X-averaged negative SEI on cracks concentration [mol.m-3]',\n",
       " 'Loss of lithium to negative SEI on cracks [mol]',\n",
       " 'Loss of capacity to negative SEI on cracks [A.h]',\n",
       " 'Negative electrode SEI on cracks volumetric interfacial current density [A.m-3]',\n",
       " 'X-averaged negative electrode SEI on cracks volumetric interfacial current density [A.m-3]',\n",
       " 'Positive inner SEI on cracks concentration [mol.m-3]',\n",
       " 'X-averaged positive inner SEI on cracks concentration [mol.m-3]',\n",
       " 'Positive outer SEI on cracks concentration [mol.m-3]',\n",
       " 'X-averaged positive outer SEI on cracks concentration [mol.m-3]',\n",
       " 'Positive SEI on cracks concentration [mol.m-3]',\n",
       " 'X-averaged positive SEI on cracks concentration [mol.m-3]',\n",
       " 'Loss of lithium to positive SEI on cracks [mol]',\n",
       " 'Loss of capacity to positive SEI on cracks [A.h]',\n",
       " 'Positive electrode SEI on cracks volumetric interfacial current density [A.m-3]',\n",
       " 'X-averaged positive electrode SEI on cracks volumetric interfacial current density [A.m-3]',\n",
       " 'Negative electrode lithium plating interfacial current density [A.m-2]',\n",
       " 'X-averaged negative electrode lithium plating interfacial current density [A.m-2]',\n",
       " 'Negative lithium plating volumetric interfacial current density [A.m-3]',\n",
       " 'X-averaged negative lithium plating volumetric interfacial current density [A.m-3]',\n",
       " 'Negative electrode lithium plating volumetric interfacial current density [A.m-3]',\n",
       " 'X-averaged negative electrode lithium plating volumetric interfacial current density [A.m-3]',\n",
       " 'Positive electrode lithium plating interfacial current density [A.m-2]',\n",
       " 'X-averaged positive electrode lithium plating interfacial current density [A.m-2]',\n",
       " 'Positive lithium plating volumetric interfacial current density [A.m-3]',\n",
       " 'X-averaged positive lithium plating volumetric interfacial current density [A.m-3]',\n",
       " 'Positive electrode lithium plating volumetric interfacial current density [A.m-3]',\n",
       " 'X-averaged positive electrode lithium plating volumetric interfacial current density [A.m-3]',\n",
       " 'Negative electrode open-circuit potential [V]',\n",
       " 'X-averaged negative electrode open-circuit potential [V]',\n",
       " 'Negative electrode bulk open-circuit potential [V]',\n",
       " 'Negative particle concentration overpotential [V]',\n",
       " 'Negative electrode entropic change [V.K-1]',\n",
       " 'X-averaged negative electrode entropic change [V.K-1]',\n",
       " 'Positive electrode open-circuit potential [V]',\n",
       " 'X-averaged positive electrode open-circuit potential [V]',\n",
       " 'Positive electrode bulk open-circuit potential [V]',\n",
       " 'Positive particle concentration overpotential [V]',\n",
       " 'Positive electrode entropic change [V.K-1]',\n",
       " 'X-averaged positive electrode entropic change [V.K-1]',\n",
       " 'Negative electrode interfacial current density [A.m-2]',\n",
       " 'X-averaged negative electrode interfacial current density [A.m-2]',\n",
       " 'X-averaged negative electrode total interfacial current density [A.m-2]',\n",
       " 'X-averaged negative electrode total volumetric interfacial current density [A.m-3]',\n",
       " 'Negative electrode exchange current density [A.m-2]',\n",
       " 'X-averaged negative electrode exchange current density [A.m-2]',\n",
       " 'Negative electrode reaction overpotential [V]',\n",
       " 'X-averaged negative electrode reaction overpotential [V]',\n",
       " 'Negative electrode volumetric interfacial current density [A.m-3]',\n",
       " 'X-averaged negative electrode volumetric interfacial current density [A.m-3]',\n",
       " 'Negative electrode SEI film overpotential [V]',\n",
       " 'X-averaged negative electrode SEI film overpotential [V]',\n",
       " 'Positive electrode interfacial current density [A.m-2]',\n",
       " 'X-averaged positive electrode interfacial current density [A.m-2]',\n",
       " 'X-averaged positive electrode total interfacial current density [A.m-2]',\n",
       " 'X-averaged positive electrode total volumetric interfacial current density [A.m-3]',\n",
       " 'Positive electrode exchange current density [A.m-2]',\n",
       " 'X-averaged positive electrode exchange current density [A.m-2]',\n",
       " 'Positive electrode reaction overpotential [V]',\n",
       " 'X-averaged positive electrode reaction overpotential [V]',\n",
       " 'Positive electrode volumetric interfacial current density [A.m-3]',\n",
       " 'X-averaged positive electrode volumetric interfacial current density [A.m-3]',\n",
       " 'Positive electrode SEI film overpotential [V]',\n",
       " 'X-averaged positive electrode SEI film overpotential [V]',\n",
       " 'Negative particle rhs [mol.m-3.s-1]',\n",
       " 'Negative particle bc [mol.m-4]',\n",
       " 'Negative particle effective diffusivity [m2.s-1]',\n",
       " 'X-averaged negative particle effective diffusivity [m2.s-1]',\n",
       " 'Volume-averaged negative particle effective diffusivity [m2.s-1]',\n",
       " 'Negative particle flux [mol.m-2.s-1]',\n",
       " 'Positive particle rhs [mol.m-3.s-1]',\n",
       " 'Positive particle bc [mol.m-4]',\n",
       " 'Positive particle effective diffusivity [m2.s-1]',\n",
       " 'X-averaged positive particle effective diffusivity [m2.s-1]',\n",
       " 'Volume-averaged positive particle effective diffusivity [m2.s-1]',\n",
       " 'Positive particle flux [mol.m-2.s-1]',\n",
       " 'Electrolyte flux [mol.m-2.s-1]',\n",
       " 'Electrolyte diffusion flux [mol.m-2.s-1]',\n",
       " 'Electrolyte migration flux [mol.m-2.s-1]',\n",
       " 'Electrolyte convection flux [mol.m-2.s-1]',\n",
       " 'Ohmic heating [W.m-3]',\n",
       " 'X-averaged Ohmic heating [W.m-3]',\n",
       " 'Volume-averaged Ohmic heating [W.m-3]',\n",
       " 'Ohmic heating per unit electrode-pair area [W.m-2]',\n",
       " 'Ohmic heating [W]',\n",
       " 'Irreversible electrochemical heating [W.m-3]',\n",
       " 'X-averaged irreversible electrochemical heating [W.m-3]',\n",
       " 'Volume-averaged irreversible electrochemical heating [W.m-3]',\n",
       " 'Irreversible electrochemical heating per unit electrode-pair area [W.m-2]',\n",
       " 'Irreversible electrochemical heating [W]',\n",
       " 'Reversible heating [W.m-3]',\n",
       " 'X-averaged reversible heating [W.m-3]',\n",
       " 'Volume-averaged reversible heating [W.m-3]',\n",
       " 'Reversible heating per unit electrode-pair area [W.m-2]',\n",
       " 'Reversible heating [W]',\n",
       " 'Total heating [W.m-3]',\n",
       " 'X-averaged total heating [W.m-3]',\n",
       " 'Volume-averaged total heating [W.m-3]',\n",
       " 'Total heating per unit electrode-pair area [W.m-2]',\n",
       " 'Total heating [W]',\n",
       " 'Negative current collector Ohmic heating [W.m-3]',\n",
       " 'Positive current collector Ohmic heating [W.m-3]',\n",
       " 'Sum of negative electrode electrolyte reaction source terms [A.m-3]',\n",
       " 'Sum of x-averaged negative electrode electrolyte reaction source terms [A.m-3]',\n",
       " 'Sum of negative electrode volumetric interfacial current densities [A.m-3]',\n",
       " 'Sum of x-averaged negative electrode volumetric interfacial current densities [A.m-3]',\n",
       " 'Sum of positive electrode electrolyte reaction source terms [A.m-3]',\n",
       " 'Sum of x-averaged positive electrode electrolyte reaction source terms [A.m-3]',\n",
       " 'Sum of positive electrode volumetric interfacial current densities [A.m-3]',\n",
       " 'Sum of x-averaged positive electrode volumetric interfacial current densities [A.m-3]',\n",
       " 'Interfacial current density [A.m-2]',\n",
       " 'Exchange current density [A.m-2]',\n",
       " 'Sum of volumetric interfacial current densities [A.m-3]',\n",
       " 'Sum of electrolyte reaction source terms [A.m-3]',\n",
       " 'Surface open-circuit voltage [V]',\n",
       " 'Bulk open-circuit voltage [V]',\n",
       " 'Particle concentration overpotential [V]',\n",
       " 'X-averaged reaction overpotential [V]',\n",
       " 'X-averaged SEI film overpotential [V]',\n",
       " 'X-averaged solid phase ohmic losses [V]',\n",
       " 'Battery open-circuit voltage [V]',\n",
       " 'Battery negative electrode bulk open-circuit potential [V]',\n",
       " 'Battery positive electrode bulk open-circuit potential [V]',\n",
       " 'Battery particle concentration overpotential [V]',\n",
       " 'Battery negative particle concentration overpotential [V]',\n",
       " 'Battery positive particle concentration overpotential [V]',\n",
       " 'X-averaged battery reaction overpotential [V]',\n",
       " 'X-averaged battery negative reaction overpotential [V]',\n",
       " 'X-averaged battery positive reaction overpotential [V]',\n",
       " 'X-averaged battery solid phase ohmic losses [V]',\n",
       " 'X-averaged battery negative solid phase ohmic losses [V]',\n",
       " 'X-averaged battery positive solid phase ohmic losses [V]',\n",
       " 'X-averaged battery electrolyte ohmic losses [V]',\n",
       " 'X-averaged battery concentration overpotential [V]',\n",
       " 'Battery voltage [V]',\n",
       " 'Local ECM resistance [Ohm]',\n",
       " 'Terminal power [W]',\n",
       " 'Power [W]',\n",
       " 'Resistance [Ohm]',\n",
       " 'Total lithium in negative electrode [mol]',\n",
       " 'LAM_ne [%]',\n",
       " 'Loss of active material in negative electrode [%]',\n",
       " 'Total lithium in positive electrode [mol]',\n",
       " 'LAM_pe [%]',\n",
       " 'Loss of active material in positive electrode [%]',\n",
       " 'LLI [%]',\n",
       " 'Loss of lithium inventory [%]',\n",
       " 'Loss of lithium inventory, including electrolyte [%]',\n",
       " 'Total lithium [mol]',\n",
       " 'Total lithium in particles [mol]',\n",
       " 'Total lithium capacity [A.h]',\n",
       " 'Total lithium capacity in particles [A.h]',\n",
       " 'Total lithium lost [mol]',\n",
       " 'Total lithium lost from particles [mol]',\n",
       " 'Total lithium lost from electrolyte [mol]',\n",
       " 'Total lithium lost to side reactions [mol]',\n",
       " 'Total capacity lost to side reactions [A.h]']"
      ]
     },
     "execution_count": 28,
     "metadata": {},
     "output_type": "execute_result"
    }
   ],
   "source": [
    "thermal_models_types = ['isothermal', 'lumped', 'x-full']\n",
    "thermal_models = []\n",
    "output_variables = [\n",
    "\t'Total heating [W]', \n",
    "\t['Volume-averaged Ohmic heating [W.m-3]',\n",
    " 'Ohmic heating per unit electrode-pair area [W.m-2]',\n",
    " 'Ohmic heating [W]'],  'Total heating per unit electrode-pair area [W.m-2]',\n",
    " 'Total heating [W]',\n",
    " 'Negative current collector Ohmic heating [W.m-3]',\n",
    " 'Positive current collector Ohmic heating [W.m-3]',\n",
    "]\n",
    "\n",
    "for i in range(len(thermal_models_types)):\n",
    "    model = pybamm.lithium_ion.DFN(options={\"thermal\": thermal_models_types[i]})\n",
    "    thermal_models.append(model)\n",
    "    simulation = pybamm.Simulation(model)\n",
    "    sol = simulation.solve([0, 1800])\n",
    "    sol.plot(output_variables=output_variables)\n",
    "\n",
    "model.variable_names()\n"
   ]
  },
  {
   "cell_type": "code",
   "execution_count": 29,
   "metadata": {},
   "outputs": [
    {
     "data": {
      "application/vnd.jupyter.widget-view+json": {
       "model_id": "917b6b35e01646618b055c95943954c9",
       "version_major": 2,
       "version_minor": 0
      },
      "text/plain": [
       "interactive(children=(FloatSlider(value=0.0, description='t', max=1.0, step=0.01), Output()), _dom_classes=('w…"
      ]
     },
     "metadata": {},
     "output_type": "display_data"
    },
    {
     "data": {
      "text/plain": [
       "<pybamm.plotting.quick_plot.QuickPlot at 0x31b06f6a0>"
      ]
     },
     "execution_count": 29,
     "metadata": {},
     "output_type": "execute_result"
    }
   ],
   "source": [
    "thermal_options = [\"isothermal\", \"x-full\", 'lumped']\n",
    "solutions = []\n",
    "\n",
    "for option in thermal_options:\n",
    "\tmodel = pybamm.lithium_ion.DFN(name=option, options={\"thermal\": option})\n",
    "\tsimulation = pybamm.Simulation(model)\n",
    "\tsolutions.append(simulation.solve([0, 3600]))\n",
    "\n",
    "pybamm.dynamic_plot(\n",
    "    solutions,\n",
    "    output_variables=[\n",
    "        \"Negative particle surface concentration [mol.m-3]\",\n",
    "        \"Electrolyte concentration [mol.m-3]\",\n",
    "        \"Positive particle surface concentration [mol.m-3]\",\n",
    "        \"Negative electrode potential [V]\",\n",
    "        \"Electrolyte potential [V]\",\n",
    "        \"Positive electrode potential [V]\",\n",
    "        \"Current [A]\",\n",
    "        \"Voltage [V]\",\n",
    "        \"Cell temperature [K]\",'Pressure [Pa]',\n",
    "    ],\n",
    "  )"
   ]
  },
  {
   "attachments": {},
   "cell_type": "markdown",
   "metadata": {},
   "source": [
    "### SEI growth\n",
    "There are multiple ways of simulating SEI growth, and PyBaMM has the following options:\n",
    "\n",
    "**None**: no SEI included\n",
    "\n",
    "**Constant**: Includes an SEI layer which does not grow\n",
    "\n",
    "**Reaction limited**: Assumes reaciton is the limiting phenomenon. It can also be specified to be asymmetric.\n",
    "\n",
    "**Solvent-diffusion limited**: Assumes the solvent diffusion is the limiting phenomenon. [Marquis (2020)](https://ora.ox.ac.uk/objects/uuid:8afdcc34-cc42-48ba-b316-96a6d0f33a45)\n",
    "\n",
    "**Electron-migration limited**: Assumes the migration of electrons is the limiting phenomenon. [Marquis (2020)](https://ora.ox.ac.uk/objects/uuid:8afdcc34-cc42-48ba-b316-96a6d0f33a45)\n",
    "\n",
    "**Interstitial-diffusion limited**: Assumes the diffusion of lithium-ion intestitials is the limiting phenomenon. [Marquis (2020)](https://ora.ox.ac.uk/objects/uuid:8afdcc34-cc42-48ba-b316-96a6d0f33a45)\n",
    "\n",
    "**EC reaciton limited**: Assumes the model is limited by both reaction and diffusions. [Yang et al (2017)](https://www.sciencedirect.com/science/article/abs/pii/S0378775317307619)\n",
    "\n",
    "[SEI Growth submodels](https://docs.pybamm.org/en/latest/source/api/models/base_models/base_battery_model.html#pybamm.BatteryModelOptions)"
   ]
  },
  {
   "cell_type": "code",
   "execution_count": 30,
   "metadata": {},
   "outputs": [
    {
     "ename": "SyntaxError",
     "evalue": "positional argument follows keyword argument (1213859800.py, line 1)",
     "output_type": "error",
     "traceback": [
      "\u001b[0;36m  Cell \u001b[0;32mIn[30], line 1\u001b[0;36m\u001b[0m\n\u001b[0;31m    model = pybamm.lithium_ion.DFN(name=option, 'SEI porosity change': \"true\")\u001b[0m\n\u001b[0m                                                                     ^\u001b[0m\n\u001b[0;31mSyntaxError\u001b[0m\u001b[0;31m:\u001b[0m positional argument follows keyword argument\n"
     ]
    }
   ],
   "source": [
    "model = pybamm.lithium_ion.DFN(name=option, 'SEI porosity change': \"true\")\n",
    "simulation = pybamm.Simulation(model)\n",
    "sol3 = simulation.solve(0, 3600, 100)\n",
    "sol3.plot()"
   ]
  },
  {
   "cell_type": "code",
   "execution_count": null,
   "metadata": {},
   "outputs": [
    {
     "data": {
      "application/vnd.jupyter.widget-view+json": {
       "model_id": "d7e7d4cfb65140be94939a9116e46148",
       "version_major": 2,
       "version_minor": 0
      },
      "text/plain": [
       "interactive(children=(FloatSlider(value=0.0, description='t', max=1.0, step=0.01), Output()), _dom_classes=('w…"
      ]
     },
     "metadata": {},
     "output_type": "display_data"
    },
    {
     "data": {
      "text/plain": [
       "<pybamm.plotting.quick_plot.QuickPlot at 0x3037cc5e0>"
      ]
     },
     "execution_count": 29,
     "metadata": {},
     "output_type": "execute_result"
    }
   ],
   "source": [
    "SEI_options = [\n",
    "    \"reaction limited\", \n",
    "    \"solvent-diffusion limited\", \n",
    "    \"interstitial-diffusion limited\"\n",
    "]\n",
    "solutions = []\n",
    "\n",
    "for option in SEI_options:\n",
    "\tmodel = pybamm.lithium_ion.DFN(\n",
    "        name=option, \n",
    "        options={\"SEI\": option, \"SEI porosity change\": \"true\"}\n",
    "    )\n",
    "\tsimulation = pybamm.Simulation(model)\n",
    "\tsolutions.append(simulation.solve([0, 3600]))\n",
    "\n",
    "pybamm.dynamic_plot(\n",
    "    solutions,\n",
    "    output_variables=[\n",
    "        'Loss of capacity to positive SEI [A.h]', 'Loss of capacity to negative SEI [A.h]', 'Loss of capacity to positive SEI on cracks [A.h]',\n",
    "        'Positive total SEI thickness [m]', 'Negative total SEI thickness [m]', 'Positive outer SEI thickness [m]',\n",
    "        'X-averaged positive SEI thickness [m]', 'X-averaged negative SEI thickness [m]', 'X-averaged positive total SEI thickness [m]',\n",
    "        \"Voltage [V]\",\n",
    "        \"Negative electrode porosity\",\n",
    "        \"X-averaged negative electrode porosity\",\n",
    "    ],\n",
    "  )"
   ]
  },
  {
   "attachments": {},
   "cell_type": "markdown",
   "metadata": {},
   "source": [
    "### Particle mechanics\n",
    "\n",
    "The models available on PyBaMM are:\n",
    "\n",
    "**None**: No mechanical effects included\n",
    "\n",
    "**Swelling only**: Accounts for the deformation of the particles in the lithiation-delithiation cycle\n",
    "\n",
    "**Swelling and cracking**: Accounts for swelling and also crack formation on the particle surface"
   ]
  },
  {
   "cell_type": "code",
   "execution_count": null,
   "metadata": {},
   "outputs": [],
   "source": [
    "model = pybamm.lithium_ion.DFN(\n",
    "    options={\"particle mechanics\": (\"swelling only\", \"none\")}\n",
    ")\n",
    "\n",
    "\tsimulation = pybamm.Simulation(model)\n",
    "\tsolutions.append(simulation.solve([0, 3600]))"
   ]
  },
  {
   "cell_type": "code",
   "execution_count": null,
   "metadata": {},
   "outputs": [
    {
     "data": {
      "application/vnd.jupyter.widget-view+json": {
       "model_id": "4289596011cf4d48ae41ac5b51181bd6",
       "version_major": 2,
       "version_minor": 0
      },
      "text/plain": [
       "interactive(children=(FloatSlider(value=0.0, description='t', max=1.0, step=0.01), Output()), _dom_classes=('w…"
      ]
     },
     "metadata": {},
     "output_type": "display_data"
    },
    {
     "data": {
      "text/plain": [
       "<pybamm.plotting.quick_plot.QuickPlot at 0x340e954c0>"
      ]
     },
     "execution_count": 132,
     "metadata": {},
     "output_type": "execute_result"
    }
   ],
   "source": [
    "model = pybamm.lithium_ion.DFN(\n",
    "    options={\"particle mechanics\": (\"swelling only\", \"swelling and cracking\")}\n",
    ")\n",
    "parameter_values = pybamm.ParameterValues(\"Ai2020\")\n",
    "simulation = pybamm.Simulation(model, parameter_values=parameter_values)\n",
    "solution = simulation.solve([0, 3600])\n",
    "\n",
    "solution.plot([\n",
    "    \"Negative particle surface radial stress [Pa]\",\n",
    "    \"Negative particle surface tangential stress [Pa]\",\n",
    "    \"Negative particle surface displacement [m]\",\n",
    "\t\"Negative particle crack length [m]\",\n",
    "    \"Positive particle surface radial stress [Pa]\",\n",
    "    \"Positive particle surface tangential stress [Pa]\",\n",
    "    \"Positive particle surface displacement [m]\",\n",
    "    \"Positive particle crack length [m]\",\n",
    "])"
   ]
  },
  {
   "attachments": {},
   "cell_type": "markdown",
   "metadata": {},
   "source": [
    "## Lesson 6: Final excercises"
   ]
  },
  {
   "attachments": {},
   "cell_type": "markdown",
   "metadata": {},
   "source": [
    "### Excercise 1: Coupled degredation mechanisms"
   ]
  },
  {
   "cell_type": "code",
   "execution_count": null,
   "metadata": {},
   "outputs": [],
   "source": []
  },
  {
   "attachments": {},
   "cell_type": "markdown",
   "metadata": {},
   "source": [
    "# PyBaMM Model Development"
   ]
  },
  {
   "attachments": {},
   "cell_type": "markdown",
   "metadata": {},
   "source": [
    "## Lesson 1: ODE models in PyBaMM"
   ]
  },
  {
   "attachments": {},
   "cell_type": "markdown",
   "metadata": {},
   "source": [
    "### A simple ODE  battery model\n",
    "\n",
    "The reservoir model is as follows:\n",
    "\n",
    "$$\\begin{align*}\\frac{dx_n}{dt}&=-\\frac{I(t)}{Q_n},\\\\\n",
    "\\frac{dx_p}{dt}&=\\frac{I(t)}{Q_p},\\\\\n",
    "V(t)&=U_p(x_p)-U_n(x_n)-I(t)R,\\\\\n",
    "x_n(0)&=x_{n0},\\\\\n",
    "x_p(0)&=x_{p0},\n",
    "\\end{align*}$$\n",
    "\n",
    "where $x_n$​ and $x_p$ are the dimensionless stochiometries of the negative and positive electrodes, $I(t)$ is the current, $Q_n$ and $Q_p$ are the capacities of the negative and positive electrodes, $U_p(x_p)$ and $U_n(x_n)$ are the open circuit potentials of the positive and negative electrodes, and $R$ is the resistance of the battery."
   ]
  },
  {
   "attachments": {},
   "cell_type": "markdown",
   "metadata": {},
   "source": [
    "#### PyBaMM variables"
   ]
  },
  {
   "cell_type": "code",
   "execution_count": null,
   "metadata": {},
   "outputs": [],
   "source": [
    "x_n = pybamm.Variable(\"Negative electrode stochiometry\")\n",
    "x_p = pybamm.Variable(\"Positive electrode stochiometry\")"
   ]
  },
  {
   "attachments": {},
   "cell_type": "markdown",
   "metadata": {},
   "source": [
    "#### PyBaMM parameters"
   ]
  },
  {
   "cell_type": "code",
   "execution_count": null,
   "metadata": {},
   "outputs": [],
   "source": [
    "i = pybamm.FunctionParameter(\"Current function [A]\", {\"Time [s]\": pybamm.t})\n",
    "x_n_0 = pybamm.Parameter(\"Initial negative electrode stochiometry\")\n",
    "x_p_0 = pybamm.Parameter(\"Initial positive electrode stochiometry\")\n",
    "U_p = pybamm.FunctionParameter(\"Positive electrode OCV [V]\", {\"x_p\": x_p})\n",
    "U_n = pybamm.FunctionParameter(\"Negative electrode OCV [V]\", {\"x_n\": x_n})\n",
    "Q_n = pybamm.Parameter(\"Negative electrode capacity [A.h]\")\n",
    "Q_p = pybamm.Parameter(\"Positive electrode capacity [A.h]\")\n",
    "R = pybamm.Parameter(\"Electrode resistance [Ohm]\")"
   ]
  },
  {
   "attachments": {},
   "cell_type": "markdown",
   "metadata": {},
   "source": [
    "#### A PyBaMM Model"
   ]
  },
  {
   "cell_type": "code",
   "execution_count": null,
   "metadata": {},
   "outputs": [
    {
     "name": "stderr",
     "output_type": "stream",
     "text": [
      "2024-07-02 14:06:22.650 - [ERROR] symbol.visualise(498): Please install graphviz>=2.42.2 to use dot exporter\n"
     ]
    },
    {
     "name": "stdout",
     "output_type": "stream",
     "text": [
      "-Current function [A] / Negative electrode capacity [A.h]\n",
      "time\n"
     ]
    }
   ],
   "source": [
    "model = pybamm.BaseModel(\"reservoir model\")\n",
    "model.rhs[x_n] = -i / Q_n\n",
    "model.initial_conditions[x_n] = x_n_0\n",
    "model.rhs[x_p] = i / Q_p\n",
    "model.initial_conditions[x_p] = x_p_0\n",
    "\n",
    "model.variables[\"Voltage [V]\"] = U_p - U_n -  i * R\n",
    "model.variables[\"Negative electrode stochiometry\"] = x_n\n",
    "model.variables[\"Positive electrode stochiometry\"] = x_p\n",
    "\n",
    "model.rhs[x_n].visualise(\"x_n_rhs.png\")\n",
    "print(model.rhs[x_n])\n",
    "print(model.rhs[x_n].children[0].children[0].children[0])"
   ]
  },
  {
   "attachments": {},
   "cell_type": "markdown",
   "metadata": {},
   "source": [
    "#### PyBaMM events"
   ]
  },
  {
   "cell_type": "code",
   "execution_count": null,
   "metadata": {},
   "outputs": [],
   "source": [
    "stop_at_t_equal_3 = pybamm.Event(\"Stop at t = 3\", pybamm.t - 3)\n",
    "model.events = [stop_at_t_equal_3]\n",
    "\n",
    "model.events = [\n",
    "    pybamm.Event(\"Minimum negative stochiometry\", x_n - 0),\n",
    "    pybamm.Event(\"Maximum negative stochiometry\", 1 - x_n),\n",
    "    pybamm.Event(\"Minimum positive stochiometry\", x_p - 0),\n",
    "    pybamm.Event(\"Maximum positive stochiometry\", 1 - x_p),\n",
    "]"
   ]
  },
  {
   "attachments": {},
   "cell_type": "markdown",
   "metadata": {},
   "source": [
    "#### PyBaMM parameter values"
   ]
  },
  {
   "cell_type": "code",
   "execution_count": null,
   "metadata": {},
   "outputs": [],
   "source": [
    "def graphite_LGM50_ocp_Chen2020(sto):\n",
    "  u_eq = (\n",
    "      1.9793 * np.exp(-39.3631 * sto)\n",
    "      + 0.2482\n",
    "      - 0.0909 * np.tanh(29.8538 * (sto - 0.1234))\n",
    "      - 0.04478 * np.tanh(14.9159 * (sto - 0.2769))\n",
    "      - 0.0205 * np.tanh(30.4444 * (sto - 0.6103))\n",
    "  )\n",
    "\n",
    "  return u_eq\n",
    "\n",
    "def nmc_LGM50_ocp_Chen2020(sto):\n",
    "  u_eq = (\n",
    "      -0.8090 * sto\n",
    "      + 4.4875\n",
    "      - 0.0428 * np.tanh(18.5138 * (sto - 0.5542))\n",
    "      - 17.7326 * np.tanh(15.7890 * (sto - 0.3117))\n",
    "      + 17.5842 * np.tanh(15.9308 * (sto - 0.3120))\n",
    "  )\n",
    "  \n",
    "  return u_eq\n",
    "\n",
    "param = pybamm.ParameterValues({\n",
    "  \"Current function [A]\": lambda t: 1+ 0.5*pybamm.sin(100*t),\n",
    "  \"Initial negative electrode stochiometry\": 0.9,\n",
    "  \"Initial positive electrode stochiometry\": 0.1,\n",
    "  \"Negative electrode capacity [A.h]\": 1,\n",
    "  \"Positive electrode capacity [A.h]\": 1,\n",
    "  \"Electrode resistance [Ohm]\": 0.3,\n",
    "  \"Positive electrode OCV [V]\": nmc_LGM50_ocp_Chen2020,\n",
    "  \"Negative electrode OCV [V]\": graphite_LGM50_ocp_Chen2020,\n",
    "  \n",
    "})"
   ]
  },
  {
   "attachments": {},
   "cell_type": "markdown",
   "metadata": {},
   "source": [
    "#### Solving the model"
   ]
  },
  {
   "cell_type": "code",
   "execution_count": null,
   "metadata": {},
   "outputs": [
    {
     "data": {
      "application/vnd.jupyter.widget-view+json": {
       "model_id": "f0f48d4f73384b1b874e2720862ad307",
       "version_major": 2,
       "version_minor": 0
      },
      "text/plain": [
       "interactive(children=(FloatSlider(value=0.0, description='t', max=0.8951209869222051, step=0.00895120986922205…"
      ]
     },
     "metadata": {},
     "output_type": "display_data"
    },
    {
     "data": {
      "text/plain": [
       "<pybamm.plotting.quick_plot.QuickPlot at 0x16da2dfd0>"
      ]
     },
     "execution_count": 34,
     "metadata": {},
     "output_type": "execute_result"
    }
   ],
   "source": [
    "sim = pybamm.Simulation(model, parameter_values=param)\n",
    "sol = sim.solve([0, 3])\n",
    "sol.plot([\"Voltage [V]\", \"Negative electrode stochiometry\", \"Positive electrode stochiometry\"])"
   ]
  },
  {
   "attachments": {},
   "cell_type": "markdown",
   "metadata": {},
   "source": [
    "## Lesson 2: PDE models in PyBaMM"
   ]
  },
  {
   "attachments": {},
   "cell_type": "markdown",
   "metadata": {},
   "source": [
    "### Creating a simple PDE model\n",
    "\n",
    "We are going to consider linear diffusion of a unit sphere, $$\\frac{\\partial c}{\\partial t}=\\nabla\\cdot(\\nabla c)$$with the following boundary and initial conditions: $$\\left.\\frac{\\partial c}{\\partial t}\\right \\lvert _{r=0}=0,\\hspace{20pt} \\left.\\frac{\\partial c}{\\partial t}\\right \\lvert _{r=1}=2,\\hspace{20pt} c\\lvert_{t=0}=1.$$"
   ]
  },
  {
   "attachments": {},
   "cell_type": "markdown",
   "metadata": {},
   "source": [
    "#### Setting up the model"
   ]
  },
  {
   "cell_type": "code",
   "execution_count": null,
   "metadata": {},
   "outputs": [],
   "source": [
    "model = pybamm.BaseModel()\n",
    "\n",
    "c = pybamm.Variable(\"Concentration\", domain=\"negative particle\")\n",
    "\n",
    "N = -pybamm.grad(c)  # define the flux\n",
    "dcdt = -pybamm.div(N)  # define the rhs equation\n",
    "\n",
    "model.rhs = {c: dcdt}  # add the equation to rhs dictionary\n",
    "\n",
    "# initial conditions\n",
    "model.initial_conditions = {c: pybamm.Scalar(1)}\n",
    "\n",
    "# boundary conditions\n",
    "lbc = pybamm.Scalar(0)\n",
    "rbc = pybamm.Scalar(2)\n",
    "model.boundary_conditions = {c: {\"left\": (lbc, \"Neumann\"), \"right\": (rbc, \"Neumann\")}}\n",
    "\n",
    "model.variables = {\"Concentration\": c, \"Flux\": N}"
   ]
  },
  {
   "attachments": {},
   "cell_type": "markdown",
   "metadata": {},
   "source": [
    "### Using the model"
   ]
  },
  {
   "attachments": {},
   "cell_type": "markdown",
   "metadata": {},
   "source": [
    "#### Defining a geometry"
   ]
  },
  {
   "cell_type": "code",
   "execution_count": null,
   "metadata": {},
   "outputs": [],
   "source": [
    "# define geometry\n",
    "r = pybamm.SpatialVariable(\n",
    "    \"r\", domain=[\"negative particle\"], coord_sys=\"spherical polar\"\n",
    ")\n",
    "\n",
    "geometry = {\"negative particle\": {r: {\"min\": pybamm.Scalar(0), \"max\": pybamm.Scalar(1)}}}"
   ]
  },
  {
   "attachments": {},
   "cell_type": "markdown",
   "metadata": {},
   "source": [
    "#### Defining a mesh"
   ]
  },
  {
   "cell_type": "code",
   "execution_count": null,
   "metadata": {},
   "outputs": [],
   "source": [
    "# mesh and discretise\n",
    "submesh_types = {\"negative particle\": pybamm.Uniform1DSubMesh}\n",
    "var_pts = {r: 20}\n",
    "mesh = pybamm.Mesh(geometry, submesh_types, var_pts)"
   ]
  },
  {
   "attachments": {},
   "cell_type": "markdown",
   "metadata": {},
   "source": [
    "#### Discetising the domains"
   ]
  },
  {
   "cell_type": "code",
   "execution_count": null,
   "metadata": {},
   "outputs": [],
   "source": [
    "spatial_methods = {\"negative particle\": pybamm.FiniteVolume()}\n",
    "disc = pybamm.Discretisation(mesh, spatial_methods)\n",
    "disc.process_model(model);"
   ]
  },
  {
   "attachments": {},
   "cell_type": "markdown",
   "metadata": {},
   "source": [
    "#### Solving the model"
   ]
  },
  {
   "cell_type": "code",
   "execution_count": null,
   "metadata": {},
   "outputs": [
    {
     "data": {
      "image/png": "[encoded data removed]",
      "text/plain": [
       "<Figure size 1300x400 with 2 Axes>"
      ]
     },
     "metadata": {},
     "output_type": "display_data"
    }
   ],
   "source": [
    "# solve\n",
    "solver = pybamm.ScipySolver()\n",
    "t = np.linspace(0, 1, 100)\n",
    "solution = solver.solve(model, t)\n",
    "\n",
    "# post-process, so that the solution can be called at any time t or space r\n",
    "# (using interpolation)\n",
    "c = solution[\"Concentration\"]\n",
    "\n",
    "# plot\n",
    "fig, (ax1, ax2) = plt.subplots(1, 2, figsize=(13, 4))\n",
    "\n",
    "ax1.plot(solution.t, c(solution.t, r=1))\n",
    "ax1.set_xlabel(\"t\")\n",
    "ax1.set_ylabel(\"Surface concentration\")\n",
    "r = np.linspace(0, 1, 100)\n",
    "ax2.plot(r, c(t=0.5, r=r))\n",
    "ax2.set_xlabel(\"r\")\n",
    "ax2.set_ylabel(\"Concentration at t=0.5\")\n",
    "plt.tight_layout()\n",
    "plt.show()"
   ]
  },
  {
   "attachments": {},
   "cell_type": "markdown",
   "metadata": {},
   "source": [
    "### Excercise: Create a single particle PDE model"
   ]
  },
  {
   "attachments": {},
   "cell_type": "markdown",
   "metadata": {},
   "source": [
    "$$\\frac{\\partial c}{\\partial t}=\\nabla\\cdot(D\\nabla c)$$\n",
    "with the following boundary and initial conditions: $$\\left.\\frac{\\partial c}{\\partial r}\\right \\lvert _{r=0}=0,\\hspace{20pt} \\left.\\frac{\\partial c}{\\partial r}\\right \\lvert _{r=R}=-\\frac {j}{FD},\\hspace{20pt} c\\lvert_{t=0}=c_0.$$"
   ]
  },
  {
   "cell_type": "code",
   "execution_count": null,
   "metadata": {},
   "outputs": [
    {
     "data": {
      "image/png": "[encoded data removed]",
      "text/plain": [
       "<Figure size 1300x400 with 2 Axes>"
      ]
     },
     "metadata": {},
     "output_type": "display_data"
    }
   ],
   "source": [
    "model = pybamm.BaseModel()\n",
    "\n",
    "#Define parameters\n",
    "c_0 = pybamm.Parameter(\"Initial conectration\")\n",
    "R = pybamm.Parameter(\"Particle Radius\")\n",
    "D = pybamm.Parameter(\"Diffusion coefficient\")\n",
    "j = pybamm.Parameter(\"Interfacial current density\")\n",
    "F = pybamm.Parameter(\"Faraday's constant\")\n",
    "\n",
    "#Define variable\n",
    "c = pybamm.Variable(\"Concentration\", domain=\"negative particle\")\n",
    "\n",
    "#Governing equations\n",
    "N = -D*pybamm.grad(c)  # define the flux\n",
    "dcdt = -pybamm.div(N)  # define the rhs equation\n",
    "model.rhs = {c: dcdt}  # add the equation to rhs dictionary\n",
    "\n",
    "# initial conditions\n",
    "model.initial_conditions = {c: c_0}\n",
    "\n",
    "# boundary conditions\n",
    "lbc = pybamm.Scalar(0)\n",
    "rbc = - j / F/D\n",
    "model.boundary_conditions = {c: {\"left\": (lbc, \"Neumann\"), \"right\": (rbc, \"Neumann\")}}\n",
    "\n",
    "model.variables = {\n",
    "    \"Concentration\": c,\n",
    "    \"Surface concentration [mol.m-3]\": pybamm.surf(c),\n",
    "    \"Flux\": N,\n",
    "}\n",
    "\n",
    "param = pybamm.ParameterValues(\n",
    "    {\n",
    "        \"Initial conectration\": 2.5*10**4,\n",
    "        \"Particle Radius\": 10*10**(-6),\n",
    "        \"Diffusion coefficient\": 3.9*10**(-14),\n",
    "        \"Interfacial current density\": 1.4,\n",
    "        \"Faraday's constant\": 96485,\n",
    "    }\n",
    ")\n",
    "\n",
    "# define geometry\n",
    "r = pybamm.SpatialVariable(\"r\", domain=[\"negative particle\"], coord_sys=\"spherical polar\")\n",
    "geometry = {\"negative particle\": {r: {\"min\": pybamm.Scalar(0), \"max\": R}}}\n",
    "\n",
    "param.process_model(model)\n",
    "param.process_geometry(geometry)\n",
    "\n",
    "# mesh and discretise\n",
    "submesh_types = {\"negative particle\": pybamm.Uniform1DSubMesh}\n",
    "var_pts = {r: 20}\n",
    "mesh = pybamm.Mesh(geometry, submesh_types, var_pts)\n",
    "\n",
    "spatial_methods = {\"negative particle\": pybamm.FiniteVolume()}\n",
    "disc = pybamm.Discretisation(mesh, spatial_methods)\n",
    "disc.process_model(model)\n",
    "\n",
    "# solve\n",
    "solver = pybamm.ScipySolver()\n",
    "t = np.linspace(0, 3600, 600)\n",
    "solution = solver.solve(model, t)\n",
    "\n",
    "# post-process, so that the solution can be called at any time t or space r\n",
    "# (using interpolation)\n",
    "c = solution[\"Concentration\"]\n",
    "c_surf = solution[\"Surface concentration [mol.m-3]\"]\n",
    "\n",
    "# plot\n",
    "fig, (ax1, ax2) = plt.subplots(1, 2, figsize=(13, 4))\n",
    "\n",
    "ax1.plot(solution.t, c_surf(solution.t))\n",
    "ax1.set_xlabel(\"t\")\n",
    "ax1.set_ylabel(\"Surface concentration\")\n",
    "\n",
    "r = mesh[\"negative particle\"].nodes # radial position\n",
    "time = 1000  # time in seconds\n",
    "ax2.plot(r * 1e6, c(t=time, r=r), label=\"t={}[s]\".format(time))\n",
    "ax2.set_xlabel(\"Particle radius [microns]\")\n",
    "ax2.set_ylabel(\"Concentration [mol.m-3]\")\n",
    "ax2.legend()\n",
    "\n",
    "plt.tight_layout()\n",
    "plt.show()"
   ]
  },
  {
   "cell_type": "code",
   "execution_count": null,
   "metadata": {},
   "outputs": [
    {
     "data": {
      "image/png": "[encoded data removed]",
      "text/plain": [
       "<Figure size 1300x400 with 2 Axes>"
      ]
     },
     "metadata": {},
     "output_type": "display_data"
    }
   ],
   "source": [
    "import pybamm\n",
    "import numpy as np\n",
    "import matplotlib.pyplot as plt\n",
    "\n",
    "model = pybamm.BaseModel()\n",
    "\n",
    "# define parameters\n",
    "R = pybamm.Parameter(\"Particle radius [m]\")\n",
    "D = pybamm.Parameter(\"Diffusion coefficient [m2.s-1]\")\n",
    "j = pybamm.Parameter(\"Interfacial current density [A.m-2]\")\n",
    "F = pybamm.Parameter(\"Faraday constant [C.mol-1]\")\n",
    "c0 = pybamm.Parameter(\"Initial concentration [mol.m-3]\")\n",
    "\n",
    "# define variable\n",
    "c = pybamm.Variable(\"Concentration [mol.m-3]\", domain=\"negative particle\")\n",
    "\n",
    "# governing equations\n",
    "N = -D * pybamm.grad(c)  # flux\n",
    "dcdt = -pybamm.div(N)\n",
    "model.rhs = {c: dcdt}  \n",
    "\n",
    "# boundary conditions \n",
    "lbc = pybamm.Scalar(0)\n",
    "rbc = -j / F / D\n",
    "model.boundary_conditions = {c: {\"left\": (lbc, \"Neumann\"), \"right\": (rbc, \"Neumann\")}}\n",
    "\n",
    "# initial conditions \n",
    "model.initial_conditions = {c: c0}\n",
    "\n",
    "model.variables = {\n",
    "    \"Concentration [mol.m-3]\": c,\n",
    "    \"Surface concentration [mol.m-3]\": pybamm.surf(c),\n",
    "    \"Flux [mol.m-2.s-1]\": N,\n",
    "}\n",
    "\n",
    "param = pybamm.ParameterValues(\n",
    "    {\n",
    "        \"Particle radius [m]\": 10e-6,\n",
    "        \"Diffusion coefficient [m2.s-1]\": 3.9e-14,\n",
    "        \"Interfacial current density [A.m-2]\": 1.4,\n",
    "        \"Faraday constant [C.mol-1]\": 96485,\n",
    "        \"Initial concentration [mol.m-3]\": 2.5e4,\n",
    "    }\n",
    ")\n",
    "\n",
    "r = pybamm.SpatialVariable(\"r\", domain=[\"negative particle\"], coord_sys=\"spherical polar\")\n",
    "geometry = {\"negative particle\": {r: {\"min\": pybamm.Scalar(0), \"max\": R}}}\n",
    "\n",
    "param.process_model(model)\n",
    "param.process_geometry(geometry)\n",
    "\n",
    "submesh_types = {\"negative particle\": pybamm.Uniform1DSubMesh}\n",
    "var_pts = {r: 20}\n",
    "mesh = pybamm.Mesh(geometry, submesh_types, var_pts)\n",
    "\n",
    "spatial_methods = {\"negative particle\": pybamm.FiniteVolume()}\n",
    "disc = pybamm.Discretisation(mesh, spatial_methods)\n",
    "disc.process_model(model)\n",
    "\n",
    "# solve\n",
    "solver = pybamm.ScipySolver()\n",
    "t = np.linspace(0, 3600, 600)\n",
    "solution = solver.solve(model, t)\n",
    "\n",
    "# post-process, so that the solution can be called at any time t or space r\n",
    "# (using interpolation)\n",
    "c = solution[\"Concentration [mol.m-3]\"]\n",
    "c_surf = solution[\"Surface concentration [mol.m-3]\"]\n",
    "\n",
    "# plot\n",
    "fig, (ax1, ax2) = plt.subplots(1, 2, figsize=(13, 4))\n",
    "\n",
    "ax1.plot(solution.t, c_surf(solution.t))\n",
    "ax1.set_xlabel(\"Time [s]\")\n",
    "ax1.set_ylabel(\"Surface concentration [mol.m-3]\")\n",
    "\n",
    "r = mesh[\"negative particle\"].nodes # radial position\n",
    "time = 1000  # time in seconds\n",
    "ax2.plot(r * 1e6, c(t=time, r=r), label=\"t={}[s]\".format(time))\n",
    "ax2.set_xlabel(\"Particle radius [microns]\")\n",
    "ax2.set_ylabel(\"Concentration [mol.m-3]\")\n",
    "ax2.legend()\n",
    "\n",
    "plt.tight_layout()\n",
    "plt.show()"
   ]
  },
  {
   "attachments": {},
   "cell_type": "markdown",
   "metadata": {},
   "source": [
    "## Lesson 3: Single Particle Model"
   ]
  },
  {
   "attachments": {},
   "cell_type": "markdown",
   "metadata": {},
   "source": [
    "### The single particle model state equations\n",
    "\n",
    "The SPM model is given by $$\\frac{\\partial c_i}{\\partial t}=\\nabla\\cdot(D_i\\nabla c_i)$$with the following boundary and initial conditions: $$\\left.\\frac{\\partial c_i}{\\partial t}\\right \\lvert _{r=0}=0,\\hspace{20pt} \\left.\\frac{\\partial c}{\\partial t}\\right \\lvert _{r=1}=-j_i,\\hspace{20pt} c\\lvert_{t=0}=c_i^0$$\n",
    "\n",
    "Where $c_i$ is the concentration of lithium ions in the positive $(i=n)$ or negative $(i=p)$ electrode, $D_i$ is the diffusion coefficient, $j_i$ is thhe interfacial current density, and $c_i^0$ is the concentration at the particle surface. \n",
    "\n",
    "The primary difference between this and the previous model is that $j_i$ is dependent on the current, $I$: $$j_n=\\frac{I}{a_n\\delta_nFA}\\hspace{30pt}j_p=\\frac{-I}{a_p\\delta_pFA}$$\n",
    "\n",
    "Where $a_i = 3\\varepsilon_i/R_i$ is the specific surface area of the electrode, $\\varepsilon_i$ is the volume fractoin of active material, $\\delta_i$ is the thickness of the electrode, $F$ is the Faraday constant, and $A$ is the electrode surface area."
   ]
  },
  {
   "cell_type": "code",
   "execution_count": null,
   "metadata": {},
   "outputs": [
    {
     "ename": "NameError",
     "evalue": "name 'c' is not defined",
     "output_type": "error",
     "traceback": [
      "\u001b[0;31m---------------------------------------------------------------------------\u001b[0m",
      "\u001b[0;31mNameError\u001b[0m                                 Traceback (most recent call last)",
      "Cell \u001b[0;32mIn[2], line 29\u001b[0m\n\u001b[1;32m     27\u001b[0m lbc \u001b[39m=\u001b[39m pybamm\u001b[39m.\u001b[39mScalar(\u001b[39m0\u001b[39m)\n\u001b[1;32m     28\u001b[0m rbc \u001b[39m=\u001b[39m \u001b[39m-\u001b[39mj \u001b[39m/\u001b[39m F \u001b[39m/\u001b[39m A\n\u001b[0;32m---> 29\u001b[0m model\u001b[39m.\u001b[39mboundary_conditions \u001b[39m=\u001b[39m {c: {\u001b[39m\"\u001b[39m\u001b[39mleft\u001b[39m\u001b[39m\"\u001b[39m: (lbc, \u001b[39m\"\u001b[39m\u001b[39mNeumann\u001b[39m\u001b[39m\"\u001b[39m), \u001b[39m\"\u001b[39m\u001b[39mright\u001b[39m\u001b[39m\"\u001b[39m: (rbc, \u001b[39m\"\u001b[39m\u001b[39mNeumann\u001b[39m\u001b[39m\"\u001b[39m)}}\n\u001b[1;32m     31\u001b[0m \u001b[39m# initial conditions \u001b[39;00m\n\u001b[1;32m     32\u001b[0m model\u001b[39m.\u001b[39minitial_conditions \u001b[39m=\u001b[39m {c: c0}\n",
      "\u001b[0;31mNameError\u001b[0m: name 'c' is not defined"
     ]
    }
   ],
   "source": [
    "import pybamm\n",
    "import numpy as np\n",
    "import matplotlib.pyplot as plt\n",
    "\n",
    "model = pybamm.BaseModel()\n",
    "\n",
    "# define parameters\n",
    "R = pybamm.Parameter(\"Particle radius [m]\")\n",
    "D = pybamm.Parameter(\"Diffusion coefficient [m2.s-1]\")\n",
    "j = pybamm.Parameter(\"Interfacial current density [A.m-2]\")\n",
    "F = pybamm.Parameter(\"Faraday constant [C.mol-1]\")\n",
    "c0 = pybamm.Parameter(\"Initial concentration [mol.m-3]\")\n",
    "A = pybamm.Parameter(\"Electrode surface area [m2]\")\n",
    "\n",
    "I = pybamm.FunctionParameter(\"Current function [A]\", {\"Time [s]\": pybamm.t})\n",
    "\n",
    "# define variable\n",
    "c_n = pybamm.Variable(\"Concentration [mol.m-3]\", domain=\"negative particle\")\n",
    "c_p = pybamm.Variable(\"Concentration [mol.m-3]\", domain=\"positive particle\")\n",
    "\n",
    "# governing equations\n",
    "N_n = -D * pybamm.grad(c_n)  # flux\n",
    "dcdt_n = -pybamm.div(N_n)\n",
    "model.rhs = {c_n: dcdt_n}  \n",
    "\n",
    "# boundary conditions \n",
    "lbc = pybamm.Scalar(0)\n",
    "rbc = -j / F / A\n",
    "model.boundary_conditions = {c: {\"left\": (lbc, \"Neumann\"), \"right\": (rbc, \"Neumann\")}}\n",
    "\n",
    "# initial conditions \n",
    "model.initial_conditions = {c: c0}\n",
    "\n",
    "model.variables = {\n",
    "    \"Concentration [mol.m-3]\": c,\n",
    "    \"Surface concentration [mol.m-3]\": pybamm.surf(c),\n",
    "    \"Flux [mol.m-2.s-1]\": N,\n",
    "}\n",
    "\n",
    "param = pybamm.ParameterValues(\n",
    "    {\n",
    "        \"Particle radius [m]\": 10e-6,\n",
    "        \"Diffusion coefficient [m2.s-1]\": 3.9e-14,\n",
    "        \"Interfacial current density [A.m-2]\": 1.4,\n",
    "        \"Faraday constant [C.mol-1]\": 96485,\n",
    "        \"Initial concentration [mol.m-3]\": 2.5e4,\n",
    "    }\n",
    ")"
   ]
  }
 ],
 "metadata": {
  "kernelspec": {
   "display_name": "Python 3",
   "language": "python",
   "name": "python3"
  },
  "language_info": {
   "codemirror_mode": {
    "name": "ipython",
    "version": 3
   },
   "file_extension": ".py",
   "mimetype": "text/x-python",
   "name": "python",
   "nbconvert_exporter": "python",
   "pygments_lexer": "ipython3",
   "version": "3.9.6"
  },
  "orig_nbformat": 4
 },
 "nbformat": 4,
 "nbformat_minor": 2
}
